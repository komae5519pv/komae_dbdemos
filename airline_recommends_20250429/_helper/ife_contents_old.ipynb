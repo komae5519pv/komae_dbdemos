{
 "cells": [
  {
   "cell_type": "code",
   "execution_count": 0,
   "metadata": {
    "application/vnd.databricks.v1+cell": {
     "cellMetadata": {
      "byteLimit": 2048000,
      "rowLimit": 10000
     },
     "inputWidgets": {},
     "nuid": "b8e1c335-36a7-477c-8e3a-66ed5955e80d",
     "showTitle": false,
     "tableResultSettingsMap": {},
     "title": ""
    },
    "jupyter": {
     "outputs_hidden": true
    }
   },
   "outputs": [],
   "source": [
    "# %run ../00_config"
   ]
  },
  {
   "cell_type": "code",
   "execution_count": 0,
   "metadata": {
    "application/vnd.databricks.v1+cell": {
     "cellMetadata": {
      "byteLimit": 2048000,
      "rowLimit": 10000
     },
     "inputWidgets": {},
     "nuid": "809c52ff-daac-431e-bb1b-a714dcbde9d3",
     "showTitle": false,
     "tableResultSettingsMap": {},
     "title": ""
    }
   },
   "outputs": [],
   "source": [
    "print(\"コンテンツマスタのCSVファイルを作成します...\")"
   ]
  },
  {
   "cell_type": "code",
   "execution_count": 0,
   "metadata": {
    "application/vnd.databricks.v1+cell": {
     "cellMetadata": {
      "byteLimit": 2048000,
      "rowLimit": 10000
     },
     "inputWidgets": {},
     "nuid": "9e511ff8-c473-4d53-82c6-5d57e2e18eae",
     "showTitle": false,
     "tableResultSettingsMap": {},
     "title": ""
    }
   },
   "outputs": [],
   "source": [
    "from pyspark.sql import Row\n",
    "from pyspark.sql.functions import col\n",
    "import random\n",
    "\n",
    "# ============================================================\n",
    "# テーブル: ife_contents（機内エンタメコンテンツマスタ）サンプル\n",
    "# ============================================================\n",
    "\n",
    "# ---------- 設定 ----------\n",
    "# GitHubイメージベースURL（仮：後であなたが修正）\n",
    "git_owner  = \"komae5519pv\"\n",
    "git_repo   = \"komae_dbdemos\"\n",
    "git_img_dir = \"/airline_recommends_20250429/_images\"\n",
    "\n",
    "def make_img_url(file_name: str) -> str:\n",
    "    \"\"\"画像URLを組み立て\"\"\"\n",
    "    return f\"https://github.com/{git_owner}/{git_repo}/blob/main{git_img_dir}/{file_name}?raw=true\"\n",
    "\n",
    "# ---------- 固定リスト ----------\n",
    "contents = [\n",
    "    # 映画、ドラマ (1〜20)\n",
    "    {\"content_id\": i, \"content_category\": \"映画、ドラマ\", \"content_img_url\": make_img_url(f\"{i}.png\")}\n",
    "    for i in range(1, 21)\n",
    "] + [\n",
    "    # 観光情報 (21〜22)\n",
    "    {\"content_id\": 21, \"content_category\": \"観光情報\", \"content_img_url\": make_img_url(\"21.png\")},\n",
    "    {\"content_id\": 22, \"content_category\": \"観光情報\", \"content_img_url\": make_img_url(\"22.png\")},\n",
    "    # 食事・グルメ情報 (23〜24)\n",
    "    {\"content_id\": 23, \"content_category\": \"食事・グルメ情報\", \"content_img_url\": make_img_url(\"23.png\")},\n",
    "    {\"content_id\": 24, \"content_category\": \"食事・グルメ情報\", \"content_img_url\": make_img_url(\"24.png\")},\n",
    "    # 移送手段や便利な情報 (25〜26)\n",
    "    {\"content_id\": 25, \"content_category\": \"移送手段や便利な情報\", \"content_img_url\": make_img_url(\"25.png\")},\n",
    "    {\"content_id\": 26, \"content_category\": \"移送手段や便利な情報\", \"content_img_url\": make_img_url(\"26.png\")},\n",
    "    # リラックスできるコンテンツ (27〜28)\n",
    "    {\"content_id\": 27, \"content_category\": \"リラックスできるコンテンツ\", \"content_img_url\": make_img_url(\"27.png\")},\n",
    "    {\"content_id\": 28, \"content_category\": \"リラックスできるコンテンツ\", \"content_img_url\": make_img_url(\"28.png\")},\n",
    "    # 文化やマナーに関する情報 (29〜30)\n",
    "    {\"content_id\": 29, \"content_category\": \"文化やマナーに関する情報\", \"content_img_url\": make_img_url(\"29.png\")},\n",
    "    {\"content_id\": 30, \"content_category\": \"文化やマナーに関する情報\", \"content_img_url\": make_img_url(\"30.png\")}\n",
    "]\n",
    "\n",
    "# ---------- 行レコードを組み立て ----------\n",
    "rows = []\n",
    "for content in contents:\n",
    "    # duration_secはカテゴリごとにそれっぽい乱数を割り当て\n",
    "    if content[\"content_category\"] == \"映画、ドラマ\":\n",
    "        duration_sec = random.randint(90*60, 120*60)  # 90〜120分\n",
    "    else:\n",
    "        duration_sec = random.randint(5*60, 15*60)    # 5〜15分\n",
    "\n",
    "    rows.append(\n",
    "        Row(\n",
    "            content_id       = content[\"content_id\"],\n",
    "            content_category = content[\"content_category\"],\n",
    "            duration_sec     = duration_sec,\n",
    "            content_img_url  = content[\"content_img_url\"]\n",
    "        )\n",
    "    )\n",
    "\n",
    "# ---------- DataFrame 化 ----------\n",
    "df = spark.createDataFrame(rows)\n",
    "\n",
    "# ---------- 動作確認 ----------\n",
    "print(\"コンテンツレコード数:\", df.count())      # 例: 30本\n",
    "# df.show(10, truncate=False)\n",
    "df.printSchema()\n",
    "# print(\"カテゴリごとの作品数\")\n",
    "# df.groupBy(\"content_category\").count().orderBy(\"content_category\").show(truncate=False)\n",
    "\n",
    "# # ---------- Delta テーブル保存 ----------\n",
    "# df.write.format(\"delta\")\\\n",
    "#   .option(\"comment\", \"機内エンタメコンテンツマスタ\")\\\n",
    "#   .mode(\"overwrite\")\\\n",
    "#   .saveAsTable(f\"{MY_CATALOG}.{MY_SCHEMA}.bz_ife_contents\")\n",
    "\n",
    "# ---------- CSV 出力 ----------\n",
    "out_path = f\"/Volumes/{MY_CATALOG}/{MY_SCHEMA}/{MY_VOLUME}/ife_contents/ife_contents.csv\"\n",
    "df.coalesce(1).toPandas().to_csv(out_path, index=False)\n",
    "print(out_path)"
   ]
  },
  {
   "cell_type": "code",
   "execution_count": 0,
   "metadata": {
    "application/vnd.databricks.v1+cell": {
     "cellMetadata": {
      "byteLimit": 2048000,
      "rowLimit": 10000
     },
     "inputWidgets": {},
     "nuid": "e3e87547-0f0a-4587-9e8f-2ab6993f42b8",
     "showTitle": false,
     "tableResultSettingsMap": {},
     "title": ""
    }
   },
   "outputs": [],
   "source": [
    "print(\"コンテンツマスタのCSVファイルを作成しました！\")"
   ]
  }
 ],
 "metadata": {
  "application/vnd.databricks.v1+notebook": {
   "computePreferences": null,
   "dashboards": [],
   "environmentMetadata": {
    "base_environment": "",
    "environment_version": "2"
   },
   "inputWidgetPreferences": null,
   "language": "python",
   "notebookMetadata": {
    "pythonIndentUnit": 2
   },
   "notebookName": "ife_contents_old",
   "widgets": {}
  },
  "language_info": {
   "name": "python"
  }
 },
 "nbformat": 4,
 "nbformat_minor": 0
}
