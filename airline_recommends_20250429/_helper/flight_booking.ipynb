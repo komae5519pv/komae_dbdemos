{
 "cells": [
  {
   "cell_type": "code",
   "execution_count": 0,
   "metadata": {
    "application/vnd.databricks.v1+cell": {
     "cellMetadata": {
      "byteLimit": 2048000,
      "rowLimit": 10000
     },
     "inputWidgets": {},
     "nuid": "b8e1c335-36a7-477c-8e3a-66ed5955e80d",
     "showTitle": false,
     "tableResultSettingsMap": {},
     "title": ""
    }
   },
   "outputs": [],
   "source": [
    "# %run ../00_config"
   ]
  },
  {
   "cell_type": "code",
   "execution_count": 0,
   "metadata": {
    "application/vnd.databricks.v1+cell": {
     "cellMetadata": {
      "byteLimit": 2048000,
      "rowLimit": 10000
     },
     "inputWidgets": {},
     "nuid": "809c52ff-daac-431e-bb1b-a714dcbde9d3",
     "showTitle": false,
     "tableResultSettingsMap": {},
     "title": ""
    }
   },
   "outputs": [],
   "source": [
    "print(\"フライト予約履歴CSVファイルを作成します...\")"
   ]
  },
  {
   "cell_type": "code",
   "execution_count": 0,
   "metadata": {
    "application/vnd.databricks.v1+cell": {
     "cellMetadata": {
      "byteLimit": 2048000,
      "rowLimit": 10000
     },
     "inputWidgets": {},
     "nuid": "b4b87462-0800-401f-bdcb-a064fde0e367",
     "showTitle": false,
     "tableResultSettingsMap": {},
     "title": ""
    }
   },
   "outputs": [],
   "source": [
    "from pyspark.sql import Row\n",
    "from pyspark.sql.functions import col\n",
    "import random, datetime, math\n",
    "\n",
    "# ============================================================\n",
    "# テーブル: flight_booking（フライト予約履歴）サンプル\n",
    "# ============================================================\n",
    "# flight_booking  サンプルデータ生成（シンプル版）\n",
    "#   * 便×出発日ごと     : 500 予約\n",
    "#   * 会員ごとの搭乗回数: 1–5 回\n",
    "#   * 総レコード数      : N_ROWS  ※BOOKINGS_PER_PAIR の倍数推奨\n",
    "\n",
    "# ---------- パラメータ ----------\n",
    "N_USERS = 3000        # 最初に用意しておく会員数（足りなければ自動で増える）\n",
    "N_ROWS  = 20000       # 欲しい予約レコード数（500 の倍数にしておくと端数処理不要）\n",
    "MAX_PER_USER = 5      # 会員あたり最大搭乗回数\n",
    "MIN_PER_USER = 1      # 会員あたり最小搭乗回数\n",
    "BOOKINGS_PER_PAIR = 500  # 便×出発日ごとの予約件数\n",
    "\n",
    "airlines = [\"JL\", \"NH\", \"GK\", \"MM\", \"BC\"]\n",
    "routes   = [(\"HND\", \"ITM\"), (\"HND\", \"CTS\"), (\"HND\", \"SFO\"),\n",
    "            (\"LAX\", \"HND\"), (\"NRT\", \"SIN\"), (\"KIX\", \"NRT\"),\n",
    "            (\"SYD\", \"HND\"), (\"CDG\", \"NRT\"), (\"HND\", \"OKA\"), (\"FUK\", \"HND\")]\n",
    "\n",
    "start_date = datetime.date(2024, 1, 1)\n",
    "end_date   = datetime.date(2025, 12, 31)\n",
    "date_span  = (end_date - start_date).days          # ≈ 730 日\n",
    "\n",
    "# ---------- ランダムユーティリティ ----------\n",
    "rand_date       = lambda: (start_date + datetime.timedelta(days=random.randint(0, date_span))).isoformat()\n",
    "rand_booking_id = lambda: f\"B{random.randint(0, 9_999_999):07d}\"\n",
    "rand_flight_id  = lambda: f\"{random.choice(airlines)}{random.randint(1, 999):03d}\"\n",
    "rand_route      = lambda: random.choice(routes)\n",
    "def rand_fare(o, d):\n",
    "    domestic = {\"HND\",\"NRT\",\"ITM\",\"CTS\",\"KIX\",\"OKA\",\"FUK\"}\n",
    "    low, high = ((8_000, 35_000) if (o in domestic and d in domestic) else (30_000, 180_000))\n",
    "    return round(random.randint(low, high) / 100) * 100   # 100 円単位\n",
    "\n",
    "# ---------- 会員プール作成 ― 1〜5 回ずつリスト化してシャッフル ----------\n",
    "user_pool = []\n",
    "uid = 1\n",
    "while len(user_pool) < N_ROWS:\n",
    "    # 必要になるまで新しい会員を追加し続ける\n",
    "    repeats = random.randint(MIN_PER_USER, MAX_PER_USER)\n",
    "    user_pool.extend([uid] * repeats)\n",
    "    uid += 1\n",
    "random.shuffle(user_pool)                       # 各予約に誰が乗るかランダム化\n",
    "print(f\"★会員総数: {uid-1:,} 名  (プール長 = {len(user_pool):,})\")\n",
    "\n",
    "# ---------- 便×出発日ペアを作りながら予約行を生成 ----------\n",
    "rows, used_pairs = [], set()\n",
    "\n",
    "while len(rows) < N_ROWS:\n",
    "    flight_id, flight_date = rand_flight_id(), rand_date()\n",
    "    pair = (flight_id, flight_date)\n",
    "    if pair in used_pairs:                      # 同じ便×日付は 1 回だけ\n",
    "        continue\n",
    "    used_pairs.add(pair)\n",
    "\n",
    "    bookings_here = min(BOOKINGS_PER_PAIR, N_ROWS - len(rows))  # ← 500 件固定（端数調整あり）\n",
    "    for _ in range(bookings_here):\n",
    "        uid = user_pool.pop()                   # プールから 1 名取り出す\n",
    "        origin, dest = rand_route()\n",
    "        rows.append(Row(\n",
    "            booking_id  = rand_booking_id(),\n",
    "            user_id     = uid,\n",
    "            flight_id   = flight_id,\n",
    "            route_id    = f\"{origin}-{dest}\",\n",
    "            flight_date = flight_date,\n",
    "            fare_amount = rand_fare(origin, dest)\n",
    "        ))\n",
    "\n",
    "# ---------- DataFrame 化 ----------\n",
    "df = spark.createDataFrame(rows)\\\n",
    "         .withColumn(\"fare_amount\", col(\"fare_amount\").cast(\"decimal(10,2)\"))\n",
    "\n",
    "# ---------- 動作確認 ----------\n",
    "print(\"総行数:\", df.count())   # 総行数を出力\n",
    "\n",
    "print(\"会員ごとの搭乗回数上位10件（最大 5 回）\")\n",
    "df.groupBy(\"user_id\").count().orderBy(\"count\", ascending=False).show(10)\n",
    "\n",
    "df.show(10, truncate=False)    # データを確認\n",
    "df.printSchema()               # スキーマを表示\n",
    "\n",
    "print(\"各便の日付ごとの予約人数（フライトIDごと）\")\n",
    "df.groupBy(\"flight_id\", \"flight_date\").count() \\\n",
    "  .orderBy(\"flight_date\", \"count\", ascending=[True, False]) \\\n",
    "  .show(truncate=False)\n",
    "\n",
    "print(\"各ユーザーの購入回数分布（1〜5 回）\")\n",
    "df.groupBy(\"user_id\").count() \\\n",
    "  .groupBy(\"count\").count() \\\n",
    "  .orderBy(\"count\", ascending=False) \\\n",
    "  .show()\n",
    "\n",
    "# # ---------- Delta テーブル保存 ----------\n",
    "# df.write.format(\"delta\")\\\n",
    "#   .option(\"comment\", \"フライト予約履歴\")\\\n",
    "#   .mode(\"overwrite\")\\\n",
    "#   .saveAsTable(f\"{MY_CATALOG}.{MY_SCHEMA}.bz_flight_booking_2\")\n",
    "\n",
    "# ---------- CSV出力 ----------\n",
    "out_path = f\"/Volumes/{MY_CATALOG}/{MY_SCHEMA}/{MY_VOLUME}/flight_booking/flight_booking.csv\"\n",
    "df.coalesce(1).toPandas().to_csv(out_path, index=False)\n",
    "print(out_path)"
   ]
  },
  {
   "cell_type": "code",
   "execution_count": 0,
   "metadata": {
    "application/vnd.databricks.v1+cell": {
     "cellMetadata": {
      "byteLimit": 2048000,
      "rowLimit": 10000
     },
     "inputWidgets": {},
     "nuid": "e3e87547-0f0a-4587-9e8f-2ab6993f42b8",
     "showTitle": false,
     "tableResultSettingsMap": {},
     "title": ""
    }
   },
   "outputs": [],
   "source": [
    "print(\"フライト予約履歴CSVファイルを作成しました！\")"
   ]
  }
 ],
 "metadata": {
  "application/vnd.databricks.v1+notebook": {
   "computePreferences": null,
   "dashboards": [],
   "environmentMetadata": {
    "base_environment": "",
    "environment_version": "2"
   },
   "inputWidgetPreferences": null,
   "language": "python",
   "notebookMetadata": {
    "pythonIndentUnit": 2
   },
   "notebookName": "flight_booking",
   "widgets": {}
  },
  "language_info": {
   "name": "python"
  }
 },
 "nbformat": 4,
 "nbformat_minor": 0
}
