{
 "cells": [
  {
   "cell_type": "code",
   "execution_count": 0,
   "metadata": {
    "application/vnd.databricks.v1+cell": {
     "cellMetadata": {
      "byteLimit": 2048000,
      "rowLimit": 10000
     },
     "inputWidgets": {},
     "nuid": "b8e1c335-36a7-477c-8e3a-66ed5955e80d",
     "showTitle": false,
     "tableResultSettingsMap": {},
     "title": ""
    },
    "jupyter": {
     "outputs_hidden": true
    }
   },
   "outputs": [],
   "source": [
    "# %run ../00_config"
   ]
  },
  {
   "cell_type": "code",
   "execution_count": 0,
   "metadata": {
    "application/vnd.databricks.v1+cell": {
     "cellMetadata": {
      "byteLimit": 2048000,
      "rowLimit": 10000
     },
     "inputWidgets": {},
     "nuid": "809c52ff-daac-431e-bb1b-a714dcbde9d3",
     "showTitle": false,
     "tableResultSettingsMap": {},
     "title": ""
    }
   },
   "outputs": [],
   "source": [
    "print(\"過去視聴ログのCSVファイルを作成します...\")"
   ]
  },
  {
   "cell_type": "code",
   "execution_count": 0,
   "metadata": {
    "application/vnd.databricks.v1+cell": {
     "cellMetadata": {
      "byteLimit": 2048000,
      "rowLimit": 10000
     },
     "inputWidgets": {},
     "nuid": "202cb38d-e259-40c6-9dce-281923a9d8f0",
     "showTitle": false,
     "tableResultSettingsMap": {},
     "title": ""
    }
   },
   "outputs": [],
   "source": [
    "df_contents = spark.read.csv(\n",
    "    f\"/Volumes/{MY_CATALOG}/{MY_SCHEMA}/{MY_VOLUME}/ife_contents/ife_contents.csv\",\n",
    "    header=True\n",
    ")\n",
    "print(df_contents.count())"
   ]
  },
  {
   "cell_type": "code",
   "execution_count": 0,
   "metadata": {
    "application/vnd.databricks.v1+cell": {
     "cellMetadata": {
      "byteLimit": 2048000,
      "rowLimit": 10000
     },
     "inputWidgets": {},
     "nuid": "2dde437a-c016-497e-b973-f757e5933edb",
     "showTitle": false,
     "tableResultSettingsMap": {},
     "title": ""
    }
   },
   "outputs": [],
   "source": [
    "from pyspark.sql import Row\n",
    "from pyspark.sql.functions import (\n",
    "    col, to_timestamp, to_date,\n",
    "    avg, round as spark_round, expr\n",
    ")\n",
    "import random, datetime\n",
    "\n",
    "# ============================================================\n",
    "# テーブル: ife_play_logs（機内エンタメ視聴ログ）サンプル\n",
    "# ============================================================\n",
    "\n",
    "# ---------- 設定 ----------\n",
    "N_CONTENTS        = 25      # コンテンツ総数　←重要：コンテンツマスタの数と合わせる\n",
    "MIN_VIEWS_PER_BK  = 2       # ★ 1 予約あたり最小視聴セッション数\n",
    "MAX_VIEWS_PER_BK  = 8       # ★ 〃             最大視聴セッション数\n",
    "MIN_SEC           = 30      # 1 セッション最短視聴 30 秒\n",
    "MAX_SEC           = 2*60*60 # 〃 最長視聴 2 時間 (7,200 秒)\n",
    "\n",
    "# ---------- コンテンツマスタを読み込む ----------\n",
    "df_contents = spark.read.csv(\n",
    "    f\"/Volumes/{MY_CATALOG}/{MY_SCHEMA}/{MY_VOLUME}/ife_contents/ife_contents.csv\",\n",
    "    header=True\n",
    ")\n",
    "print(df_contents)\n",
    "\n",
    "# content_id (カテゴリ, duration_sec) を辞書化\n",
    "content_meta = {\n",
    "    int(row.content_id): (row.content_category, int(row.duration_sec))\n",
    "    for row in df_contents.collect()\n",
    "}\n",
    "\n",
    "# ---------- フライト予約履歴を読み込む  # ★ add ----------\n",
    "df_booking = spark.read.csv(\n",
    "    f\"/Volumes/{MY_CATALOG}/{MY_SCHEMA}/{MY_VOLUME}/flight_booking/flight_booking.csv\",\n",
    "    header=True\n",
    ").withColumn(\"flight_date\", to_date(col(\"flight_date\")))\n",
    "\n",
    "# ---------- 日時生成パラメータ ----------\n",
    "start_dt  = datetime.datetime(2024, 1, 1, 0, 0, 0)\n",
    "end_dt    = datetime.datetime(2025, 12, 31, 23, 59, 59)\n",
    "total_sec = int((end_dt - start_dt).total_seconds())\n",
    "\n",
    "def rand_play_start(bk_date: datetime.date) -> datetime.datetime:\n",
    "    \"\"\"\n",
    "    視聴開始日時をランダム生成（フライト当日 0:00–23:59 の間で発生）\n",
    "    \"\"\"\n",
    "    return datetime.datetime.combine(\n",
    "        bk_date,\n",
    "        datetime.time()\n",
    "    ) + datetime.timedelta(seconds=random.randint(0, 86399))\n",
    "\n",
    "def rand_watch_ratio() -> float:\n",
    "    \"\"\"視聴割合 β(α=3,β=3) で多様性を確保（平均 ≒ 0.5）\"\"\"\n",
    "    return random.betavariate(8, 1) if random.random() < .25 else random.betavariate(3, 3)\n",
    "\n",
    "# ---------- 行レコードを組み立て ----------\n",
    "rows = []\n",
    "for bk in df_booking.collect():\n",
    "    uid = int(bk.user_id)\n",
    "\n",
    "    # 予約 1 件あたり 2〜8 セッションを発生させる ★\n",
    "    for _ in range(random.randint(MIN_VIEWS_PER_BK, MAX_VIEWS_PER_BK)):\n",
    "        # ---- 視聴コンテンツを決定 ----\n",
    "        cid = random.randint(1, N_CONTENTS)\n",
    "        cat, duration_sec = content_meta[cid]\n",
    "\n",
    "        # ---- 視聴秒数を決定 ----\n",
    "        watch_ratio = rand_watch_ratio()\n",
    "        play_sec    = max(MIN_SEC, int(duration_sec * watch_ratio))\n",
    "        play_sec    = min(play_sec, MAX_SEC)\n",
    "\n",
    "        # ---- 視聴開始・終了時刻 ----\n",
    "        play_start = rand_play_start(bk.flight_date)\n",
    "        play_end   = play_start + datetime.timedelta(seconds=play_sec)\n",
    "\n",
    "        rows.append(\n",
    "            Row(\n",
    "                user_id          = uid,                # 会員ID（数値型）\n",
    "                flight_id        = bk.flight_id,       # フライトID\n",
    "                route_id         = bk.route_id,        # ルート\n",
    "                flight_date      = bk.flight_date,     # フライト日\n",
    "                content_id       = cid,                # コンテンツID\n",
    "                content_category = cat,                # カテゴリ\n",
    "                duration_sec     = duration_sec,       # 作品尺（秒）\n",
    "                play_sec         = play_sec,           # 視聴秒数\n",
    "                play_start_at    = play_start.strftime(\"%Y-%m-%d %H:%M:%S\"),\n",
    "                play_end_at      = play_end.strftime(\"%Y-%m-%d %H:%M:%S\"),\n",
    "                play_start_date  = play_start.date().isoformat()\n",
    "            )\n",
    "        )\n",
    "\n",
    "# ---------- DataFrame 化 ----------\n",
    "df = spark.createDataFrame(rows) \\\n",
    "    .withColumn(\"play_start_at\", to_timestamp(col(\"play_start_at\"))) \\\n",
    "    .withColumn(\"play_end_at\",   to_timestamp(col(\"play_end_at\"))) \\\n",
    "    .withColumn(\"play_start_date\", to_date(col(\"play_start_date\"))) \\\n",
    "    .withColumn(\"flight_date\",     to_date(col(\"flight_date\")))      # ★ add\n",
    "\n",
    "# ---------- 検証用: pct_watched を派生（保存時はドロップ） ----------\n",
    "df_debug = df.withColumn(\n",
    "    \"pct_watched\",\n",
    "    spark_round(expr(\"play_sec / duration_sec * 100\"), 2)\n",
    ")\n",
    "\n",
    "# ---------- 動作確認 ----------\n",
    "print(\"視聴レコード数:\", df.count())      # 例: ≒ 60,000〜160,000 ほど増えるはず\n",
    "df.printSchema()\n",
    "# df_debug.show(10, truncate=False)\n",
    "\n",
    "# ---------- Delta テーブル保存 ----------\n",
    "# df.write.format(\"delta\")\\\n",
    "#   .option(\"comment\", \"機内エンターテイメントの過去視聴ログ（フライト紐付け版）\")\\\n",
    "#   .mode(\"overwrite\")\\\n",
    "#   .saveAsTable(f\"{MY_CATALOG}.{MY_SCHEMA}.bz_ife_play_logs\")\n",
    "\n",
    "# ---------- CSV 出力 ----------\n",
    "out_path = f\"/Volumes/{MY_CATALOG}/{MY_SCHEMA}/{MY_VOLUME}/ife_play_logs/ife_play_logs.csv\"\n",
    "df.coalesce(1).toPandas().to_csv(out_path, index=False)\n",
    "print(out_path)"
   ]
  },
  {
   "cell_type": "code",
   "execution_count": 0,
   "metadata": {
    "application/vnd.databricks.v1+cell": {
     "cellMetadata": {
      "byteLimit": 2048000,
      "rowLimit": 10000
     },
     "inputWidgets": {},
     "nuid": "e3e87547-0f0a-4587-9e8f-2ab6993f42b8",
     "showTitle": false,
     "tableResultSettingsMap": {},
     "title": ""
    }
   },
   "outputs": [],
   "source": [
    "print(\"過去視聴ログのCSVファイルを作成しました！\")"
   ]
  }
 ],
 "metadata": {
  "application/vnd.databricks.v1+notebook": {
   "computePreferences": null,
   "dashboards": [],
   "environmentMetadata": {
    "base_environment": "",
    "environment_version": "2"
   },
   "inputWidgetPreferences": null,
   "language": "python",
   "notebookMetadata": {
    "pythonIndentUnit": 2
   },
   "notebookName": "ife_play_logs",
   "widgets": {}
  },
  "language_info": {
   "name": "python"
  }
 },
 "nbformat": 4,
 "nbformat_minor": 0
}
