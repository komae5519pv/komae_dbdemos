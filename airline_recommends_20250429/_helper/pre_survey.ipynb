{
 "cells": [
  {
   "cell_type": "code",
   "execution_count": 0,
   "metadata": {
    "application/vnd.databricks.v1+cell": {
     "cellMetadata": {
      "byteLimit": 2048000,
      "rowLimit": 10000
     },
     "inputWidgets": {},
     "nuid": "b8e1c335-36a7-477c-8e3a-66ed5955e80d",
     "showTitle": false,
     "tableResultSettingsMap": {},
     "title": ""
    }
   },
   "outputs": [],
   "source": [
    "# %run ../00_config"
   ]
  },
  {
   "cell_type": "code",
   "execution_count": 0,
   "metadata": {
    "application/vnd.databricks.v1+cell": {
     "cellMetadata": {
      "byteLimit": 2048000,
      "rowLimit": 10000
     },
     "inputWidgets": {},
     "nuid": "809c52ff-daac-431e-bb1b-a714dcbde9d3",
     "showTitle": false,
     "tableResultSettingsMap": {},
     "title": ""
    }
   },
   "outputs": [],
   "source": [
    "print(\"渡航前アンケートのCSVファイルを作成します...\")"
   ]
  },
  {
   "cell_type": "code",
   "execution_count": 0,
   "metadata": {
    "application/vnd.databricks.v1+cell": {
     "cellMetadata": {
      "byteLimit": 2048000,
      "rowLimit": 10000
     },
     "inputWidgets": {},
     "nuid": "90242189-a619-4bde-8d69-48c0ea7b5519",
     "showTitle": false,
     "tableResultSettingsMap": {},
     "title": ""
    }
   },
   "outputs": [],
   "source": [
    "from pyspark.sql import Row\n",
    "from pyspark.sql.functions import to_timestamp, col\n",
    "import random, datetime\n",
    "\n",
    "# ============================================================\n",
    "# テーブル: pre_survey（渡航前アンケート）サンプル\n",
    "# ============================================================\n",
    "\n",
    "# ---------- 設定 ----------\n",
    "N_USERS               = 3000      # 会員総数\n",
    "APP_USAGE_RATE        = 0.70     # アプリ利用率（70%）\n",
    "SURVEY_RESPONSE_RATE  = 0.85     # 利用者のうち回答率（85%）\n",
    "MIN_RESP_PER_USER     = 1        # 同一ユーザーの最小回答回数\n",
    "MAX_RESP_PER_USER     = 3        # 同一ユーザーの最大回答回数\n",
    "\n",
    "trip_purpose_choices = [\"仕事\", \"観光\"]\n",
    "content_category_choices = [\n",
    "    \"観光情報\",\n",
    "    \"食事・グルメ情報\",\n",
    "    \"移送手段や便利な情報\",\n",
    "    \"リラックスできるコンテンツ\",\n",
    "    \"文化やマナーに関する情報\",\n",
    "    \"映画、ドラマ\",\n",
    "]\n",
    "\n",
    "# ---------- 回答者を決定 ----------\n",
    "# ① 会員400名のうち 60% がアプリを利用\n",
    "# ② そのうち 75% がアンケート回答\n",
    "n_app_users    = int(N_USERS * APP_USAGE_RATE)\n",
    "n_survey_users = int(n_app_users * SURVEY_RESPONSE_RATE)\n",
    "respondents    = random.sample(range(1, N_USERS + 1), n_survey_users)\n",
    "\n",
    "# ---------- 日時生成パラメータ ----------\n",
    "start_dt  = datetime.datetime(2024, 1, 1, 0, 0, 0)\n",
    "end_dt    = datetime.datetime(2025, 12, 31, 23, 59, 59)\n",
    "total_sec = int((end_dt - start_dt).total_seconds())\n",
    "\n",
    "def rand_answer_dt() -> str:\n",
    "    '''\n",
    "    論理名：回答日時\n",
    "    物理名：answer_date\n",
    "    ルール：2024-01-01 〜 2025-12-31 のランダム日時\n",
    "    '''\n",
    "    return (start_dt + datetime.timedelta(seconds=random.randint(0, total_sec))\n",
    "            ).strftime(\"%Y-%m-%d %H:%M:%S\")\n",
    "\n",
    "def rand_trip_purpose() -> str:\n",
    "    '''\n",
    "    論理名：旅行目的\n",
    "    物理名：trip_purpose\n",
    "    ルール：['仕事', '観光'] からランダム\n",
    "    '''\n",
    "    return random.choice(trip_purpose_choices)\n",
    "\n",
    "def rand_content_category() -> str:\n",
    "    '''\n",
    "    論理名：機内エンタメカテゴリ\n",
    "    物理名：content_category\n",
    "    ルール：6 つのカテゴリからランダム\n",
    "    '''\n",
    "    return random.choice(content_category_choices)\n",
    "\n",
    "# ---------- 行レコードを組み立て ----------\n",
    "rows = []\n",
    "for uid in respondents:\n",
    "    # ユーザーごとに 1〜3 回回答\n",
    "    n_resp = random.randint(MIN_RESP_PER_USER, MAX_RESP_PER_USER)\n",
    "    for _ in range(n_resp):\n",
    "        rows.append(\n",
    "            Row(\n",
    "                user_id          = uid,                  # ★ 会員ID（数値型に変更）\n",
    "                trip_purpose     = rand_trip_purpose(),    # 旅行目的\n",
    "                content_category = rand_content_category(),# エンタメカテゴリ\n",
    "                answer_date      = rand_answer_dt(),       # 回答日時\n",
    "            )\n",
    "        )\n",
    "\n",
    "# ---------- DataFrame 化 ----------\n",
    "df = spark.createDataFrame(rows) \\\n",
    "    .withColumn(                   # answer_date を TIMESTAMP 型に\n",
    "        \"answer_date\",\n",
    "        to_timestamp(col(\"answer_date\"), \"yyyy-MM-dd HH:mm:ss\")\n",
    "    )\n",
    "\n",
    "# ---------- 動作確認 ----------\n",
    "print(\"回答レコード数:\", df.count())          # 例: 300〜500 行程度\n",
    "# df.show(10, truncate=False)\n",
    "df.printSchema()\n",
    "print(\"各ユーザーのアンケート回答数分布（1〜3 回）\")\n",
    "df.groupBy(\"user_id\").count() \\\n",
    "  .groupBy(\"count\").count() \\\n",
    "  .orderBy(\"count\").show()                   # 1〜3 回の分布確認\n",
    "\n",
    "# ---------- Delta テーブル保存 ----------\n",
    "# df.write.format(\"delta\")\\\n",
    "#   .option(\"comment\", \"機内エンタメレコメンドのための渡航前アンケート\")\\\n",
    "#   .mode(\"overwrite\")\\\n",
    "#   .saveAsTable(f\"{MY_CATALOG}.{MY_SCHEMA}.bz_pre_survey\")\n",
    "\n",
    "# ---------- CSV 出力 ----------\n",
    "out_path = f\"/Volumes/{MY_CATALOG}/{MY_SCHEMA}/{MY_VOLUME}/pre_survey/pre_survey.csv\"\n",
    "df.coalesce(1).toPandas().to_csv(out_path, index=False)\n",
    "print(out_path)"
   ]
  },
  {
   "cell_type": "code",
   "execution_count": 0,
   "metadata": {
    "application/vnd.databricks.v1+cell": {
     "cellMetadata": {
      "byteLimit": 2048000,
      "rowLimit": 10000
     },
     "inputWidgets": {},
     "nuid": "e3e87547-0f0a-4587-9e8f-2ab6993f42b8",
     "showTitle": false,
     "tableResultSettingsMap": {},
     "title": ""
    }
   },
   "outputs": [],
   "source": [
    "print(\"渡航前アンケートのCSVファイルを作成しました！\")"
   ]
  }
 ],
 "metadata": {
  "application/vnd.databricks.v1+notebook": {
   "computePreferences": null,
   "dashboards": [],
   "environmentMetadata": {
    "base_environment": "",
    "environment_version": "2"
   },
   "inputWidgetPreferences": null,
   "language": "python",
   "notebookMetadata": {
    "pythonIndentUnit": 2
   },
   "notebookName": "pre_survey",
   "widgets": {}
  },
  "language_info": {
   "name": "python"
  }
 },
 "nbformat": 4,
 "nbformat_minor": 0
}
