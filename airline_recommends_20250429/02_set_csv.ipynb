{
 "cells": [
  {
   "cell_type": "code",
   "execution_count": 0,
   "metadata": {
    "application/vnd.databricks.v1+cell": {
     "cellMetadata": {
      "byteLimit": 2048000,
      "rowLimit": 10000
     },
     "inputWidgets": {},
     "nuid": "84a05b54-1d93-4b7a-9259-a5a631901dee",
     "showTitle": false,
     "tableResultSettingsMap": {},
     "title": ""
    }
   },
   "outputs": [],
   "source": [
    "%run ./00_config"
   ]
  },
  {
   "cell_type": "code",
   "execution_count": 0,
   "metadata": {
    "application/vnd.databricks.v1+cell": {
     "cellMetadata": {
      "byteLimit": 2048000,
      "rowLimit": 10000
     },
     "inputWidgets": {},
     "nuid": "b2517907-2a9c-424b-bcc4-2189f614afb0",
     "showTitle": true,
     "tableResultSettingsMap": {},
     "title": "フライト予約履歴"
    }
   },
   "outputs": [],
   "source": [
    "%run ./_helper/flight_booking $MY_CATALOG=MY_CATALOG $MY_SCHEMA=MY_SCHEMA $MY_VOLUME=MY_VOLUME"
   ]
  },
  {
   "cell_type": "code",
   "execution_count": 0,
   "metadata": {
    "application/vnd.databricks.v1+cell": {
     "cellMetadata": {
      "byteLimit": 2048000,
      "rowLimit": 10000
     },
     "inputWidgets": {},
     "nuid": "f4eab766-3819-43d2-a2ca-125aba3c7dc6",
     "showTitle": true,
     "tableResultSettingsMap": {},
     "title": "渡航前アンケート"
    }
   },
   "outputs": [],
   "source": [
    "%run ./_helper/pre_survey $MY_CATALOG=MY_CATALOG $MY_SCHEMA=MY_SCHEMA $MY_VOLUME=MY_VOLUME"
   ]
  },
  {
   "cell_type": "code",
   "execution_count": 0,
   "metadata": {
    "application/vnd.databricks.v1+cell": {
     "cellMetadata": {
      "byteLimit": 2048000,
      "rowLimit": 10000
     },
     "inputWidgets": {},
     "nuid": "e02c38dc-61d6-494b-94fa-4b5b0be200c3",
     "showTitle": true,
     "tableResultSettingsMap": {},
     "title": "コンテンツマスタ"
    }
   },
   "outputs": [],
   "source": [
    "%run ./_helper/ife_contents $MY_CATALOG=MY_CATALOG $MY_SCHEMA=MY_SCHEMA $MY_VOLUME=MY_VOLUME"
   ]
  },
  {
   "cell_type": "code",
   "execution_count": 0,
   "metadata": {
    "application/vnd.databricks.v1+cell": {
     "cellMetadata": {
      "byteLimit": 2048000,
      "rowLimit": 10000
     },
     "inputWidgets": {},
     "nuid": "9ead2014-20c0-4003-b35c-3689e92a98c3",
     "showTitle": true,
     "tableResultSettingsMap": {},
     "title": "過去視聴ログ"
    }
   },
   "outputs": [],
   "source": [
    "%run ./_helper/ife_play_logs $MY_CATALOG=MY_CATALOG $MY_SCHEMA=MY_SCHEMA $MY_VOLUME=MY_VOLUME"
   ]
  }
 ],
 "metadata": {
  "application/vnd.databricks.v1+notebook": {
   "computePreferences": null,
   "dashboards": [],
   "environmentMetadata": {
    "base_environment": "",
    "environment_version": "2"
   },
   "inputWidgetPreferences": null,
   "language": "python",
   "notebookMetadata": {
    "pythonIndentUnit": 2
   },
   "notebookName": "02_set_csv",
   "widgets": {}
  },
  "language_info": {
   "name": "python"
  }
 },
 "nbformat": 4,
 "nbformat_minor": 0
}
