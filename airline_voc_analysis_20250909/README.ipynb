{
 "cells": [
  {
   "cell_type": "markdown",
   "metadata": {
    "application/vnd.databricks.v1+cell": {
     "cellMetadata": {},
     "inputWidgets": {},
     "nuid": "679cf1a6-6052-4573-a306-239d251687ba",
     "showTitle": false,
     "tableResultSettingsMap": {},
     "title": ""
    }
   },
   "source": [
    "# Bricks Airways 顧客レビュー\n",
    "<div style=\"display: flex; justify-content: space-between;\">\n",
    "  <img src='https://github.com/komae5519pv/komae_dbdemos/blob/main/voc_analysis_20250415/_images/BritishAirways.jpg?raw=true' width='50%'/>\n",
    "</div>\n",
    "\n",
    "### データセットの概要\n",
    "Bricks Airways（架空の航空会社）の各サービスに対する顧客フィードバックを模した情報が含まれており、以下のカラムがあります。\n",
    "\n",
    "### カラム説明\n",
    "| Column Name                       | Description                                                                   |\n",
    "| --------------------------------- | ----------------------------------------------------------------------------- |\n",
    "| **review\\_id**                    | レビューを一意に識別するシステム採番 ID（主キー）                                                    |\n",
    "| **user\\_id**                      | レビューを書いた会員の ID（会員テーブルへの外部キー）                                                  |\n",
    "| **review\\_date**                  | レビューが投稿された日付                                                                  |\n",
    "| **review**                        | 顧客が記入したレビュー本文                                                                 |\n",
    "| **flight\\_id**                    | 搭乗機を示す航空機 ID（例: “A390-100”）                                                   |\n",
    "| **flight\\_date**                  | フライト出発日                                                                       |\n",
    "| **route\\_id**                     | 区間を示すルート ID（出発空港コード-到着空港コード）                                                  |\n",
    "| **seat\\_type**                    | 旅行クラス（例: “Economy Class”, “Business Class”, “First Class”, “Premium Economy”） |\n",
    "| **is\\_recommended**               | 顧客が本サービスを推奨するかどうか（`true` / `false`）                                           |\n",
    "| **rating\\_overall**               | 全体評価                                                                          |\n",
    "| **rating\\_seat\\_comfort**         | 座席の快適さに対する評価                                                                  |\n",
    "| **rating\\_cabin\\_staff\\_service** | 客室スタッフのサービスに対する評価                                                             |\n",
    "| **rating\\_ground\\_service**       | 地上サービスに対する評価                                                                  |\n",
    "| **rating\\_value\\_for\\_money**     | 価格に対する価値の評価                                                                   |\n",
    "| **rating\\_food\\_beverages**       | 飲食サービスに対する評価                                                                  |\n",
    "| **rating\\_ife**                   | 機内エンターテインメントに対する評価                                                            |\n",
    "| **rating\\_wifi\\_connectivity**    | 機内 Wi-Fi の接続性に対する評価                                                           |"
   ]
  },
  {
   "cell_type": "markdown",
   "metadata": {
    "application/vnd.databricks.v1+cell": {
     "cellMetadata": {},
     "inputWidgets": {},
     "nuid": "7fd3d197-4e76-4f99-a924-41dcff9b3406",
     "showTitle": false,
     "tableResultSettingsMap": {},
     "title": ""
    }
   },
   "source": [
    "#### 処理概要\n",
    "1. LLMを使ってでレビューから論点抽出＆要約\n",
    "1. 論点ごとに抽出された要約文章をレコード展開\n",
    "1. ダッシュボードで可視化"
   ]
  }
 ],
 "metadata": {
  "application/vnd.databricks.v1+notebook": {
   "computePreferences": null,
   "dashboards": [],
   "environmentMetadata": {
    "base_environment": "",
    "environment_version": "2"
   },
   "inputWidgetPreferences": null,
   "language": "python",
   "notebookMetadata": {
    "mostRecentlyExecutedCommandWithImplicitDF": {
     "commandId": 1332008936166085,
     "dataframes": [
      "_sqldf"
     ]
    },
    "pythonIndentUnit": 2
   },
   "notebookName": "README",
   "widgets": {}
  },
  "language_info": {
   "name": "python"
  }
 },
 "nbformat": 4,
 "nbformat_minor": 0
}
