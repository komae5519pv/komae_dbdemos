{
 "cells": [
  {
   "cell_type": "markdown",
   "metadata": {
    "application/vnd.databricks.v1+cell": {
     "cellMetadata": {},
     "inputWidgets": {},
     "nuid": "51edf02c-ca68-4de8-9ec1-2818527d360d",
     "showTitle": false,
     "tableResultSettingsMap": {},
     "title": ""
    }
   },
   "source": [
    "# VoC分析用のデータ準備\n",
    "- サーバレスコンピュート or DBR 16.0 以降  \n",
    "- VoC分析用のデータ事前準備です。2パターンあるので選んでください。\n",
    "\n",
    "\n",
    "#### TODO\n",
    "- **パターン① 新規作成（所要時間約15分）**  \n",
    "データ内容を変更したい場合に活用。レビュー内容を変える場合はノートブック`_helper/create_reviews`の文章/スコアを上書きしてください。  \n",
    "\n",
    "- **パターン② Githubからダウンロード（所要時間数秒）**  \n",
    "既存データを使って分析する場合はこちらで実行。  "
   ]
  },
  {
   "cell_type": "code",
   "execution_count": 0,
   "metadata": {
    "application/vnd.databricks.v1+cell": {
     "cellMetadata": {
      "byteLimit": 2048000,
      "rowLimit": 10000
     },
     "inputWidgets": {},
     "nuid": "84a05b54-1d93-4b7a-9259-a5a631901dee",
     "showTitle": false,
     "tableResultSettingsMap": {},
     "title": ""
    }
   },
   "outputs": [],
   "source": [
    "\n",
    "%run ./00_config"
   ]
  },
  {
   "cell_type": "markdown",
   "metadata": {
    "application/vnd.databricks.v1+cell": {
     "cellMetadata": {},
     "inputWidgets": {},
     "nuid": "88fed4a2-c224-456d-afee-8152130edd97",
     "showTitle": false,
     "tableResultSettingsMap": {},
     "title": ""
    }
   },
   "source": [
    "### パターン① 新規作成（所要時間約15分）\n",
    "こちらを実行する場合は、次のセル4のコメントアウトを外し、セル6をコメントアウトしてください。"
   ]
  },
  {
   "cell_type": "code",
   "execution_count": 0,
   "metadata": {
    "application/vnd.databricks.v1+cell": {
     "cellMetadata": {
      "byteLimit": 2048000,
      "rowLimit": 10000
     },
     "inputWidgets": {},
     "nuid": "b2517907-2a9c-424b-bcc4-2189f614afb0",
     "showTitle": false,
     "tableResultSettingsMap": {},
     "title": ""
    }
   },
   "outputs": [],
   "source": [
    "# %run ./_helper/create_reviews $MY_CATALOG=MY_CATALOG $MY_SCHEMA=MY_SCHEMA $MY_VOLUME=MY_VOLUME"
   ]
  },
  {
   "cell_type": "markdown",
   "metadata": {
    "application/vnd.databricks.v1+cell": {
     "cellMetadata": {},
     "inputWidgets": {},
     "nuid": "7e85b158-2ed1-4c0e-982c-cc356e90081a",
     "showTitle": false,
     "tableResultSettingsMap": {},
     "title": ""
    }
   },
   "source": [
    "### パターン② Githubからダウンロード（所要時間数秒）\n",
    "こちらを実行する場合は、次のセル6のコメントアウトを外し、セル4をコメントアウトしてください。"
   ]
  },
  {
   "cell_type": "code",
   "execution_count": 0,
   "metadata": {
    "application/vnd.databricks.v1+cell": {
     "cellMetadata": {
      "byteLimit": 2048000,
      "rowLimit": 10000
     },
     "inputWidgets": {},
     "nuid": "f4eab766-3819-43d2-a2ca-125aba3c7dc6",
     "showTitle": false,
     "tableResultSettingsMap": {},
     "title": ""
    }
   },
   "outputs": [],
   "source": [
    "%run ./_helper/load_data $MY_CATALOG=MY_CATALOG $MY_SCHEMA=MY_SCHEMA $MY_VOLUME=MY_VOLUME"
   ]
  },
  {
   "cell_type": "markdown",
   "metadata": {
    "application/vnd.databricks.v1+cell": {
     "cellMetadata": {},
     "inputWidgets": {},
     "nuid": "73fa0789-9553-4796-8da3-86c214021c05",
     "showTitle": false,
     "tableResultSettingsMap": {},
     "title": ""
    }
   },
   "source": [
    "### 共通処理 画像ダウンロード　★ここはコメントアウトしないでください\n",
    "ダッシュボードから参照する画像をGithubからダウンロードします"
   ]
  },
  {
   "cell_type": "code",
   "execution_count": 0,
   "metadata": {
    "application/vnd.databricks.v1+cell": {
     "cellMetadata": {},
     "inputWidgets": {},
     "nuid": "d9662f5c-e9a0-4a9c-a652-41164600aa23",
     "showTitle": false,
     "tableResultSettingsMap": {},
     "title": ""
    }
   },
   "outputs": [],
   "source": [
    "%run ./_helper/load_img $MY_CATALOG=MY_CATALOG $MY_SCHEMA=MY_SCHEMA $MY_VOLUME=MY_VOLUME_IMG"
   ]
  }
 ],
 "metadata": {
  "application/vnd.databricks.v1+notebook": {
   "computePreferences": null,
   "dashboards": [],
   "environmentMetadata": {
    "base_environment": "",
    "environment_version": "2"
   },
   "inputWidgetPreferences": null,
   "language": "python",
   "notebookMetadata": {
    "pythonIndentUnit": 2
   },
   "notebookName": "01_init_data",
   "widgets": {}
  },
  "language_info": {
   "name": "python"
  }
 },
 "nbformat": 4,
 "nbformat_minor": 0
}
