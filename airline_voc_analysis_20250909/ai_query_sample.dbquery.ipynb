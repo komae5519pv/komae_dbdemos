{
 "cells": [
  {
   "cell_type": "code",
   "execution_count": 0,
   "metadata": {
    "application/vnd.databricks.v1+cell": {
     "cellMetadata": {},
     "inputWidgets": {},
     "nuid": "21dcb2e9-365d-41e1-8578-6d7e80adb09c",
     "showTitle": false,
     "tableResultSettingsMap": {},
     "title": ""
    }
   },
   "outputs": [],
   "source": [
    "SELECT\n",
    "  review_id,\n",
    "  review_date,\n",
    "  review,\n",
    "  -- 1. ネガティブ_食事と飲み物\n",
    "  ai_query(\n",
    "    'databricks-llama-4-maverick',\n",
    "    CONCAT(\n",
    "      \"[指示]次の顧客レビューから[抽出条件]に該当する内容を抽出し、明快で簡潔な一つの文章に要約して下さい\",\n",
    "      \"\\n[顧客レビュー]\",\n",
    "      review,\n",
    "      \"\\n[抽出条件]ネガティブ、かつ「食事と飲み物」に該当する内容\",\n",
    "      \"\\n[厳守事項]\",\n",
    "      \"\\n * 該当がなければ、必ず「-」とだけ回答してください\",\n",
    "      \"\\n * 要約結果のみ出力してください。質問からすでに明らかな文脈は含めない（例えば「食事と飲み物」など自明のものは外すこと）\",\n",
    "      \"\\n * 顧客本人が書いたレビュー風の表現にしてください（例えば「〜についての記載はありません」「〜について触れられていません」など、分析用に補正したとわかる表現は避けること）\",\n",
    "      \"\\n * 背景や評価理由を省略し過ぎず、サービス向上の具体的なアクションに繋がるポイントを明確にしてください\"\n",
    "    ), failOnError => False\n",
    "  ).result AS neg_food_and_beverages,\n",
    "  -- 2. ネガティブ_機内エンターテイメント\n",
    "  ai_query(\n",
    "    'databricks-llama-4-maverick',\n",
    "    CONCAT(\n",
    "      \"[指示]次の顧客レビューから[抽出条件]に該当する内容を抽出し、明快で簡潔な一つの文章に要約して下さい\",\n",
    "      \"\\n[顧客レビュー]\",\n",
    "      review,\n",
    "      \"\\n[抽出条件]ネガティブ、かつ「機内エンターテイメント」に該当する内容\",\n",
    "      \"\\n[厳守事項]\",\n",
    "      \"\\n * 該当がなければ、必ず「-」とだけ回答してください\",\n",
    "      \"\\n * 要約結果のみ出力してください。質問からすでに明らかな文脈は含めない（例えば「機内エンターテイメント」など自明のものは外すこと）\",\n",
    "      \"\\n * 顧客本人が書いたレビュー風の表現にしてください（例えば「〜についての記載はありません」「〜について触れられていません」など、分析用に補正したとわかる表現は避けること）\",\n",
    "      \"\\n * 背景や評価理由を省略し過ぎず、サービス向上の具体的なアクションに繋がるポイントを明確にしてください\"\n",
    "    ), failOnError => False\n",
    "  ).result AS neg_inflight_entertainment,\n",
    "  -- 3. ネガティブ_座席の快適さ\n",
    "  ai_query(\n",
    "    'databricks-llama-4-maverick',\n",
    "    CONCAT(\n",
    "      \"[指示]次の顧客レビューから[抽出条件]に該当する内容を抽出し、明快で簡潔な一つの文章に要約して下さい\",\n",
    "      \"\\n[顧客レビュー]\",\n",
    "      review,\n",
    "      \"\\n[抽出条件]ネガティブ、かつ「座席の快適さ」に該当する内容\",\n",
    "      \"\\n[厳守事項]\",\n",
    "      \"\\n * 該当がなければ、必ず「-」とだけ回答してください\",\n",
    "      \"\\n * 要約結果のみ出力してください。質問からすでに明らかな文脈は含めない（例えば「座席の快適さ」など自明のものは外すこと）\",\n",
    "      \"\\n * 顧客本人が書いたレビュー風の表現にしてください（例えば「〜についての記載はありません」「〜について触れられていません」など、分析用に補正したとわかる表現は避けること）\",\n",
    "      \"\\n * 背景や評価理由を省略し過ぎず、サービス向上の具体的なアクションに繋がるポイントを明確にしてください\"\n",
    "    ), failOnError => False\n",
    "  ).result AS neg_seat_comfort\n",
    "\n",
    "FROM\n",
    "  komae_demo_v3.airline_voc.bz_reviews\n",
    "WHERE\n",
    "  review_id IN (1,2,3)\n",
    "\n"
   ]
  }
 ],
 "metadata": {
  "application/vnd.databricks.v1+notebook": {
   "computePreferences": null,
   "dashboards": [],
   "environmentMetadata": null,
   "inputWidgetPreferences": null,
   "language": "sql",
   "notebookMetadata": {
    "sqlQueryOptions": {
     "applyAutoLimit": true,
     "catalog": "hive_metastore",
     "schema": "default"
    }
   },
   "notebookName": "ai_query_sample.dbquery.ipynb",
   "widgets": {}
  },
  "language_info": {
   "name": "sql"
  }
 },
 "nbformat": 4,
 "nbformat_minor": 0
}
