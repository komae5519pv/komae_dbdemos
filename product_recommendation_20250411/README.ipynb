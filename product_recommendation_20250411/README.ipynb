{
 "cells": [
  {
   "cell_type": "markdown",
   "metadata": {
    "application/vnd.databricks.v1+cell": {
     "cellMetadata": {},
     "inputWidgets": {},
     "nuid": "3467409b-45a0-4d7c-8270-4e90d4a88a77",
     "showTitle": false,
     "tableResultSettingsMap": {},
     "title": ""
    }
   },
   "source": [
    "# 手順\n",
    "1. クラスタ作成\n",
    "1. 00_configの更新\n",
    "1. ワークフローの設定\n",
    "1. ワークフロー実行\n",
    "1. Databricks Appsデプロイ\n"
   ]
  },
  {
   "cell_type": "markdown",
   "metadata": {
    "application/vnd.databricks.v1+cell": {
     "cellMetadata": {},
     "inputWidgets": {},
     "nuid": "d88a73b0-df34-46ef-a53f-056e664a2345",
     "showTitle": false,
     "tableResultSettingsMap": {},
     "title": ""
    }
   },
   "source": [
    "\n",
    "## 1. クラスタ設定について\n",
    "下記を参考にクラスターを作成してください。\n",
    "\n",
    "**Databricks Runtime**: `DBR16.0 ML以降`\n",
    "\n",
    "**ワーカータイプ**:\n",
    "- Azure: `Standard_E64_v3 (メモリ432GB、64個のコア)`、最小: `2` 〜 最大: `20`\n",
    "- AWS: `r6gd.16xlarge  (メモリ512GB、64個のコア)`、最小: `2` 〜 最大: `20`\n",
    "\n",
    "**アクセスモード**:\n",
    "クラスター -> Adbanced -> アクセスモード  \n",
    "手動（専用）\n",
    "\n",
    "**Spark構成**:\n",
    "クラスター -> Adbanced -> Spark -> Spark構成  \n",
    "下記をコピー＆ペーストしてください。\n",
    "```\n",
    "spark.databricks.delta.formatCheck.enabled: false\n",
    "spark.scheduler.mode FAIR\n",
    "spark.sql.shuffle.partitions 300\n",
    "```\n",
    "\n",
    "クラスター設定画面\n",
    "<img src='https://github.com/komae5519pv/komae_dbdemos/blob/main/product_recommendation_20250411/_images/cluster_spark_setting.png?raw=true' width='88%'/>"
   ]
  },
  {
   "cell_type": "markdown",
   "metadata": {
    "application/vnd.databricks.v1+cell": {
     "cellMetadata": {},
     "inputWidgets": {},
     "nuid": "91ee1e8a-2c40-444d-a2d2-5f8179a6b776",
     "showTitle": false,
     "tableResultSettingsMap": {},
     "title": ""
    }
   },
   "source": [
    "## 2. 00_configの更新\n",
    "[00_config]($00_config) のカタログ名を任意の名前に修正してください。"
   ]
  },
  {
   "cell_type": "markdown",
   "metadata": {
    "application/vnd.databricks.v1+cell": {
     "cellMetadata": {},
     "inputWidgets": {},
     "nuid": "87691921-87d6-4904-be8a-013f91d1a581",
     "showTitle": false,
     "tableResultSettingsMap": {},
     "title": ""
    }
   },
   "source": [
    "## 3. ワークフローの設定\n",
    "[06_yaml_for_workflow]($06_yaml_for_workflow) の手順に従ってワークフローを設定してください。"
   ]
  },
  {
   "cell_type": "markdown",
   "metadata": {
    "application/vnd.databricks.v1+cell": {
     "cellMetadata": {},
     "inputWidgets": {},
     "nuid": "36ab41ad-e4e2-4be4-a692-19a2324091c1",
     "showTitle": false,
     "tableResultSettingsMap": {},
     "title": ""
    }
   },
   "source": [
    "## 4. ワークフローの実行\n",
    "3で設定したワークフローを実行してください\n",
    "ワークフロー -> 該当のワークフローを選択 -> 今すぐ実行"
   ]
  },
  {
   "cell_type": "markdown",
   "metadata": {
    "application/vnd.databricks.v1+cell": {
     "cellMetadata": {},
     "inputWidgets": {},
     "nuid": "087fe635-2e37-4a1c-bbd2-fdb0830d4627",
     "showTitle": false,
     "tableResultSettingsMap": {},
     "title": ""
    }
   },
   "source": [
    "## Databricks Appsデプロイ\n",
    "- クラスター -> アプリ -> 右上「アプリを作成」\n",
    "- Templateでデプロイ後、デプロイするプログラムのパスがTemplate専用になっているので、`./_apps`に差し替える"
   ]
  }
 ],
 "metadata": {
  "application/vnd.databricks.v1+notebook": {
   "computePreferences": null,
   "dashboards": [],
   "environmentMetadata": {
    "base_environment": "",
    "environment_version": "2"
   },
   "inputWidgetPreferences": null,
   "language": "python",
   "notebookMetadata": {
    "pythonIndentUnit": 2
   },
   "notebookName": "README",
   "widgets": {}
  },
  "language_info": {
   "name": "python"
  }
 },
 "nbformat": 4,
 "nbformat_minor": 0
}
