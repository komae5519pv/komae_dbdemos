{
 "cells": [
  {
   "cell_type": "markdown",
   "metadata": {
    "application/vnd.databricks.v1+cell": {
     "cellMetadata": {
      "byteLimit": 2048000,
      "rowLimit": 10000
     },
     "inputWidgets": {},
     "nuid": "d05ecf61-9dae-49cd-b0de-c015d087a35e",
     "showTitle": false,
     "tableResultSettingsMap": {},
     "title": ""
    }
   },
   "source": [
    "## 04. UCに登録されたモデルをモデルサービングエンドポイントにデプロイ\n",
    "\n",
    "02でUCに登録したモデルを、リモートから利用できるようにモデルサービングエンドポイントにデプロイします。\n",
    "\n",
    "<!-- <img src='https://sajpstorage.blob.core.windows.net/maruyama/public_share/demo_end2end/4_model_endpoint.png' width='800' /> -->\n",
    "<img src='https://github.com/komae5519pv/komae_dbdemos/blob/main/e2e_ML_20250629/_data/_imgs/4_model_endpoint.png?raw=true' width='1200' />"
   ]
  },
  {
   "cell_type": "code",
   "execution_count": 0,
   "metadata": {
    "application/vnd.databricks.v1+cell": {
     "cellMetadata": {
      "byteLimit": 2048000,
      "rowLimit": 10000
     },
     "inputWidgets": {},
     "nuid": "27c121d9-654b-4f1c-8854-0b3725eb6a11",
     "showTitle": false,
     "tableResultSettingsMap": {},
     "title": ""
    }
   },
   "outputs": [],
   "source": [
    "%run ./00_setup"
   ]
  },
  {
   "cell_type": "markdown",
   "metadata": {
    "application/vnd.databricks.v1+cell": {
     "cellMetadata": {
      "byteLimit": 2048000,
      "rowLimit": 10000
     },
     "inputWidgets": {},
     "nuid": "d4d1861c-140a-4f33-8f54-f087d13e9112",
     "showTitle": false,
     "tableResultSettingsMap": {},
     "title": ""
    }
   },
   "source": [
    "### 1. モデルサービングエンドポイントにデプロイ\n",
    "MLflowデプロイSDKを使用して、モデルサービングエンドポイントにUCに登録されたモデルをデプロイします"
   ]
  },
  {
   "cell_type": "code",
   "execution_count": 0,
   "metadata": {
    "application/vnd.databricks.v1+cell": {
     "cellMetadata": {
      "byteLimit": 2048000,
      "rowLimit": 10000
     },
     "inputWidgets": {},
     "nuid": "0de2e667-3bf9-447b-8b02-4904bf95cf92",
     "showTitle": true,
     "tableResultSettingsMap": {},
     "title": "デプロイ"
    }
   },
   "outputs": [],
   "source": [
    "import mlflow\n",
    "from mlflow.deployments import get_deploy_client\n",
    "from mlflow.exceptions import MlflowException\n",
    "from requests.exceptions import HTTPError\n",
    "\n",
    "# MLflowクライアントの作成\n",
    "mlflow_client = mlflow.MlflowClient()\n",
    "\n",
    "deploy_client = get_deploy_client(\"databricks\")\n",
    "model_version = mlflow_client.get_model_version_by_alias(f\"{MY_CATALOG}.{MY_SCHEMA}.{MODEL_NAME}\", \"prod\")\n",
    "\n",
    "endpoint_name = f\"komae_{MODEL_NAME}\"[:63]  # 63文字以内にサニタイズ\n",
    "\n",
    "# エンドポイント設定（served_entitiesでエイリアス指定）\n",
    "config = {\n",
    "    \"served_entities\": [{\n",
    "        \"entity_name\": f\"{MY_CATALOG}.{MY_SCHEMA}.{MODEL_NAME}\",\n",
    "        \"entity_version\": model_version.version,\n",
    "        \"workload_size\": \"Small\"\n",
    "    }]\n",
    "}\n",
    "\n",
    "# deploy_client.create_endpoint(name=endpoint_name, config=config)\n",
    "# エラーハンドリング付（新規デプロイ or 既存あればデプロイなし）\n",
    "try:\n",
    "    existing_endpoint = deploy_client.get_endpoint(endpoint_name)\n",
    "    print(f\"既存のエンドポイント '{endpoint_name}' が見つかりました。更新は行いません。\")\n",
    "except HTTPError as e:\n",
    "    if e.response.status_code == 404:\n",
    "        endpoint = deploy_client.create_endpoint(name=endpoint_name, config=config)\n",
    "        print(f\"エンドポイント '{endpoint_name}' を新規作成しました。\")\n",
    "    else:\n",
    "        raise\n",
    "except MlflowException as e:\n",
    "    print(f\"エラーが発生しました: {e}\")\n",
    "    raise"
   ]
  },
  {
   "cell_type": "markdown",
   "metadata": {
    "application/vnd.databricks.v1+cell": {
     "cellMetadata": {
      "byteLimit": 2048000,
      "rowLimit": 10000
     },
     "inputWidgets": {},
     "nuid": "6c65a2f5-3a0b-4e9c-b420-e4fbb186ff21",
     "showTitle": false,
     "tableResultSettingsMap": {},
     "title": ""
    }
   },
   "source": [
    "モデルサービングエンドポイントが「READY」状態になるまでノートブックで監視します。<br>\n",
    "MLflow Deployments SDK（またはREST API）を使ってエンドポイント状態をポーリングします。"
   ]
  },
  {
   "cell_type": "code",
   "execution_count": 0,
   "metadata": {
    "application/vnd.databricks.v1+cell": {
     "cellMetadata": {
      "byteLimit": 2048000,
      "rowLimit": 10000
     },
     "inputWidgets": {},
     "nuid": "8db53e98-f5ab-4edf-9079-d8188d60ab50",
     "showTitle": true,
     "tableResultSettingsMap": {},
     "title": "デプロイ完了まで待機"
    }
   },
   "outputs": [],
   "source": [
    "import time\n",
    "\n",
    "def wait_for_endpoint_ready(client, endpoint_name, timeout=1000, check_interval=10):\n",
    "    \"\"\"\n",
    "    エンドポイントがREADY状態になるまで監視する\n",
    "    :param deploy_client: MLflow Deployments client\n",
    "    :param endpoint_name: 監視対象のエンドポイント名\n",
    "    :param timeout: 最大待機時間（秒）\n",
    "    :param check_interval: 状態チェック間隔（秒）\n",
    "    :return: True if ready, False if timeout\n",
    "    \"\"\"\n",
    "    start_time = time.time()\n",
    "    while True:\n",
    "        endpoint = deploy_client.get_endpoint(endpoint_name)\n",
    "        state_ready = endpoint.get(\"state\", {}).get(\"ready\", \"NOT_READY\")\n",
    "        print(f\"Endpoint state: {state_ready}\")\n",
    "        if state_ready == \"READY\":\n",
    "            print(\"Endpoint is ready to receive traffic.\")\n",
    "            return True\n",
    "        if time.time() - start_time > timeout:\n",
    "            print(\"Timeout waiting for endpoint to be ready.\")\n",
    "            return False\n",
    "        time.sleep(check_interval)\n",
    "\n",
    "# 監視実行\n",
    "wait_for_endpoint_ready(deploy_client, endpoint_name)\n"
   ]
  },
  {
   "cell_type": "markdown",
   "metadata": {
    "application/vnd.databricks.v1+cell": {
     "cellMetadata": {
      "byteLimit": 2048000,
      "rowLimit": 10000
     },
     "inputWidgets": {},
     "nuid": "203414f9-8612-4802-9f4b-6e8de6493e2b",
     "showTitle": false,
     "tableResultSettingsMap": {},
     "title": ""
    }
   },
   "source": [
    "### 2. テスト推論\n",
    "モデルサービングエンドポイントにデプロイされたモデルをクエリ、正常に推論できるかテストします"
   ]
  },
  {
   "cell_type": "code",
   "execution_count": 0,
   "metadata": {
    "application/vnd.databricks.v1+cell": {
     "cellMetadata": {
      "byteLimit": 2048000,
      "rowLimit": 10000
     },
     "inputWidgets": {},
     "nuid": "8ed1e8a1-1eff-44c9-afb9-fbb3ef343bc2",
     "showTitle": true,
     "tableResultSettingsMap": {},
     "title": "ai_query x SQL"
    }
   },
   "outputs": [],
   "source": [
    "results = spark.sql(f'''\n",
    "SELECT\n",
    "  * EXCEPT (churn),\n",
    "  ai_query(\n",
    "    'komae_churn_model',\n",
    "    named_struct(\n",
    "      \"seniorCitizen\", seniorCitizen,\n",
    "      \"tenure\", tenure,\n",
    "      \"monthlyCharges\", monthlyCharges,\n",
    "      \"totalCharges\", totalCharges,\n",
    "      \"gender_Female\", gender_Female,\n",
    "      \"gender_Male\", gender_Male,\n",
    "      \"partner_No\", partner_No,\n",
    "      \"partner_Yes\", partner_Yes,\n",
    "      \"dependents_No\", dependents_No,\n",
    "      \"dependents_Yes\", dependents_Yes,\n",
    "      \"phoneService_No\", phoneService_No,\n",
    "      \"phoneService_Yes\", phoneService_Yes,\n",
    "      \"multipleLines_No\", multipleLines_No,\n",
    "      \"multipleLines_Nophoneservice\", multipleLines_Nophoneservice,\n",
    "      \"multipleLines_Yes\", multipleLines_Yes,\n",
    "      \"internetService_DSL\", internetService_DSL,\n",
    "      \"internetService_Fiberoptic\", internetService_Fiberoptic,\n",
    "      \"internetService_No\", internetService_No,\n",
    "      \"onlineSecurity_No\", onlineSecurity_No,\n",
    "      \"onlineSecurity_Nointernetservice\", onlineSecurity_Nointernetservice,\n",
    "      \"onlineSecurity_Yes\", onlineSecurity_Yes,\n",
    "      \"onlineBackup_No\", onlineBackup_No,\n",
    "      \"onlineBackup_Nointernetservice\", onlineBackup_Nointernetservice,\n",
    "      \"onlineBackup_Yes\", onlineBackup_Yes,\n",
    "      \"deviceProtection_No\", deviceProtection_No,\n",
    "      \"deviceProtection_Nointernetservice\", deviceProtection_Nointernetservice,\n",
    "      \"deviceProtection_Yes\", deviceProtection_Yes,\n",
    "      \"techSupport_No\", techSupport_No,\n",
    "      \"techSupport_Nointernetservice\", techSupport_Nointernetservice,\n",
    "      \"techSupport_Yes\", techSupport_Yes,\n",
    "      \"streamingTV_No\", streamingTV_No,\n",
    "      \"streamingTV_Nointernetservice\", streamingTV_Nointernetservice,\n",
    "      \"streamingTV_Yes\", streamingTV_Yes,\n",
    "      \"streamingMovies_No\", streamingMovies_No,\n",
    "      \"streamingMovies_Nointernetservice\", streamingMovies_Nointernetservice,\n",
    "      \"streamingMovies_Yes\", streamingMovies_Yes,\n",
    "      \"contract_Month-to-month\", `contract_Month-to-month`,\n",
    "      \"contract_Oneyear\", contract_Oneyear,\n",
    "      \"contract_Twoyear\", contract_Twoyear,\n",
    "      \"paperlessBilling_No\", paperlessBilling_No,\n",
    "      \"paperlessBilling_Yes\", paperlessBilling_Yes,\n",
    "      \"paymentMethod_Banktransfer-automatic\", `paymentMethod_Banktransfer-automatic`,\n",
    "      \"paymentMethod_Creditcard-automatic\", `paymentMethod_Creditcard-automatic`,\n",
    "      \"paymentMethod_Electroniccheck\", paymentMethod_Electroniccheck,\n",
    "      \"paymentMethod_Mailedcheck\", paymentMethod_Mailedcheck\n",
    "    ),\n",
    "    'FLOAT'  -- モデルが返す型に合わせて指定\n",
    "  ) AS prediction\n",
    "FROM {MY_CATALOG}.{MY_SCHEMA}.churn_features\n",
    "LIMIT 100\n",
    "''')\n",
    "\n",
    "print(results.count())\n",
    "print(results.columns)\n",
    "display(results.limit(10))"
   ]
  },
  {
   "cell_type": "code",
   "execution_count": 0,
   "metadata": {
    "application/vnd.databricks.v1+cell": {
     "cellMetadata": {
      "byteLimit": 2048000,
      "rowLimit": 10000
     },
     "inputWidgets": {},
     "nuid": "ace78ad4-38a5-4bc4-9a27-b902489a1306",
     "showTitle": true,
     "tableResultSettingsMap": {},
     "title": "ai_query x Python"
    }
   },
   "outputs": [],
   "source": [
    "from pyspark.sql.functions import expr\n",
    "\n",
    "# テーブルデータの取得\n",
    "df = spark.table(f\"{MY_CATALOG}.{MY_SCHEMA}.churn_features\")\n",
    "\n",
    "# ai_queryをexprで実行\n",
    "results = df.withColumn(\n",
    "    \"prediction\",\n",
    "    expr(f\"\"\"\n",
    "    ai_query(\n",
    "        'komae_churn_model',\n",
    "        named_struct(\n",
    "            'seniorCitizen', seniorCitizen,\n",
    "            'tenure', tenure,\n",
    "            'monthlyCharges', monthlyCharges,\n",
    "            'totalCharges', totalCharges,\n",
    "            'gender_Female', gender_Female,\n",
    "            'gender_Male', gender_Male,\n",
    "            'partner_No', partner_No,\n",
    "            'partner_Yes', partner_Yes,\n",
    "            'dependents_No', dependents_No,\n",
    "            'dependents_Yes', dependents_Yes,\n",
    "            'phoneService_No', phoneService_No,\n",
    "            'phoneService_Yes', phoneService_Yes,\n",
    "            'multipleLines_No', multipleLines_No,\n",
    "            'multipleLines_Nophoneservice', multipleLines_Nophoneservice,\n",
    "            'multipleLines_Yes', multipleLines_Yes,\n",
    "            'internetService_DSL', internetService_DSL,\n",
    "            'internetService_Fiberoptic', internetService_Fiberoptic,\n",
    "            'internetService_No', internetService_No,\n",
    "            'onlineSecurity_No', onlineSecurity_No,\n",
    "            'onlineSecurity_Nointernetservice', onlineSecurity_Nointernetservice,\n",
    "            'onlineSecurity_Yes', onlineSecurity_Yes,\n",
    "            'onlineBackup_No', onlineBackup_No,\n",
    "            'onlineBackup_Nointernetservice', onlineBackup_Nointernetservice,\n",
    "            'onlineBackup_Yes', onlineBackup_Yes,\n",
    "            'deviceProtection_No', deviceProtection_No,\n",
    "            'deviceProtection_Nointernetservice', deviceProtection_Nointernetservice,\n",
    "            'deviceProtection_Yes', deviceProtection_Yes,\n",
    "            'techSupport_No', techSupport_No,\n",
    "            'techSupport_Nointernetservice', techSupport_Nointernetservice,\n",
    "            'techSupport_Yes', techSupport_Yes,\n",
    "            'streamingTV_No', streamingTV_No,\n",
    "            'streamingTV_Nointernetservice', streamingTV_Nointernetservice,\n",
    "            'streamingTV_Yes', streamingTV_Yes,\n",
    "            'streamingMovies_No', streamingMovies_No,\n",
    "            'streamingMovies_Nointernetservice', streamingMovies_Nointernetservice,\n",
    "            'streamingMovies_Yes', streamingMovies_Yes,\n",
    "            'contract_Month-to-month', `contract_Month-to-month`,\n",
    "            'contract_Oneyear', contract_Oneyear,\n",
    "            'contract_Twoyear', contract_Twoyear,\n",
    "            'paperlessBilling_No', paperlessBilling_No,\n",
    "            'paperlessBilling_Yes', paperlessBilling_Yes,\n",
    "            'paymentMethod_Banktransfer-automatic', `paymentMethod_Banktransfer-automatic`,\n",
    "            'paymentMethod_Creditcard-automatic', `paymentMethod_Creditcard-automatic`,\n",
    "            'paymentMethod_Electroniccheck', paymentMethod_Electroniccheck,\n",
    "            'paymentMethod_Mailedcheck', paymentMethod_Mailedcheck\n",
    "        ),\n",
    "        'FLOAT'\n",
    "    )\n",
    "    \"\"\")\n",
    ")\n",
    "\n",
    "print(results.count())\n",
    "print(results.columns)\n",
    "display(results.limit(10))\n",
    "\n",
    "# オプション: 結果をテーブルとして保存\n",
    "# results.write.mode(\"overwrite\").saveAsTable(f\"{MY_CATALOG}.{MY_SCHEMA}.churn_predictions\")\n"
   ]
  }
 ],
 "metadata": {
  "application/vnd.databricks.v1+notebook": {
   "computePreferences": null,
   "dashboards": [],
   "environmentMetadata": null,
   "inputWidgetPreferences": null,
   "language": "python",
   "notebookMetadata": {
    "pythonIndentUnit": 2,
    "widgetLayout": []
   },
   "notebookName": "04_model_serving_deploy",
   "widgets": {}
  },
  "language_info": {
   "name": "python"
  }
 },
 "nbformat": 4,
 "nbformat_minor": 0
}
