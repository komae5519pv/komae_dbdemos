{
 "cells": [
  {
   "cell_type": "code",
   "execution_count": 0,
   "metadata": {
    "application/vnd.databricks.v1+cell": {
     "cellMetadata": {
      "byteLimit": 10485760,
      "rowLimit": 1000
     },
     "inputWidgets": {},
     "nuid": "a8dc626c-4a30-4fc0-a4b5-990927c7b7d9",
     "showTitle": false,
     "tableResultSettingsMap": {},
     "title": ""
    }
   },
   "outputs": [],
   "source": [
    "SELECT\n",
    "  * EXCEPT (churn),\n",
    "  ai_query(\n",
    "    'komae_churn_model',\n",
    "    named_struct(\n",
    "      \"seniorCitizen\", seniorCitizen,\n",
    "      \"tenure\", tenure,\n",
    "      \"monthlyCharges\", monthlyCharges,\n",
    "      \"totalCharges\", totalCharges,\n",
    "      \"gender_Female\", gender_Female,\n",
    "      \"gender_Male\", gender_Male,\n",
    "      \"partner_No\", partner_No,\n",
    "      \"partner_Yes\", partner_Yes,\n",
    "      \"dependents_No\", dependents_No,\n",
    "      \"dependents_Yes\", dependents_Yes,\n",
    "      \"phoneService_No\", phoneService_No,\n",
    "      \"phoneService_Yes\", phoneService_Yes,\n",
    "      \"multipleLines_No\", multipleLines_No,\n",
    "      \"multipleLines_Nophoneservice\", multipleLines_Nophoneservice,\n",
    "      \"multipleLines_Yes\", multipleLines_Yes,\n",
    "      \"internetService_DSL\", internetService_DSL,\n",
    "      \"internetService_Fiberoptic\", internetService_Fiberoptic,\n",
    "      \"internetService_No\", internetService_No,\n",
    "      \"onlineSecurity_No\", onlineSecurity_No,\n",
    "      \"onlineSecurity_Nointernetservice\", onlineSecurity_Nointernetservice,\n",
    "      \"onlineSecurity_Yes\", onlineSecurity_Yes,\n",
    "      \"onlineBackup_No\", onlineBackup_No,\n",
    "      \"onlineBackup_Nointernetservice\", onlineBackup_Nointernetservice,\n",
    "      \"onlineBackup_Yes\", onlineBackup_Yes,\n",
    "      \"deviceProtection_No\", deviceProtection_No,\n",
    "      \"deviceProtection_Nointernetservice\", deviceProtection_Nointernetservice,\n",
    "      \"deviceProtection_Yes\", deviceProtection_Yes,\n",
    "      \"techSupport_No\", techSupport_No,\n",
    "      \"techSupport_Nointernetservice\", techSupport_Nointernetservice,\n",
    "      \"techSupport_Yes\", techSupport_Yes,\n",
    "      \"streamingTV_No\", streamingTV_No,\n",
    "      \"streamingTV_Nointernetservice\", streamingTV_Nointernetservice,\n",
    "      \"streamingTV_Yes\", streamingTV_Yes,\n",
    "      \"streamingMovies_No\", streamingMovies_No,\n",
    "      \"streamingMovies_Nointernetservice\", streamingMovies_Nointernetservice,\n",
    "      \"streamingMovies_Yes\", streamingMovies_Yes,\n",
    "      \"contract_Month-to-month\", `contract_Month-to-month`,\n",
    "      \"contract_Oneyear\", contract_Oneyear,\n",
    "      \"contract_Twoyear\", contract_Twoyear,\n",
    "      \"paperlessBilling_No\", paperlessBilling_No,\n",
    "      \"paperlessBilling_Yes\", paperlessBilling_Yes,\n",
    "      \"paymentMethod_Banktransfer-automatic\", `paymentMethod_Banktransfer-automatic`,\n",
    "      \"paymentMethod_Creditcard-automatic\", `paymentMethod_Creditcard-automatic`,\n",
    "      \"paymentMethod_Electroniccheck\", paymentMethod_Electroniccheck,\n",
    "      \"paymentMethod_Mailedcheck\", paymentMethod_Mailedcheck\n",
    "    ),\n",
    "    'FLOAT'  -- モデルが返す型に合わせて指定\n",
    "  ) AS prediction\n",
    "FROM komae_demo_v1.ml_handson.churn_features\n",
    "LIMIT 100"
   ]
  }
 ],
 "metadata": {
  "application/vnd.databricks.v1+notebook": {
   "computePreferences": null,
   "dashboards": [],
   "environmentMetadata": null,
   "inputWidgetPreferences": null,
   "language": "sql",
   "notebookMetadata": {
    "pythonIndentUnit": 2,
    "sqlQueryOptions": {
     "applyAutoLimit": true,
     "catalog": "main",
     "schema": "default"
    }
   },
   "notebookName": "バッチ推論サンプルSQL.dbquery.ipynb",
   "widgets": {}
  },
  "language_info": {
   "name": "sql"
  }
 },
 "nbformat": 4,
 "nbformat_minor": 0
}
