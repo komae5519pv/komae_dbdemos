{
 "cells": [
  {
   "cell_type": "code",
   "execution_count": 0,
   "metadata": {
    "application/vnd.databricks.v1+cell": {
     "cellMetadata": {
      "byteLimit": 10485760,
      "rowLimit": 1000
     },
     "inputWidgets": {},
     "nuid": "26377cb0-5c4d-4eab-b044-6615f5abf7a3",
     "showTitle": false,
     "tableResultSettingsMap": {},
     "title": ""
    }
   },
   "outputs": [],
   "source": [
    "SELECT\n",
    "  feedback_id,      -- フィードバックID\n",
    "  user_id,          -- 会員ID\n",
    "  product_id,       -- 商品ID\n",
    "  rating,           -- 評価\n",
    "  date,             -- フィードバック日\n",
    "  -- カテゴリ\n",
    "  ai_query(\n",
    "    'databricks-claude-3-7-sonnet',\n",
    "    CONCAT(\n",
    "      \"[指示]次の顧客レビュー内容を、次のカテゴリのいずれかに分類してください\",\n",
    "      \"\\n[顧客レビュー]\" || comment,\n",
    "      \"\\n[分類カテゴリ]\",\n",
    "      \"\\n品揃え・在庫\",\n",
    "      \"\\n品質\",\n",
    "      \"\\nコスパ・お得感\",\n",
    "      \"\\n接客・サービス\",\n",
    "      \"\\n店舗設備・環境\",\n",
    "      \"\\nその他\",\n",
    "      \"\\n[厳守事項]\",\n",
    "      \"\\n * カテゴリから1つのみ選択してください。\",\n",
    "      \"\\n * カテゴリのみ出力してください。補足は一切不要です。\"\n",
    "    ), failOnError => False\n",
    "  ).result AS category,\n",
    "  -- 要約\n",
    "  ai_query(\n",
    "    'databricks-claude-3-7-sonnet',\n",
    "    CONCAT(\n",
    "      \"[指示]次の顧客レビューから要点を絞って、明快で簡潔な一つの文章に要約して下さい\",\n",
    "      \"\\n[顧客レビュー]\" || comment,\n",
    "      \"\\n[厳守事項]\",\n",
    "      \"\\n * 要約結果のみ出力してください。こちらの指示に関する補足は一切不要です。\",\n",
    "      \"\\n * 30文字以内に収めること。\"\n",
    "    ), failOnError => False\n",
    "  ).result AS summary,\n",
    "  -- ポジティブスコア\n",
    "  CAST( \n",
    "    ai_query(\n",
    "        'databricks-claude-3-7-sonnet',\n",
    "        CONCAT(\n",
    "        \"[指示]次の顧客レビュー内容について、0~1の間でポジティブスコアを付与してください\",\n",
    "        \"\\n[顧客レビュー]\" || comment,\n",
    "        \"\\n[出力形式]\",\n",
    "        \"\\n * 範囲0~1の少数第二位までで出力してください。\",\n",
    "        \"\\n * 1に近いほどポジティブ度合いが強く、0に近いほどポジティブ度合いが弱い。\",\n",
    "        \"\\n[厳守事項]\",\n",
    "        \"\\n * ポジティブスコアのみ出力してください。補足は一切不要です。\"\n",
    "        ), failOnError => False\n",
    "    ).result AS FLOAT) AS positive_score,\n",
    "  comment\n",
    "FROM komae_demo_v3.bricksmart.feedbacks                          -- TODO: カタログ名をご自身の環境に合わせて変更ください\n",
    "LIMIT 5;\n"
   ]
  }
 ],
 "metadata": {
  "application/vnd.databricks.v1+notebook": {
   "computePreferences": null,
   "dashboards": [],
   "environmentMetadata": null,
   "inputWidgetPreferences": null,
   "language": "sql",
   "notebookMetadata": {
    "sqlQueryOptions": {
     "applyAutoLimit": true,
     "catalog": "hive_metastore",
     "schema": "default"
    }
   },
   "notebookName": "ai_query_sample.dbquery.ipynb",
   "widgets": {}
  },
  "language_info": {
   "name": "sql"
  }
 },
 "nbformat": 4,
 "nbformat_minor": 0
}
