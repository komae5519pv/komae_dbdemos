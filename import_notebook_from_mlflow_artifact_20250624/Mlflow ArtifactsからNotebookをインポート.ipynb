{
 "cells": [
  {
   "cell_type": "markdown",
   "metadata": {
    "application/vnd.databricks.v1+cell": {
     "cellMetadata": {},
     "inputWidgets": {},
     "nuid": "b643d46d-f1a8-41ff-ba5f-7d7701c0890b",
     "showTitle": false,
     "tableResultSettingsMap": {},
     "title": ""
    }
   },
   "source": [
    "# MLflow Artifactsに保存されるノートブックをインポート\n",
    "UIで実行したAutoML ExperimentsでもMLflow/Artifact構造は全く同じなので、同じ方法で後から自動取得できます。  \n",
    "MLflow Runに「generated_notebook.ipynb」が添付されていないケース（トライアルタイプによっては存在しない場合あり）には注意してください。\n",
    "\n",
    "[AutoML Python API リファレンス](https://learn.microsoft.com/ja-jp/azure/databricks/machine-learning/automl/automl-api-reference#import-notebook)"
   ]
  },
  {
   "cell_type": "markdown",
   "metadata": {
    "application/vnd.databricks.v1+cell": {
     "cellMetadata": {},
     "inputWidgets": {},
     "nuid": "7230656c-de9d-40ae-a4ac-e5a0403af762",
     "showTitle": false,
     "tableResultSettingsMap": {},
     "title": ""
    }
   },
   "source": [
    "### カレントディレクトリを取得"
   ]
  },
  {
   "cell_type": "code",
   "execution_count": 0,
   "metadata": {
    "application/vnd.databricks.v1+cell": {
     "cellMetadata": {
      "byteLimit": 2048000,
      "rowLimit": 10000
     },
     "inputWidgets": {},
     "nuid": "ec6da75c-eb42-4630-b5fc-8b749fbf61f9",
     "showTitle": false,
     "tableResultSettingsMap": {},
     "title": ""
    }
   },
   "outputs": [],
   "source": [
    "current_directory = dbutils.notebook.entry_point.getDbutils().notebook().getContext().notebookPath().get().rsplit('/', 1)[0]\n",
    "print(current_directory)"
   ]
  },
  {
   "cell_type": "markdown",
   "metadata": {
    "application/vnd.databricks.v1+cell": {
     "cellMetadata": {},
     "inputWidgets": {},
     "nuid": "7cd00430-a8f4-4634-ace9-177c49ad527e",
     "showTitle": false,
     "tableResultSettingsMap": {},
     "title": ""
    }
   },
   "source": [
    "### MLflow Artifactsから全Runのノートブックをカレントディレクトリにインポート"
   ]
  },
  {
   "cell_type": "code",
   "execution_count": 0,
   "metadata": {
    "application/vnd.databricks.v1+cell": {
     "cellMetadata": {
      "byteLimit": 2048000,
      "rowLimit": 10000
     },
     "inputWidgets": {},
     "nuid": "f05c368a-12a8-4f3a-8dda-273956a0657b",
     "showTitle": false,
     "tableResultSettingsMap": {},
     "title": ""
    }
   },
   "outputs": [],
   "source": [
    "# ウィジットを表示\n",
    "dbutils.widgets.text(\"experiment_id\", \"\", \"Experiment ID\")\n",
    "dbutils.widgets.text(\"run_id\", \"\", \"Run ID\")"
   ]
  },
  {
   "cell_type": "code",
   "execution_count": 0,
   "metadata": {
    "application/vnd.databricks.v1+cell": {
     "cellMetadata": {
      "byteLimit": 2048000,
      "rowLimit": 10000
     },
     "inputWidgets": {},
     "nuid": "f022db27-ceb1-43dc-80f6-4fe957ccfb6e",
     "showTitle": false,
     "tableResultSettingsMap": {},
     "title": ""
    }
   },
   "outputs": [],
   "source": [
    "# ウィジットから入力値を取得\n",
    "experiment_id = dbutils.widgets.get(\"experiment_id\")\n",
    "my_run_id = dbutils.widgets.get(\"run_id\")"
   ]
  },
  {
   "cell_type": "code",
   "execution_count": 0,
   "metadata": {
    "application/vnd.databricks.v1+cell": {
     "cellMetadata": {
      "byteLimit": 2048000,
      "rowLimit": 10000
     },
     "inputWidgets": {},
     "nuid": "5f350fb9-17ac-48f2-a2e2-7bf0113e5049",
     "showTitle": true,
     "tableResultSettingsMap": {},
     "title": "全Runのノートブックを一括インポート"
    }
   },
   "outputs": [],
   "source": [
    "import mlflow\n",
    "import databricks.automl\n",
    "\n",
    "# MLflowから全Runの取得\n",
    "client = mlflow.tracking.MlflowClient()\n",
    "runs = client.search_runs(experiment_ids=[experiment_id])\n",
    "\n",
    "# 各Runのartifact_uriを使ってノートブックをインポート\n",
    "for run in runs:\n",
    "    # 取得元のNotebookのアーティファクトパス\n",
    "    artifact_uri = f\"dbfs:/databricks/mlflow-tracking/{experiment_id}/{run.info.run_id}/artifacts/notebooks/training_notebook.ipynb\"\n",
    "\n",
    "    # インポート先のNotebookパス（Notebook名: Run ID）\n",
    "    notebook_path = f\"{current_directory}/automl_notebooks/{run.info.run_id}\"\n",
    "\n",
    "    try:\n",
    "        result = databricks.automl.import_notebook(\n",
    "            artifact_uri=artifact_uri,\n",
    "            path=notebook_path,\n",
    "            overwrite=True  # 既存の場合は上書き\n",
    "        )\n",
    "        print(f\"Imported: {result.path} (URL: {result.url})\")\n",
    "    except Exception as e:\n",
    "        print(f\"Failed for run {run.info.run_id}: {e}\")"
   ]
  },
  {
   "cell_type": "code",
   "execution_count": 0,
   "metadata": {
    "application/vnd.databricks.v1+cell": {
     "cellMetadata": {
      "byteLimit": 2048000,
      "rowLimit": 10000
     },
     "inputWidgets": {},
     "nuid": "cdd35b9d-6b3e-4e4b-808c-9c547cc7a1b2",
     "showTitle": true,
     "tableResultSettingsMap": {},
     "title": "パターン2. 特定Runのノートブックのみインポート"
    }
   },
   "outputs": [],
   "source": [
    "import databricks.automl\n",
    "\n",
    "'''指定したRunのartifact_uriを使ってノートブックをインポート'''\n",
    "\n",
    "# 取得元のNotebookのアーティファクトパス\n",
    "artifact_uri = f\"dbfs:/databricks/mlflow-tracking/{experiment_id}/{my_run_id}/artifacts/notebooks/training_notebook.ipynb\"\n",
    "\n",
    "# インポート先のNotebookパス（Notebook名: Run Name + Run ID）\n",
    "notebook_path = f\"{current_directory}/automl_notebooks/{my_run_id}\"\n",
    "\n",
    "try:\n",
    "    result = databricks.automl.import_notebook(\n",
    "        artifact_uri=artifact_uri,\n",
    "        path=notebook_path,\n",
    "        overwrite=True  # 既存の場合は上書き\n",
    "    )\n",
    "    print(f\"Imported: {result.path} (URL: {result.url})\")\n",
    "except Exception as e:\n",
    "    print(f\"Failed for run {my_run_id}: {e}\")"
   ]
  }
 ],
 "metadata": {
  "application/vnd.databricks.v1+notebook": {
   "computePreferences": null,
   "dashboards": [],
   "environmentMetadata": {
    "base_environment": "",
    "environment_version": "2"
   },
   "inputWidgetPreferences": null,
   "language": "python",
   "notebookMetadata": {
    "pythonIndentUnit": 2
   },
   "notebookName": "Mlflow ArtifactsからNotebookをインポート",
   "widgets": {
    "experiment_id": {
     "currentValue": "2275659825087712",
     "nuid": "3970252b-a9f0-4ae5-98f9-c4e16f63d689",
     "typedWidgetInfo": {
      "autoCreated": false,
      "defaultValue": "",
      "label": "Experiment ID",
      "name": "experiment_id",
      "options": {
       "widgetDisplayType": "Text",
       "validationRegex": null
      },
      "parameterDataType": "String"
     },
     "widgetInfo": {
      "widgetType": "text",
      "defaultValue": "",
      "label": "Experiment ID",
      "name": "experiment_id",
      "options": {
       "widgetType": "text",
       "autoCreated": null,
       "validationRegex": null
      }
     }
    },
    "run_id": {
     "currentValue": "abdf42fc201f48cf9a7d8450ec5d5c7a",
     "nuid": "92e6770d-202f-489e-b3ca-81ca92874960",
     "typedWidgetInfo": {
      "autoCreated": false,
      "defaultValue": "",
      "label": "Run ID",
      "name": "run_id",
      "options": {
       "widgetDisplayType": "Text",
       "validationRegex": null
      },
      "parameterDataType": "String"
     },
     "widgetInfo": {
      "widgetType": "text",
      "defaultValue": "",
      "label": "Run ID",
      "name": "run_id",
      "options": {
       "widgetType": "text",
       "autoCreated": null,
       "validationRegex": null
      }
     }
    }
   }
  },
  "language_info": {
   "name": "python"
  }
 },
 "nbformat": 4,
 "nbformat_minor": 0
}
