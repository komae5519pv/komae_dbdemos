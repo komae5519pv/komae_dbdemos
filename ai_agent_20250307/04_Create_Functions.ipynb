{
 "cells": [
  {
   "cell_type": "markdown",
   "metadata": {
    "application/vnd.databricks.v1+cell": {
     "cellMetadata": {},
     "inputWidgets": {},
     "nuid": "c7075929-a42c-472c-8f6d-5836e41cd58d",
     "showTitle": false,
     "tableResultSettingsMap": {},
     "title": ""
    }
   },
   "source": [
    "# AI エージェントが使うツール（関数）を作成します\n",
    "- クラスタはDBR 16.0 ML以降で実行してください"
   ]
  },
  {
   "cell_type": "code",
   "execution_count": 0,
   "metadata": {
    "application/vnd.databricks.v1+cell": {
     "cellMetadata": {
      "byteLimit": 2048000,
      "rowLimit": 10000
     },
     "inputWidgets": {},
     "nuid": "80b03129-828b-4960-9b3a-65db737ce2a4",
     "showTitle": false,
     "tableResultSettingsMap": {},
     "title": ""
    }
   },
   "outputs": [],
   "source": [
    "%run ./00_config"
   ]
  },
  {
   "cell_type": "markdown",
   "metadata": {
    "application/vnd.databricks.v1+cell": {
     "cellMetadata": {
      "byteLimit": 2048000,
      "rowLimit": 10000
     },
     "inputWidgets": {},
     "nuid": "8e2d85e0-6354-412b-b469-0907346d3393",
     "showTitle": false,
     "tableResultSettingsMap": {},
     "title": ""
    }
   },
   "source": [
    "## 1. エリア、店舗ごとの販売ランキング\n",
    "概要：店舗エリア、店舗ごとの売上ランキングを表示（販売点数で降順）  \n",
    "関数：`get_store_sales_ranking()`  \n",
    "入力例：店舗エリア、店舗の売上ランキングを表示"
   ]
  },
  {
   "cell_type": "code",
   "execution_count": 0,
   "metadata": {
    "application/vnd.databricks.v1+cell": {
     "cellMetadata": {
      "byteLimit": 2048000,
      "rowLimit": 10000
     },
     "inputWidgets": {},
     "nuid": "0f41bcea-afc1-423a-b825-adb5d5f4b6c5",
     "showTitle": true,
     "tableResultSettingsMap": {},
     "title": "関数作成"
    }
   },
   "outputs": [],
   "source": [
    "spark.sql(f\"\"\"\n",
    "CREATE OR REPLACE FUNCTION {MY_CATALOG}.{MY_SCHEMA}.get_store_sales_ranking(\n",
    "  limit_rows INT DEFAULT 10\n",
    ")\n",
    "  RETURNS TABLE\n",
    "  READS SQL DATA\n",
    "  SQL SECURITY DEFINER\n",
    "COMMENT '店舗エリア、店舗ごとの売上ランキングを表示（売上金額で降順）'\n",
    "RETURN\n",
    "    SELECT\n",
    "      store_area,                                                                 -- 店舗エリア\n",
    "      store_name,                                                                 -- 店舗名\n",
    "      address,                                                                    -- 住所\n",
    "      total_sales,                                                                -- 売上金額\n",
    "      total_quantity,                                                             -- 販売点数\n",
    "      uq_user_cnt,                                                                -- 購買顧客uu数\n",
    "      avg_purchases_per_user                                                      -- 1人あたりの平均購買回数\n",
    "    FROM (\n",
    "        SELECT\n",
    "          store_area,\n",
    "          store_name,\n",
    "          address,\n",
    "          SUM(subtotal) AS total_sales,\n",
    "          SUM(quantity) AS total_quantity,\n",
    "          COUNT(DISTINCT user_id) AS uq_user_cnt,\n",
    "          COUNT(order_item_id) / COUNT(DISTINCT user_id) AS avg_purchases_per_user,\n",
    "          ROW_NUMBER() OVER (ORDER BY SUM(subtotal) DESC) AS row_num\n",
    "        FROM\n",
    "            {MY_CATALOG}.{MY_SCHEMA}.silver_pos_orders_items\n",
    "        WHERE\n",
    "            quantity IS NOT NULL\n",
    "            AND subtotal IS NOT NULL\n",
    "            AND user_id IS NOT NULL\n",
    "        GROUP BY 1,2,3\n",
    "    ) ranked\n",
    "    WHERE row_num <= limit_rows\n",
    "    ORDER BY\n",
    "        total_sales DESC\n",
    "\"\"\")"
   ]
  },
  {
   "cell_type": "code",
   "execution_count": 0,
   "metadata": {
    "application/vnd.databricks.v1+cell": {
     "cellMetadata": {
      "byteLimit": 2048000,
      "rowLimit": 10000
     },
     "inputWidgets": {},
     "nuid": "c8ce0874-ca91-4983-85c5-6dbc7c0e15f4",
     "showTitle": true,
     "tableResultSettingsMap": {},
     "title": "チェック"
    }
   },
   "outputs": [],
   "source": [
    "display(\n",
    "  spark.sql(f\"\"\"\n",
    "            SELECT * FROM {MY_CATALOG}.{MY_SCHEMA}.get_store_sales_ranking()\n",
    "  \"\"\")\n",
    ")"
   ]
  },
  {
   "cell_type": "markdown",
   "metadata": {
    "application/vnd.databricks.v1+cell": {
     "cellMetadata": {
      "byteLimit": 2048000,
      "rowLimit": 10000
     },
     "inputWidgets": {},
     "nuid": "1d29e7a3-6195-4b85-b37f-975117cfc2bc",
     "showTitle": false,
     "tableResultSettingsMap": {},
     "title": ""
    }
   },
   "source": [
    "## 2. 特定店舗の売れ筋商品ランキング\n",
    "概要：特定エリア・店舗の商品別販売数ランキングを表示（販売点数で降順）  \n",
    "関数：`get_store_item_sales_ranking()`  \n",
    "引数：`p_store_area`: `店舗エリア`、`p_store_name`: `店舗名`  \n",
    "入力例：関東地方・東京都品川区店の商品売上ランキング"
   ]
  },
  {
   "cell_type": "code",
   "execution_count": 0,
   "metadata": {
    "application/vnd.databricks.v1+cell": {
     "cellMetadata": {
      "byteLimit": 2048000,
      "rowLimit": 10000
     },
     "inputWidgets": {},
     "nuid": "6ede1869-5eba-4b37-92db-2b5c8ef90f84",
     "showTitle": true,
     "tableResultSettingsMap": {},
     "title": "関数作成"
    }
   },
   "outputs": [],
   "source": [
    "spark.sql(f\"\"\"\n",
    "CREATE OR REPLACE FUNCTION {MY_CATALOG}.{MY_SCHEMA}.get_store_item_sales_ranking(\n",
    "  p_store_area STRING DEFAULT NULL COMMENT \"店舗エリア\",\n",
    "  p_store_name STRING DEFAULT NULL COMMENT \"店舗名\",\n",
    "  limit_rows INT DEFAULT 10 COMMENT \"表示する行数\"\n",
    ")\n",
    "  RETURNS TABLE\n",
    "  READS SQL DATA\n",
    "  SQL SECURITY DEFINER\n",
    "COMMENT '特定エリア・店舗の商品別売上ランキングを表示（売上金額で降順）'\n",
    "RETURN\n",
    "  SELECT\n",
    "    store_area,                                                    -- 店舗エリア\n",
    "    store_name,                                                    -- 店舗名\n",
    "    address,                                                       -- 住所\n",
    "    item_name,                                                     -- 商品名\n",
    "    category_name,                                                 -- カテゴリ名\n",
    "    total_sales,                                                   -- 売上金額\n",
    "    total_quantity                                                 -- 販売点数\n",
    "  FROM (\n",
    "    SELECT\n",
    "      store_area,\n",
    "      store_name,\n",
    "      address,\n",
    "      item_name,\n",
    "      category_name,\n",
    "      SUM(subtotal) AS total_sales,\n",
    "      SUM(quantity) AS total_quantity,\n",
    "      ROW_NUMBER() OVER (ORDER BY SUM(subtotal) DESC) AS row_num\n",
    "    FROM\n",
    "      {MY_CATALOG}.{MY_SCHEMA}.silver_pos_orders_items\n",
    "    WHERE\n",
    "      CASE \n",
    "        WHEN p_store_area IS NOT NULL AND p_store_name IS NOT NULL THEN\n",
    "          store_area = p_store_area AND store_name = p_store_name\n",
    "        WHEN p_store_area IS NOT NULL THEN\n",
    "          store_area = p_store_area\n",
    "        WHEN p_store_name IS NOT NULL THEN\n",
    "          store_name = p_store_name\n",
    "        ELSE TRUE\n",
    "      END\n",
    "    GROUP BY 1,2,3,4,5\n",
    "  ) ranked\n",
    "  WHERE row_num <= limit_rows\n",
    "  ORDER BY\n",
    "    total_sales DESC\n",
    "\"\"\")"
   ]
  },
  {
   "cell_type": "code",
   "execution_count": 0,
   "metadata": {
    "application/vnd.databricks.v1+cell": {
     "cellMetadata": {
      "byteLimit": 2048000,
      "rowLimit": 10000
     },
     "inputWidgets": {},
     "nuid": "431d29a2-9212-4397-a791-46cb3638a583",
     "showTitle": false,
     "tableResultSettingsMap": {},
     "title": ""
    }
   },
   "outputs": [],
   "source": [
    "display(\n",
    "  spark.sql(f\"\"\"\n",
    "    SELECT * FROM {MY_CATALOG}.{MY_SCHEMA}.get_store_item_sales_ranking(\"関東地方\", \"東京都品川区店\")\n",
    "  \"\"\")\n",
    ")"
   ]
  },
  {
   "cell_type": "code",
   "execution_count": 0,
   "metadata": {
    "application/vnd.databricks.v1+cell": {
     "cellMetadata": {
      "byteLimit": 2048000,
      "rowLimit": 10000
     },
     "inputWidgets": {},
     "nuid": "b798392b-1d72-49c7-92a2-c377d34b0b05",
     "showTitle": true,
     "tableResultSettingsMap": {},
     "title": "チェック"
    }
   },
   "outputs": [],
   "source": [
    "display(\n",
    "  spark.sql(f\"\"\"\n",
    "    SELECT * FROM {MY_CATALOG}.{MY_SCHEMA}.get_store_item_sales_ranking(NULL, NULL,50)\n",
    "  \"\"\")\n",
    ")"
   ]
  },
  {
   "cell_type": "markdown",
   "metadata": {
    "application/vnd.databricks.v1+cell": {
     "cellMetadata": {
      "byteLimit": 2048000,
      "rowLimit": 10000
     },
     "inputWidgets": {},
     "nuid": "63c45ca0-99e9-46e5-90fa-5e1fb122368b",
     "showTitle": false,
     "tableResultSettingsMap": {},
     "title": ""
    }
   },
   "source": [
    "## 3. 特定商品の在庫状況を調査\n",
    "概要：特定店舗・商品の詳細及び在庫状況  \n",
    "関数：`get_store_item_detail_stock()`  \n",
    "引数：`p_store_name`: `店舗名`、`p_item_name`: `商品名`  \n",
    "入力例：関東地方・東京都品川区店・ブリの在庫状況を表示"
   ]
  },
  {
   "cell_type": "code",
   "execution_count": 0,
   "metadata": {
    "application/vnd.databricks.v1+cell": {
     "cellMetadata": {
      "byteLimit": 2048000,
      "rowLimit": 10000
     },
     "inputWidgets": {},
     "nuid": "01a864bb-7441-4389-b739-0f81c3da4e9e",
     "showTitle": true,
     "tableResultSettingsMap": {},
     "title": "関数作成"
    }
   },
   "outputs": [],
   "source": [
    "spark.sql(f\"\"\"\n",
    "CREATE OR REPLACE FUNCTION {MY_CATALOG}.{MY_SCHEMA}.get_store_item_detail_stock(\n",
    "  p_store_name STRING DEFAULT NULL COMMENT \"店舗名\",\n",
    "  p_item_name STRING DEFAULT NULL COMMENT \"商品名\",\n",
    "  limit_rows INT DEFAULT 10 COMMENT \"表示する行数\"\n",
    ")\n",
    "  RETURNS TABLE\n",
    "  READS SQL DATA\n",
    "  SQL SECURITY DEFINER\n",
    "COMMENT '特定店舗・商品の詳細及び在庫状況を表示（商品IDの降順）'\n",
    "RETURN\n",
    "  WITH item_stock AS (\n",
    "    SELECT \n",
    "      store_id,\n",
    "      item_id,\n",
    "      quantity,\n",
    "      inventory_type,\n",
    "      inventory_date,\n",
    "      update_reason\n",
    "    FROM \n",
    "      {MY_CATALOG}.{MY_SCHEMA}.silver_inventory_history\n",
    "    QUALIFY ROW_NUMBER() OVER (PARTITION BY store_id, item_id ORDER BY inventory_date DESC) = 1\n",
    "    ORDER BY store_id, item_id\n",
    "  )\n",
    "  , items_stock AS (\n",
    "    SELECT\n",
    "      stk.store_id,\n",
    "      stk.item_id,\n",
    "      str.store_area,\n",
    "      str.store_name,\n",
    "      str.address,\n",
    "      itm.category_name,\n",
    "      itm.item_name,\n",
    "      itm.price,\n",
    "      itm.manufacturer_id,\n",
    "      stk.quantity,\n",
    "      stk.inventory_type,\n",
    "      stk.inventory_date\n",
    "    FROM item_stock stk\n",
    "    LEFT JOIN {MY_CATALOG}.{MY_SCHEMA}.silver_items itm ON stk.item_id = itm.item_id\n",
    "    LEFT JOIN {MY_CATALOG}.{MY_SCHEMA}.silver_stores str ON stk.store_id = str.store_id\n",
    "    WHERE\n",
    "      stk.store_id IS NOT NULL AND stk.item_id IS NOT NULL\n",
    "    ORDER BY 3,4,5\n",
    "  )\n",
    "  SELECT\n",
    "    store_area,\n",
    "    store_name,\n",
    "    address,\n",
    "    category_name,\n",
    "    item_name,\n",
    "    price,\n",
    "    manufacturer_id,\n",
    "    quantity,\n",
    "    inventory_type,\n",
    "    inventory_date\n",
    "  FROM (\n",
    "    SELECT\n",
    "      *,\n",
    "      ROW_NUMBER() OVER (ORDER BY store_name, item_name) AS row_num\n",
    "    FROM items_stock\n",
    "    WHERE\n",
    "      (p_store_name IS NULL OR store_name = p_store_name)\n",
    "      AND (p_item_name IS NULL OR item_name = p_item_name)\n",
    "  ) ranked\n",
    "  WHERE row_num <= limit_rows\n",
    "  ORDER BY store_name, item_name\n",
    "\"\"\")\n"
   ]
  },
  {
   "cell_type": "code",
   "execution_count": 0,
   "metadata": {
    "application/vnd.databricks.v1+cell": {
     "cellMetadata": {
      "byteLimit": 2048000,
      "rowLimit": 10000
     },
     "inputWidgets": {},
     "nuid": "191e8e8d-01dc-40d1-bacc-d97eadf30c82",
     "showTitle": false,
     "tableResultSettingsMap": {},
     "title": ""
    }
   },
   "outputs": [],
   "source": [
    "display(\n",
    "  spark.sql(f\"\"\"\n",
    "            -- SELECT * FROM {MY_CATALOG}.{MY_SCHEMA}.get_store_item_detail_stock(NULL, NULL, 1000)\n",
    "            SELECT * FROM {MY_CATALOG}.{MY_SCHEMA}.get_store_item_detail_stock(NULL, NULL)\n",
    "  \"\"\")\n",
    ")"
   ]
  },
  {
   "cell_type": "code",
   "execution_count": 0,
   "metadata": {
    "application/vnd.databricks.v1+cell": {
     "cellMetadata": {
      "byteLimit": 2048000,
      "rowLimit": 10000
     },
     "inputWidgets": {},
     "nuid": "de30411e-9013-4383-a5e5-2508e8e62312",
     "showTitle": true,
     "tableResultSettingsMap": {},
     "title": "チェック"
    }
   },
   "outputs": [],
   "source": [
    "display(\n",
    "  spark.sql(f\"\"\"\n",
    "            SELECT * FROM {MY_CATALOG}.{MY_SCHEMA}.get_store_item_detail_stock(\"東京都品川区店\", \"ブリ\")\n",
    "  \"\"\")\n",
    ")"
   ]
  },
  {
   "cell_type": "markdown",
   "metadata": {
    "application/vnd.databricks.v1+cell": {
     "cellMetadata": {},
     "inputWidgets": {},
     "nuid": "ae278a9b-02a3-42a3-b7c9-bb8b624b0719",
     "showTitle": false,
     "tableResultSettingsMap": {},
     "title": ""
    }
   },
   "source": [
    "## 4. AI Agent Playgroundで実行\n",
    "[Playground](https://adb-984752964297111.11.azuredatabricks.net/ml/playground?o=984752964297111)  \n",
    "概要：特定店舗・商品の詳細及び在庫状況  \n",
    "ツール：\n",
    "* `get_store_sales_ranking()`　引数：`出力行数`（Option）\n",
    "* `get_store_item_sales_ranking()`　引数：`店舗エリア`、`店舗名`、`出力行数`（Option）  \n",
    "* `get_store_item_detail_stock()`　引数：`店舗名`、`商品名`、`出力行数`（Option）  \n",
    "\n",
    "システムプロンプト：`あなたはスーパーの売上データの専門家です。質問に対して日本語で回答します。`  \n",
    "入力例：`最も売上の多い店舗・商品の在庫状況を教えて`"
   ]
  },
  {
   "cell_type": "markdown",
   "metadata": {
    "application/vnd.databricks.v1+cell": {
     "cellMetadata": {},
     "inputWidgets": {},
     "nuid": "cce0d760-05ec-4fa5-b258-72d9f707386d",
     "showTitle": false,
     "tableResultSettingsMap": {},
     "title": ""
    }
   },
   "source": [
    "<img src='https://sajpstorage.blob.core.windows.net/komae/AI_Agent/Playground_1.png' width='1200'/>"
   ]
  },
  {
   "cell_type": "markdown",
   "metadata": {
    "application/vnd.databricks.v1+cell": {
     "cellMetadata": {},
     "inputWidgets": {},
     "nuid": "1282bbd0-6170-435e-8c39-3e25a8103996",
     "showTitle": false,
     "tableResultSettingsMap": {},
     "title": ""
    }
   },
   "source": [
    "<img src='https://sajpstorage.blob.core.windows.net/komae/AI_Agent/Playground_2.png' width='1200'/>"
   ]
  },
  {
   "cell_type": "markdown",
   "metadata": {
    "application/vnd.databricks.v1+cell": {
     "cellMetadata": {},
     "inputWidgets": {},
     "nuid": "3c516047-5d92-4a5d-83b8-583e63485bdd",
     "showTitle": false,
     "tableResultSettingsMap": {},
     "title": ""
    }
   },
   "source": [
    "<img src='https://sajpstorage.blob.core.windows.net/komae/AI_Agent/Playground_3.png' width='1200'/>"
   ]
  },
  {
   "cell_type": "markdown",
   "metadata": {
    "application/vnd.databricks.v1+cell": {
     "cellMetadata": {},
     "inputWidgets": {},
     "nuid": "a59ca935-3d03-43c8-8b9a-4f869b5ff291",
     "showTitle": false,
     "tableResultSettingsMap": {},
     "title": ""
    }
   },
   "source": [
    "<img src='https://sajpstorage.blob.core.windows.net/komae/AI_Agent/function_incatalog.png' width='1200'/>"
   ]
  },
  {
   "cell_type": "markdown",
   "metadata": {
    "application/vnd.databricks.v1+cell": {
     "cellMetadata": {},
     "inputWidgets": {},
     "nuid": "f4efd83e-7c76-4d84-9f97-70070b6a3af9",
     "showTitle": false,
     "tableResultSettingsMap": {},
     "title": ""
    }
   },
   "source": [
    "<img src='https://sajpstorage.blob.core.windows.net/komae/AI_Agent/tool_selection.png' width='1200'/>"
   ]
  },
  {
   "cell_type": "markdown",
   "metadata": {
    "application/vnd.databricks.v1+cell": {
     "cellMetadata": {},
     "inputWidgets": {},
     "nuid": "8de83f82-4d0b-4bcf-a290-77172c9fea67",
     "showTitle": false,
     "tableResultSettingsMap": {},
     "title": ""
    }
   },
   "source": [
    "<img src='https://sajpstorage.blob.core.windows.net/komae/AI_Agent/system_prompt.png' width='1200'/>"
   ]
  },
  {
   "cell_type": "markdown",
   "metadata": {
    "application/vnd.databricks.v1+cell": {
     "cellMetadata": {},
     "inputWidgets": {},
     "nuid": "9680423c-018f-4294-9059-18056731d2bd",
     "showTitle": false,
     "tableResultSettingsMap": {},
     "title": ""
    }
   },
   "source": [
    "<img src='https://sajpstorage.blob.core.windows.net/komae/AI_Agent/user_prompt.png' width='1200'/>"
   ]
  },
  {
   "cell_type": "markdown",
   "metadata": {
    "application/vnd.databricks.v1+cell": {
     "cellMetadata": {},
     "inputWidgets": {},
     "nuid": "fe724268-58ce-4182-9321-db0259c522a2",
     "showTitle": false,
     "tableResultSettingsMap": {},
     "title": ""
    }
   },
   "source": [
    "<img src='https://sajpstorage.blob.core.windows.net/komae/AI_Agent/AI_Agent_Result.png' width='1200'/>"
   ]
  }
 ],
 "metadata": {
  "application/vnd.databricks.v1+notebook": {
   "computePreferences": null,
   "dashboards": [],
   "environmentMetadata": {
    "base_environment": "",
    "environment_version": "2"
   },
   "language": "python",
   "notebookMetadata": {
    "mostRecentlyExecutedCommandWithImplicitDF": {
     "commandId": -1,
     "dataframes": [
      "_sqldf"
     ]
    },
    "pythonIndentUnit": 2
   },
   "notebookName": "04_Create_Functions",
   "widgets": {}
  },
  "language_info": {
   "name": "python"
  }
 },
 "nbformat": 4,
 "nbformat_minor": 0
}
