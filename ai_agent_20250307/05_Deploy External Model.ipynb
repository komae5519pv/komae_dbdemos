{
 "cells": [
  {
   "cell_type": "markdown",
   "metadata": {
    "application/vnd.databricks.v1+cell": {
     "cellMetadata": {},
     "inputWidgets": {},
     "nuid": "5d39f1ed-9287-41b3-a35c-aa43417049aa",
     "showTitle": false,
     "tableResultSettingsMap": {},
     "title": ""
    }
   },
   "source": [
    "# 外部モデルとしてGPT-4.5を利用したい場合はこちら\n",
    "* [外部モデルとしてサービングエンドポイントにデプロイ](https://qiita.com/taka_yayoi/items/352bff5f19789f299341)\n",
    "* DBR 16.0 MLで実行してください\n",
    "* 前提\n",
    "  * ここでは個別契約しているOpenAI APIを外部モデルとしてModel Serving Endpointに登録します\n",
    "  * よって事前に下記が必要です\n",
    "    * OpenAI APIの契約（[公式サイト](https://platform.openai.com/settings/organization/general)）\n",
    "    * OpenAIのAPI_KEYの発行\n",
    "    * AI_KEYの[Databricksシークレット](https://docs.databricks.com/aws/ja/security/secrets)への登録（シークレットスコープ作成&シークレット作成）"
   ]
  },
  {
   "cell_type": "code",
   "execution_count": 0,
   "metadata": {
    "application/vnd.databricks.v1+cell": {
     "cellMetadata": {
      "byteLimit": 2048000,
      "rowLimit": 10000
     },
     "inputWidgets": {},
     "nuid": "ca41e157-6701-4894-8872-c4cd389ab27b",
     "showTitle": false,
     "tableResultSettingsMap": {},
     "title": ""
    }
   },
   "outputs": [],
   "source": [
    "%run ./00_config"
   ]
  },
  {
   "cell_type": "code",
   "execution_count": 0,
   "metadata": {
    "application/vnd.databricks.v1+cell": {
     "cellMetadata": {
      "byteLimit": 2048000,
      "rowLimit": 10000
     },
     "inputWidgets": {},
     "nuid": "5852cb8e-3ef7-45a4-9369-f0286a60c8b3",
     "showTitle": false,
     "tableResultSettingsMap": {},
     "title": ""
    }
   },
   "outputs": [],
   "source": [
    "dbutils.widgets.text(\"secret_scope_name\", \"\")\n",
    "dbutils.widgets.text(\"openai_api_key\", \"\")"
   ]
  },
  {
   "cell_type": "code",
   "execution_count": 0,
   "metadata": {
    "application/vnd.databricks.v1+cell": {
     "cellMetadata": {
      "byteLimit": 2048000,
      "rowLimit": 10000
     },
     "inputWidgets": {},
     "nuid": "2c76ff2d-9210-487f-904e-2e8c40509e20",
     "showTitle": true,
     "tableResultSettingsMap": {},
     "title": "Deploy Model Serving"
    }
   },
   "outputs": [],
   "source": [
    "import mlflow.deployments\n",
    "\n",
    "# APIを格納しているシークレットスコープ\n",
    "SECRET_SCOPE_NAME = dbutils.widgets.get(\"secret_scope_name\")\n",
    "# APIを格納しているシークレット\n",
    "SECRET_KEY_NAME = dbutils.widgets.get(\"openai_api_key\")\n",
    "# モデルサービングエンドポイント名\n",
    "ENDPOINT_NAME = \"komae-openai-gpt-4-5\"\n",
    "\n",
    "client = mlflow.deployments.get_deploy_client(\"databricks\")\n",
    "\n",
    "client.create_endpoint(\n",
    "    name=ENDPOINT_NAME,\n",
    "    config={\n",
    "        \"served_entities\": [\n",
    "            {\n",
    "                \"name\": \"test\",\n",
    "                \"external_model\": {\n",
    "                    \"name\": \"gpt-4.5-preview\",\n",
    "                    \"provider\": \"openai\",\n",
    "                    \"task\": \"llm/v1/chat\",\n",
    "                    \"openai_config\": {\n",
    "                        \"openai_api_key\": f\"{{{{secrets/{SECRET_SCOPE_NAME}/{SECRET_KEY_NAME}}}}}\"\n",
    "                    }\n",
    "                }\n",
    "            }\n",
    "        ]\n",
    "    }\n",
    ")"
   ]
  }
 ],
 "metadata": {
  "application/vnd.databricks.v1+notebook": {
   "computePreferences": null,
   "dashboards": [],
   "environmentMetadata": {
    "base_environment": "",
    "environment_version": "2"
   },
   "language": "python",
   "notebookMetadata": {
    "pythonIndentUnit": 2
   },
   "notebookName": "05_Deploy External Model",
   "widgets": {
    "openai_api_key": {
     "currentValue": "openai_api",
     "nuid": "84db680d-0d79-47a1-a98a-668f4b47ec76",
     "typedWidgetInfo": {
      "autoCreated": false,
      "defaultValue": "",
      "label": null,
      "name": "openai_api_key",
      "options": {
       "widgetDisplayType": "Text",
       "validationRegex": null
      },
      "parameterDataType": "String"
     },
     "widgetInfo": {
      "widgetType": "text",
      "defaultValue": "",
      "label": null,
      "name": "openai_api_key",
      "options": {
       "widgetType": "text",
       "autoCreated": null,
       "validationRegex": null
      }
     }
    },
    "secret_scope_name": {
     "currentValue": "komae_scope",
     "nuid": "ff9c38c5-24ef-4455-bfa0-438649159909",
     "typedWidgetInfo": {
      "autoCreated": false,
      "defaultValue": "",
      "label": null,
      "name": "secret_scope_name",
      "options": {
       "widgetDisplayType": "Text",
       "validationRegex": null
      },
      "parameterDataType": "String"
     },
     "widgetInfo": {
      "widgetType": "text",
      "defaultValue": "",
      "label": null,
      "name": "secret_scope_name",
      "options": {
       "widgetType": "text",
       "autoCreated": null,
       "validationRegex": null
      }
     }
    }
   }
  },
  "language_info": {
   "name": "python"
  }
 },
 "nbformat": 4,
 "nbformat_minor": 0
}
