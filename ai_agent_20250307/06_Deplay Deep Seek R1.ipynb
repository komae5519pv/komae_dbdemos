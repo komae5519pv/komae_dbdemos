{
 "cells": [
  {
   "cell_type": "markdown",
   "metadata": {
    "application/vnd.databricks.v1+cell": {
     "cellMetadata": {},
     "inputWidgets": {},
     "nuid": "1f539fed-aa32-40fb-b3b6-f8698e78085a",
     "showTitle": false,
     "tableResultSettingsMap": {},
     "title": ""
    }
   },
   "source": [
    "# DeepSeek R1 on Databricks 試してみる\n",
    "[DeepSeek R1 on Databricks](https://www.databricks.com/blog/deepseek-r1-databricks)"
   ]
  },
  {
   "cell_type": "code",
   "execution_count": 0,
   "metadata": {
    "application/vnd.databricks.v1+cell": {
     "cellMetadata": {
      "byteLimit": 2048000,
      "rowLimit": 10000
     },
     "inputWidgets": {},
     "nuid": "cc73bb89-c60d-4bc7-a9a7-72b620cf8963",
     "showTitle": false,
     "tableResultSettingsMap": {},
     "title": ""
    }
   },
   "outputs": [],
   "source": [
    "%run ./00_config"
   ]
  },
  {
   "cell_type": "markdown",
   "metadata": {
    "application/vnd.databricks.v1+cell": {
     "cellMetadata": {},
     "inputWidgets": {},
     "nuid": "8f71d0f8-bca6-4597-8130-c1e289313daa",
     "showTitle": false,
     "tableResultSettingsMap": {},
     "title": ""
    }
   },
   "source": [
    "#### 1. カタログ・スキーマ作成\n"
   ]
  },
  {
   "cell_type": "markdown",
   "metadata": {
    "application/vnd.databricks.v1+cell": {
     "cellMetadata": {},
     "inputWidgets": {},
     "nuid": "b4b2b39a-6aa4-4f38-bd30-30867a6a29a3",
     "showTitle": false,
     "tableResultSettingsMap": {},
     "title": ""
    }
   },
   "source": [
    "#### 2. モデルとトーカナイザーをロード\n",
    "Llama 8Bの場合、32GB分のモデルの重みをダウンロードする必要があるため、このプロセスには数分かかります。"
   ]
  },
  {
   "cell_type": "code",
   "execution_count": 0,
   "metadata": {
    "application/vnd.databricks.v1+cell": {
     "cellMetadata": {
      "byteLimit": 2048000,
      "rowLimit": 10000
     },
     "inputWidgets": {},
     "nuid": "e996b5bb-a6bd-4bcf-a570-d83d218f6169",
     "showTitle": false,
     "tableResultSettingsMap": {},
     "title": ""
    }
   },
   "outputs": [],
   "source": [
    "from transformers import AutoTokenizer, AutoModelForCausalLM\n",
    "\n",
    "tokenizer = AutoTokenizer.from_pretrained(\"deepseek-ai/DeepSeek-R1-Distill-Llama-8B\")\n",
    "model = AutoModelForCausalLM.from_pretrained(\"deepseek-ai/DeepSeek-R1-Distill-Llama-8B\")"
   ]
  },
  {
   "cell_type": "markdown",
   "metadata": {
    "application/vnd.databricks.v1+cell": {
     "cellMetadata": {},
     "inputWidgets": {},
     "nuid": "b3a638fe-a6cf-49b4-8e31-2885f9983cb7",
     "showTitle": false,
     "tableResultSettingsMap": {},
     "title": ""
    }
   },
   "source": [
    "#### 3. モデルとトークナイザーをtransformersモデルとして登録\n",
    "mlflow.transformersを使用すると、Unity Catalogにモデルを登録するのが簡単になります。モデルサイズ（この場合は8B）とモデル名を設定するだけです。"
   ]
  },
  {
   "cell_type": "code",
   "execution_count": 0,
   "metadata": {
    "application/vnd.databricks.v1+cell": {
     "cellMetadata": {
      "byteLimit": 2048000,
      "rowLimit": 10000
     },
     "inputWidgets": {},
     "nuid": "ea370e60-1d83-4bec-ae6f-b0e43461f1a0",
     "showTitle": false,
     "tableResultSettingsMap": {},
     "title": ""
    }
   },
   "outputs": [],
   "source": [
    "import mlflow\n",
    "\n",
    "transformers_model = {\"model\": model, \"tokenizer\": tokenizer}\n",
    "task = \"llm/v1/chat\"\n",
    "\n",
    "# UCモデル名\n",
    "UC_MODEL_NAME = 'deepseek_r1_distilled_llama_8b'\n",
    "\n",
    "# ロードしたモデルをUnity Catalogに登録\n",
    "with mlflow.start_run():\n",
    "   model_info = mlflow.transformers.log_model(\n",
    "       transformers_model=transformers_model,\n",
    "       artifact_path=\"model\",\n",
    "       task=task,\n",
    "       registered_model_name=f\"{MY_CATALOG}.{MY_SCHEMA}.{UC_MODEL_NAME}\"\n",
    ",\n",
    "       metadata={\n",
    "        \"pretrained_model_name\": \"meta-llama/Llama-3.1-8B-Instruct\",\n",
    "           \"databricks_model_family\": \"LlamaForCausalLM\",\n",
    "           \"databricks_model_size_parameters\": \"8b\",\n",
    "       },\n",
    "   )"
   ]
  },
  {
   "cell_type": "markdown",
   "metadata": {
    "application/vnd.databricks.v1+cell": {
     "cellMetadata": {},
     "inputWidgets": {},
     "nuid": "c533e4db-d581-44a2-b241-1083a5ff7806",
     "showTitle": false,
     "tableResultSettingsMap": {},
     "title": ""
    }
   },
   "source": [
    "#### 3. Model Servingにデプロイ\n",
    "画面UIで「Serving」に移動し、UnityCatalogに登録したモデルをModel Servingエンドポイントにデプロイします。\n",
    "\n",
    "**ServingEndPoint**\n",
    "[komae_deepseek_r1_distilled_llama_8b](https://adb-984752964297111.11.azuredatabricks.net/ml/endpoints/komae_deepseek_r1_distilled_llama_8b?o=984752964297111)\n",
    "\n",
    "<img src='https://sajpstorage.blob.core.windows.net/komae/deep_seek/model_serving.png' width='1200'/>"
   ]
  },
  {
   "cell_type": "markdown",
   "metadata": {
    "application/vnd.databricks.v1+cell": {
     "cellMetadata": {},
     "inputWidgets": {},
     "nuid": "48127324-1153-4ee2-9fc4-70401221bfd6",
     "showTitle": false,
     "tableResultSettingsMap": {},
     "title": ""
    }
   },
   "source": [
    "もちろん、プログラムからもUnityCatalogに登録したモデルをModel Servingエンドポイントにデプロイできます。"
   ]
  },
  {
   "cell_type": "code",
   "execution_count": 0,
   "metadata": {
    "application/vnd.databricks.v1+cell": {
     "cellMetadata": {
      "byteLimit": 2048000,
      "rowLimit": 10000
     },
     "inputWidgets": {},
     "nuid": "b366ffc8-123d-4ec1-a327-e0b1a1dc6600",
     "showTitle": false,
     "tableResultSettingsMap": {},
     "title": ""
    }
   },
   "outputs": [],
   "source": [
    "import mlflow.deployments\n",
    "\n",
    "# Databricks用のMLflowデプロイクライアントを取得\n",
    "client = mlflow.deployments.get_deploy_client(\"databricks\")\n",
    "\n",
    "# モデルサービングエンドポイント名\n",
    "ENDPOINT_NAME = \"komae_deepseek_r1_distilled_llama_8b\"\n",
    "\n",
    "# エンドポイント作成とUCモデルのデプロイ\n",
    "client.create_endpoint(\n",
    "    name=ENDPOINT_NAME,\n",
    "    config={\n",
    "        \"served_models\": [\n",
    "            {\n",
    "                \"model_name\": f\"{MY_CATALOG}.{MY_SCHEMA}.{UC_MODEL_NAME}\",    # UCに登録されたモデル名\n",
    "                \"model_version\": \"1\",                                         # デプロイするバージョン（例: v1）\n",
    "                \"workload_size\": \"Small\",                                     # ワークロードサイズ（Small/Medium/Large）\n",
    "                \"scale_to_zero_enabled\": True                                 # スケールダウンオプション\n",
    "            }\n",
    "        ]\n",
    "    }\n",
    ")"
   ]
  }
 ],
 "metadata": {
  "application/vnd.databricks.v1+notebook": {
   "computePreferences": null,
   "dashboards": [],
   "environmentMetadata": {
    "base_environment": "",
    "environment_version": "2"
   },
   "language": "python",
   "notebookMetadata": {
    "pythonIndentUnit": 2
   },
   "notebookName": "06_Deplay Deep Seek R1",
   "widgets": {}
  },
  "language_info": {
   "name": "python"
  }
 },
 "nbformat": 4,
 "nbformat_minor": 0
}
