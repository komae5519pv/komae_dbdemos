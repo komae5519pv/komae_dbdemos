{
 "cells": [
  {
   "cell_type": "code",
   "execution_count": 0,
   "metadata": {
    "application/vnd.databricks.v1+cell": {
     "cellMetadata": {
      "byteLimit": 2048000,
      "rowLimit": 10000
     },
     "inputWidgets": {},
     "nuid": "121daee3-eb85-4334-8f9c-b74001eb02fd",
     "showTitle": false,
     "tableResultSettingsMap": {},
     "title": ""
    }
   },
   "outputs": [],
   "source": [
    "creator_catalog = 'komae_cleanroom'\n",
    "collaborator_catalog = 'komae_cleanroom'"
   ]
  },
  {
   "cell_type": "markdown",
   "metadata": {
    "application/vnd.databricks.v1+cell": {
     "cellMetadata": {},
     "inputWidgets": {},
     "nuid": "5889564c-0707-4b4b-8415-b869977dbae1",
     "showTitle": false,
     "tableResultSettingsMap": {},
     "title": ""
    }
   },
   "source": [
    "### ID突合\n",
    "\n",
    "`customer`と`sales`の顧客データをハッシュ化された顧客IDで結合します。  \n",
    "あなたとコラボレーターが同じハッシュアルゴリズムを使用してメールアドレスを正規化していることを前提とします。\n",
    "\n",
    "**注意事項**\n",
    "\n",
    "- あなたは `customer` テーブルをアップロードし、コラボレーターは `sales` テーブルをアップロードします。"
   ]
  },
  {
   "cell_type": "code",
   "execution_count": 0,
   "metadata": {
    "application/vnd.databricks.v1+cell": {
     "cellMetadata": {
      "byteLimit": 2048000,
      "rowLimit": 10000
     },
     "inputWidgets": {},
     "nuid": "71adb4b0-b788-41cb-a5ce-38857a90013c",
     "showTitle": false,
     "tableResultSettingsMap": {},
     "title": ""
    }
   },
   "outputs": [],
   "source": [
    "spark.sql(\n",
    "  f\"\"\"\n",
    "    CREATE OR REPLACE TEMP VIEW v_matched_customers AS (\n",
    "        SELECT\n",
    "          od.*,\n",
    "          cu.city,\n",
    "          cu.state\n",
    "        FROM {creator_catalog}.creator.customers cu\n",
    "        INNER JOIN {collaborator_catalog}.collaborator.orders od\n",
    "        -- INNER JOIN {collaborator_catalog}.creator.orders od\n",
    "        ON cu.customerid_sha256 = od.customerid_sha256\n",
    "    )\n",
    "  \"\"\"\n",
    ")"
   ]
  },
  {
   "cell_type": "code",
   "execution_count": 0,
   "metadata": {
    "application/vnd.databricks.v1+cell": {
     "cellMetadata": {
      "byteLimit": 2048000,
      "implicitDf": true,
      "rowLimit": 10000
     },
     "inputWidgets": {},
     "nuid": "050f58f0-a2c2-4662-a50c-f0f75c61c147",
     "showTitle": false,
     "tableResultSettingsMap": {},
     "title": ""
    }
   },
   "outputs": [],
   "source": [
    "%sql\n",
    "\n",
    "select * from v_matched_customers limit 10"
   ]
  },
  {
   "cell_type": "markdown",
   "metadata": {
    "application/vnd.databricks.v1+cell": {
     "cellMetadata": {},
     "inputWidgets": {},
     "nuid": "46667fee-82f4-436c-80f0-6a39f7e718b4",
     "showTitle": false,
     "tableResultSettingsMap": {},
     "title": ""
    }
   },
   "source": [
    "### 結果を出力カタログに保存"
   ]
  },
  {
   "cell_type": "code",
   "execution_count": 0,
   "metadata": {
    "application/vnd.databricks.v1+cell": {
     "cellMetadata": {},
     "inputWidgets": {},
     "nuid": "80dd5f5c-35f5-45df-9803-4c941339a86a",
     "showTitle": false,
     "tableResultSettingsMap": {},
     "title": ""
    }
   },
   "outputs": [],
   "source": [
    "CREATE TABLE identifier(\n",
    "  :cr_output_catalog ||\n",
    "  '.' ||\n",
    "  :cr_output_schema ||\n",
    "  '.overlapping_customers_sales'\n",
    ") AS\n",
    "SELECT *\n",
    "FROM v_matched_customers"
   ]
  },
  {
   "cell_type": "code",
   "execution_count": 0,
   "metadata": {
    "application/vnd.databricks.v1+cell": {
     "cellMetadata": {},
     "inputWidgets": {},
     "nuid": "c25465a1-4f9c-41cc-82c5-538016e1cf44",
     "showTitle": false,
     "tableResultSettingsMap": {},
     "title": ""
    }
   },
   "outputs": [],
   "source": [
    "# if output_catalog and output_schema:\n",
    "#     spark.sql(\n",
    "#         f\"\"\"\n",
    "#         -- CREATE TABLE {output_catalog}.{output_schema}.overlapping_households AS\n",
    "#         CREATE TABLE overlapping_households AS\n",
    "#         SELECT DISTINCT household_id from adv_pub_overlap\n",
    "#         \"\"\"\n",
    "#     )\n",
    "# else:\n",
    "#     print(\"出力カタログまたはスキーマが指定されていません。テーブル作成をスキップします。\")"
   ]
  }
 ],
 "metadata": {
  "application/vnd.databricks.v1+notebook": {
   "computePreferences": null,
   "dashboards": [],
   "environmentMetadata": {
    "base_environment": "",
    "environment_version": "2"
   },
   "inputWidgetPreferences": null,
   "language": "python",
   "notebookMetadata": {
    "mostRecentlyExecutedCommandWithImplicitDF": {
     "commandId": 1426291317526262,
     "dataframes": [
      "_sqldf"
     ]
    },
    "pythonIndentUnit": 2
   },
   "notebookName": "03_共有ノートブック",
   "widgets": {}
  },
  "language_info": {
   "name": "python"
  }
 },
 "nbformat": 4,
 "nbformat_minor": 0
}
