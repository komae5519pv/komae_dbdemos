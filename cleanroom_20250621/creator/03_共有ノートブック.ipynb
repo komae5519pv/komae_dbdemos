{
 "cells": [
  {
   "cell_type": "markdown",
   "metadata": {
    "application/vnd.databricks.v1+cell": {
     "cellMetadata": {},
     "inputWidgets": {},
     "nuid": "df7ed076-10ff-4c6d-9fd2-0b730eba8faa",
     "showTitle": false,
     "tableResultSettingsMap": {},
     "title": ""
    }
   },
   "source": [
    "### パラメータ設定\n"
   ]
  },
  {
   "cell_type": "code",
   "execution_count": 0,
   "metadata": {
    "application/vnd.databricks.v1+cell": {
     "cellMetadata": {
      "byteLimit": 2048000,
      "rowLimit": 10000
     },
     "inputWidgets": {},
     "nuid": "5c68df0a-e9af-4d91-a255-c0689fda0be6",
     "showTitle": false,
     "tableResultSettingsMap": {},
     "title": ""
    }
   },
   "outputs": [],
   "source": [
    "dbutils.widgets.text(\"cr_creator_input_schema\", \"default\", \"クリエイターの入力スキーマ\")         # 実際の環境に合わせて変更してください\n",
    "dbutils.widgets.text(\"cr_collaborator_input_schema\", \"default\", \"コラボレーターの入力スキーマ\")  # 実際の環境に合わせて変更してください\n",
    "\n",
    "dbutils.widgets.text(\"cr_output_catalog\", \"\", \"ノートブック実行者の出力カタログ\")                 # システム値：編集しないでください\n",
    "dbutils.widgets.text(\"cr_output_schema\", \"\", \"ノートブック実行者の出力スキーマ\")                  # システム値：編集しないでください"
   ]
  },
  {
   "cell_type": "markdown",
   "metadata": {
    "application/vnd.databricks.v1+cell": {
     "cellMetadata": {},
     "inputWidgets": {},
     "nuid": "5889564c-0707-4b4b-8415-b869977dbae1",
     "showTitle": false,
     "tableResultSettingsMap": {},
     "title": ""
    }
   },
   "source": [
    "### ID突合して結果を出力カタログに保存\n",
    "\n",
    "`customer`と`sales`の顧客データをハッシュ化された顧客IDで結合します。  \n",
    "あなたとコラボレーターが同じハッシュアルゴリズムを使用してメールアドレスを正規化していることを前提とします。\n",
    "\n",
    "**注意事項**\n",
    "\n",
    "- あなたは `customer` テーブルをアップロードし、コラボレーターは `sales` テーブルをアップロードします。"
   ]
  },
  {
   "cell_type": "code",
   "execution_count": 0,
   "metadata": {
    "application/vnd.databricks.v1+cell": {
     "cellMetadata": {},
     "inputWidgets": {},
     "nuid": "ae207c4a-5583-4954-8340-d0da7c157271",
     "showTitle": false,
     "tableResultSettingsMap": {},
     "title": ""
    }
   },
   "outputs": [],
   "source": [
    "# クリエイターの入力スキーマ\n",
    "creator_schema = dbutils.widgets.get(\"cr_creator_input_schema\")\n",
    "\n",
    "# コラボレーターの入力スキーマ\n",
    "collaborator_schema = dbutils.widgets.get(\"cr_collaborator_input_schema\")\n",
    "\n",
    "# ノートブック実行者の出力カタログ\n",
    "output_catalog = dbutils.widgets.get(\"cr_output_catalog\")\n",
    "\n",
    "# ノートブック実行者の出力スキーマ\n",
    "output_schema = dbutils.widgets.get(\"cr_output_schema\")"
   ]
  },
  {
   "cell_type": "code",
   "execution_count": 0,
   "metadata": {
    "application/vnd.databricks.v1+cell": {
     "cellMetadata": {
      "byteLimit": 2048000,
      "rowLimit": 10000
     },
     "inputWidgets": {},
     "nuid": "71adb4b0-b788-41cb-a5ce-38857a90013c",
     "showTitle": false,
     "tableResultSettingsMap": {},
     "title": ""
    }
   },
   "outputs": [],
   "source": [
    "if output_catalog and output_schema:\n",
    "  spark.sql(\n",
    "    f\"\"\"\n",
    "    CREATE TABLE {output_catalog}.{output_schema}.overlapping_customers_sales\n",
    "    AS\n",
    "    SELECT cu.*\n",
    "    FROM creator.{creator_schema}.customers cu\n",
    "    INNER JOIN collaborator.{collaborator_schema}.orders od\n",
    "    ON cu.customerid_sha256 = od.customerid_sha256\n",
    "    \"\"\"\n",
    "  )\n",
    "else:\n",
    "    print(\"出力カタログまたはスキーマが指定されていません。テーブル作成をスキップします。\")"
   ]
  }
 ],
 "metadata": {
  "application/vnd.databricks.v1+notebook": {
   "computePreferences": null,
   "dashboards": [],
   "environmentMetadata": {
    "base_environment": "",
    "environment_version": "2"
   },
   "inputWidgetPreferences": null,
   "language": "python",
   "notebookMetadata": {
    "mostRecentlyExecutedCommandWithImplicitDF": {
     "commandId": 1426291317526262,
     "dataframes": [
      "_sqldf"
     ]
    },
    "pythonIndentUnit": 2,
    "widgetLayout": []
   },
   "notebookName": "03_共有ノートブック",
   "widgets": {
    "cr_collaborator_input_schema": {
     "currentValue": "default",
     "nuid": "6bed4ee4-9750-4cf9-9cb7-0dc485cec718",
     "typedWidgetInfo": {
      "autoCreated": false,
      "defaultValue": "default",
      "label": "コラボレーターの入力スキーマ",
      "name": "cr_collaborator_input_schema",
      "options": {
       "widgetDisplayType": "Text",
       "validationRegex": null
      },
      "parameterDataType": "String"
     },
     "widgetInfo": {
      "widgetType": "text",
      "defaultValue": "default",
      "label": "コラボレーターの入力スキーマ",
      "name": "cr_collaborator_input_schema",
      "options": {
       "widgetType": "text",
       "autoCreated": false,
       "validationRegex": null
      }
     }
    },
    "cr_creator_input_schema": {
     "currentValue": "default",
     "nuid": "c2a9bca2-aeea-4177-bcc2-21aa3e893e41",
     "typedWidgetInfo": {
      "autoCreated": false,
      "defaultValue": "default",
      "label": "クリエイターの入力スキーマ",
      "name": "cr_creator_input_schema",
      "options": {
       "widgetDisplayType": "Text",
       "validationRegex": null
      },
      "parameterDataType": "String"
     },
     "widgetInfo": {
      "widgetType": "text",
      "defaultValue": "default",
      "label": "クリエイターの入力スキーマ",
      "name": "cr_creator_input_schema",
      "options": {
       "widgetType": "text",
       "autoCreated": false,
       "validationRegex": null
      }
     }
    },
    "cr_output_catalog": {
     "currentValue": "",
     "nuid": "c3b995cf-c076-4b7e-871b-c040ffffec10",
     "typedWidgetInfo": {
      "autoCreated": false,
      "defaultValue": "",
      "label": "ノートブック実行者の出力カタログ",
      "name": "cr_output_catalog",
      "options": {
       "widgetDisplayType": "Text",
       "validationRegex": null
      },
      "parameterDataType": "String"
     },
     "widgetInfo": {
      "widgetType": "text",
      "defaultValue": "",
      "label": "ノートブック実行者の出力カタログ",
      "name": "cr_output_catalog",
      "options": {
       "widgetType": "text",
       "autoCreated": false,
       "validationRegex": null
      }
     }
    },
    "cr_output_schema": {
     "currentValue": "",
     "nuid": "ad7d398a-c4ed-4841-8e3c-957d11158e71",
     "typedWidgetInfo": {
      "autoCreated": false,
      "defaultValue": "",
      "label": "ノートブック実行者の出力スキーマ",
      "name": "cr_output_schema",
      "options": {
       "widgetDisplayType": "Text",
       "validationRegex": null
      },
      "parameterDataType": "String"
     },
     "widgetInfo": {
      "widgetType": "text",
      "defaultValue": "",
      "label": "ノートブック実行者の出力スキーマ",
      "name": "cr_output_schema",
      "options": {
       "widgetType": "text",
       "autoCreated": false,
       "validationRegex": null
      }
     }
    }
   }
  },
  "language_info": {
   "name": "python"
  }
 },
 "nbformat": 4,
 "nbformat_minor": 0
}
