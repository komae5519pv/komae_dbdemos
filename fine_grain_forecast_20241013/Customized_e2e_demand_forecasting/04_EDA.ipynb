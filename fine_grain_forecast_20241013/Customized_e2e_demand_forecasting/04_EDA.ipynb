{
 "cells": [
  {
   "cell_type": "markdown",
   "metadata": {
    "application/vnd.databricks.v1+cell": {
     "cellMetadata": {
      "byteLimit": 2048000,
      "rowLimit": 10000
     },
     "inputWidgets": {},
     "nuid": "a4b04a62-64d8-4fdf-bdaf-fb7648778123",
     "showTitle": false,
     "tableResultSettingsMap": {},
     "title": ""
    }
   },
   "source": [
    "# 探索的データ分析（EDA）を行います\n",
    "## やること\n",
    "- 需要予測モデルを構築する前に、データの特徴を理解するための探索的データ分析（EDA）を行います\n",
    "- 本ノートブックを上から下まで流してください\n",
    "- クラスタはDBR15.4 LTS or DBR15.4 LTS ML以降で実行してください\n",
    "\n",
    "このデモでは、Databricksの分散処理を使って、店舗・アイテムごとの詳細な予測を効率的に生成する方法を学びます。  \n",
    "トレーニングデータセットには、10の異なる店舗で50品目の5年間の店舗・アイテム単位の販売データを使用します。\n",
    "売上トレンドを年間、月別、週別などで把握します。\n",
    "\n",
    "<!-- %md\n",
    "### Conduct Exploratory Data Analysis (EDA)\n",
    "\n",
    "In this demo, you will learn how to efficiently generate fine-grained forecasts for each store and item using Databricks' distributed processing.  \n",
    "The training dataset consists of five years of store-item level sales data for 50 items across 10 different stores.  \n",
    "We will analyze sales trends on a yearly, monthly, and weekly basis. -->"
   ]
  },
  {
   "cell_type": "code",
   "execution_count": 0,
   "metadata": {
    "application/vnd.databricks.v1+cell": {
     "cellMetadata": {
      "byteLimit": 2048000,
      "rowLimit": 10000
     },
     "inputWidgets": {},
     "nuid": "b3603a11-5170-46f5-8c33-3ebf1b026ef3",
     "showTitle": false,
     "tableResultSettingsMap": {},
     "title": ""
    }
   },
   "outputs": [],
   "source": [
    "%run \"./01_config\""
   ]
  },
  {
   "cell_type": "markdown",
   "metadata": {
    "application/vnd.databricks.v1+cell": {
     "cellMetadata": {
      "byteLimit": 2048000,
      "rowLimit": 10000
     },
     "inputWidgets": {},
     "nuid": "3550463a-843c-4686-902f-07f441c22f78",
     "showTitle": false,
     "tableResultSettingsMap": {},
     "title": ""
    }
   },
   "source": [
    "## Step 1: データのトレンド確認"
   ]
  },
  {
   "cell_type": "code",
   "execution_count": 0,
   "metadata": {
    "application/vnd.databricks.v1+cell": {
     "cellMetadata": {
      "byteLimit": 2048000,
      "implicitDf": true,
      "rowLimit": 10000
     },
     "inputWidgets": {},
     "nuid": "0b186c6f-cf77-4893-a8ed-3dae913a3ba7",
     "showTitle": false,
     "tableResultSettingsMap": {},
     "title": ""
    }
   },
   "outputs": [],
   "source": [
    "%sql\n",
    "\n",
    "SELECT current_catalog(), current_schema();"
   ]
  },
  {
   "cell_type": "code",
   "execution_count": 0,
   "metadata": {
    "application/vnd.databricks.v1+cell": {
     "cellMetadata": {
      "byteLimit": 2048000,
      "implicitDf": true,
      "rowLimit": 10000
     },
     "inputWidgets": {},
     "nuid": "7565e7d3-36de-480c-acce-6a266789fe5e",
     "showTitle": true,
     "tableResultSettingsMap": {},
     "title": "Access the Dataset"
    }
   },
   "outputs": [],
   "source": [
    "%sql\n",
    "\n",
    "SELECT * FROM bronze_train"
   ]
  },
  {
   "cell_type": "markdown",
   "metadata": {
    "application/vnd.databricks.v1+cell": {
     "cellMetadata": {
      "byteLimit": 2048000,
      "rowLimit": 10000
     },
     "inputWidgets": {},
     "nuid": "34bd6e02-d575-4cc0-aea9-97bbc17d0536",
     "showTitle": false,
     "tableResultSettingsMap": {},
     "title": ""
    }
   },
   "source": [
    "需要予測を行う際、一般的なトレンドや季節性に関心があることが多いです。まずは、年間の販売数量のトレンドを確認しましょう。\n",
    "\n",
    "<!-- %md\n",
    "When performing demand forecasting, we are often interested in general trends and seasonality.  Let's start our exploration by examining the annual trend in unit sales: -->"
   ]
  },
  {
   "cell_type": "code",
   "execution_count": 0,
   "metadata": {
    "application/vnd.databricks.v1+cell": {
     "cellMetadata": {
      "byteLimit": 2048000,
      "implicitDf": true,
      "rowLimit": 10000
     },
     "inputWidgets": {},
     "nuid": "1991c633-6d68-4a5b-9c6e-f4daeaaef9a0",
     "showTitle": true,
     "tableResultSettingsMap": {},
     "title": "View Yearly Trends"
    }
   },
   "outputs": [
    {
     "output_type": "display_data",
     "data": {
      "text/plain": [
       "Databricks visualization. Run in Databricks to view."
      ]
     },
     "metadata": {
      "application/vnd.databricks.v1.subcommand+json": {
       "baseErrorDetails": null,
       "bindings": {},
       "collapsed": false,
       "command": "%sql WITH q AS (SELECT\n  CAST(year(order_date) as STRING) as year, \n  sum(sales) as sales\nFROM bronze_train\nGROUP BY year(order_date)\nORDER BY year) SELECT `year`,SUM(`sales`) `column_b0ae628d2` FROM q GROUP BY `year`",
       "commandTitle": "可視化 1",
       "commandType": "auto",
       "commandVersion": 0,
       "commentThread": [],
       "commentsVisible": false,
       "contentSha256Hex": null,
       "customPlotOptions": {
        "redashChart": [
         {
          "key": "type",
          "value": "CHART"
         },
         {
          "key": "options",
          "value": {
           "alignYAxesAtZero": true,
           "coefficient": 1,
           "columnConfigurationMap": {
            "x": {
             "column": "year",
             "id": "column_b0ae628d1"
            },
            "y": [
             {
              "column": "sales",
              "id": "column_b0ae628d2",
              "transform": "SUM"
             }
            ]
           },
           "dateTimeFormat": "DD/MM/YYYY HH:mm",
           "direction": {
            "type": "counterclockwise"
           },
           "error_y": {
            "type": "data",
            "visible": true
           },
           "globalSeriesType": "line",
           "legend": {
            "traceorder": "normal"
           },
           "missingValuesAsZero": true,
           "numberFormat": "0,0.[00000]",
           "percentFormat": "0[.]00%",
           "series": {
            "error_y": {
             "type": "data",
             "visible": true
            },
            "stacking": null
           },
           "seriesOptions": {
            "column_b0ae628d2": {
             "name": "sales",
             "type": "line",
             "yAxis": 0
            }
           },
           "showDataLabels": false,
           "sizemode": "diameter",
           "sortX": true,
           "sortY": true,
           "swappedAxes": false,
           "textFormat": "",
           "useAggregationsUi": true,
           "valuesOptions": {},
           "version": 2,
           "xAxis": {
            "labels": {
             "enabled": true
            },
            "type": "-"
           },
           "yAxis": [
            {
             "type": "-"
            },
            {
             "opposite": true,
             "type": "-"
            }
           ]
          }
         }
        ]
       },
       "datasetPreviewNameToCmdIdMap": {},
       "diffDeletes": [],
       "diffInserts": [],
       "displayType": "redashChart",
       "error": null,
       "errorDetails": null,
       "errorSummary": null,
       "errorTraceType": null,
       "finishTime": 0,
       "globalVars": {},
       "guid": "",
       "height": "auto",
       "hideCommandCode": false,
       "hideCommandResult": false,
       "iPythonMetadata": null,
       "inputWidgets": {},
       "isLockedInExamMode": false,
       "latestUser": "a user",
       "latestUserId": null,
       "listResultMetadata": null,
       "metadata": {
        "byteLimit": 2048000,
        "implicitDf": true,
        "rowLimit": 10000
       },
       "nuid": "3b088bae-c1d8-4bc8-94f7-53f269dbb2fd",
       "origId": 0,
       "parentHierarchy": [],
       "pivotAggregation": null,
       "pivotColumns": null,
       "position": 10.5,
       "resultDbfsErrorMessage": null,
       "resultDbfsStatus": "INLINED_IN_TREE",
       "results": null,
       "showCommandTitle": false,
       "startTime": 0,
       "state": "input",
       "streamStates": {},
       "subcommandOptions": {
        "queryPlan": {
         "groups": [
          {
           "column": "year",
           "type": "column"
          }
         ],
         "selects": [
          {
           "column": "year",
           "type": "column"
          },
          {
           "alias": "column_b0ae628d2",
           "args": [
            {
             "column": "sales",
             "type": "column"
            }
           ],
           "function": "SUM",
           "type": "function"
          }
         ]
        }
       },
       "submitTime": 0,
       "subtype": "tableResultSubCmd.visualization",
       "tableResultIndex": 0,
       "tableResultSettingsMap": {},
       "useConsistentColors": false,
       "version": "CommandV1",
       "width": "auto",
       "workflows": null,
       "xColumns": null,
       "yColumns": null
      }
     },
     "output_type": "display_data"
    }
   ],
   "source": [
    "%sql\n",
    "\n",
    "SELECT\n",
    "  CAST(year(order_date) as STRING) as year, \n",
    "  sum(sales_quantity) as sales\n",
    "FROM bronze_train\n",
    "GROUP BY year(order_date)\n",
    "ORDER BY year;"
   ]
  },
  {
   "cell_type": "markdown",
   "metadata": {
    "application/vnd.databricks.v1+cell": {
     "cellMetadata": {
      "byteLimit": 2048000,
      "rowLimit": 10000
     },
     "inputWidgets": {},
     "nuid": "5f707db5-ad40-46cf-8891-5af8b1d026c5",
     "showTitle": false,
     "tableResultSettingsMap": {},
     "title": ""
    }
   },
   "source": [
    "\n",
    "全体的に販売数量が増加しています。ざっと見る限り、数日から数ヶ月、または1年先までは成長が続くと考えても良さそうです。  \n",
    "続いて季節性を見てみましょう。月ごとに集計すると、売上の増加に伴って拡大する年間の季節的パターンが確認できます。\n",
    "\n",
    "<!-- %md\n",
    "There is an overall upward trend in sales volume. At a glance, it seems reasonable to assume that growth will continue for the next few days, months, or even up to a year.\n",
    "Now let's examine seasonality.  If we aggregate the data around the individual months in each year, a distinct yearly seasonal pattern is observed which seems to grow in scale with overall growth in sales: -->"
   ]
  },
  {
   "cell_type": "code",
   "execution_count": 0,
   "metadata": {
    "application/vnd.databricks.v1+cell": {
     "cellMetadata": {
      "byteLimit": 2048000,
      "implicitDf": true,
      "rowLimit": 10000
     },
     "inputWidgets": {},
     "nuid": "a980c2c7-4aa0-417e-8005-8557839b5293",
     "showTitle": true,
     "tableResultSettingsMap": {},
     "title": "View Monthly Trends"
    }
   },
   "outputs": [
    {
     "output_type": "display_data",
     "data": {
      "text/plain": [
       "Databricks visualization. Run in Databricks to view."
      ]
     },
     "metadata": {
      "application/vnd.databricks.v1.subcommand+json": {
       "baseErrorDetails": null,
       "bindings": {},
       "collapsed": false,
       "command": "%sql WITH q AS (SELECT \n  TRUNC(order_date, 'MM') as month,\n  SUM(sales) as sales\nFROM bronze_train\nGROUP BY TRUNC(order_date, 'MM')\nORDER BY month) SELECT `month`,SUM(`sales`) `column_b0ae628d5` FROM q GROUP BY `month`",
       "commandTitle": "可視化 1",
       "commandType": "auto",
       "commandVersion": 0,
       "commentThread": [],
       "commentsVisible": false,
       "contentSha256Hex": null,
       "customPlotOptions": {
        "redashChart": [
         {
          "key": "type",
          "value": "CHART"
         },
         {
          "key": "options",
          "value": {
           "alignYAxesAtZero": true,
           "coefficient": 1,
           "columnConfigurationMap": {
            "x": {
             "column": "month",
             "id": "column_b0ae628d4"
            },
            "y": [
             {
              "column": "sales",
              "id": "column_b0ae628d5",
              "transform": "SUM"
             }
            ]
           },
           "dateTimeFormat": "DD/MM/YYYY HH:mm",
           "direction": {
            "type": "counterclockwise"
           },
           "error_y": {
            "type": "data",
            "visible": true
           },
           "globalSeriesType": "line",
           "legend": {
            "traceorder": "normal"
           },
           "missingValuesAsZero": true,
           "numberFormat": "0,0.[00000]",
           "percentFormat": "0[.]00%",
           "series": {
            "error_y": {
             "type": "data",
             "visible": true
            },
            "stacking": null
           },
           "seriesOptions": {
            "column_b0ae628d5": {
             "name": "sales",
             "yAxis": 0
            }
           },
           "showDataLabels": false,
           "sizemode": "diameter",
           "sortX": true,
           "sortY": true,
           "swappedAxes": false,
           "textFormat": "",
           "useAggregationsUi": true,
           "valuesOptions": {},
           "version": 2,
           "xAxis": {
            "labels": {
             "enabled": true
            },
            "type": "-"
           },
           "yAxis": [
            {
             "type": "-"
            },
            {
             "opposite": true,
             "type": "-"
            }
           ]
          }
         }
        ]
       },
       "datasetPreviewNameToCmdIdMap": {},
       "diffDeletes": [],
       "diffInserts": [],
       "displayType": "redashChart",
       "error": null,
       "errorDetails": null,
       "errorSummary": null,
       "errorTraceType": null,
       "finishTime": 0,
       "globalVars": {},
       "guid": "",
       "height": "auto",
       "hideCommandCode": false,
       "hideCommandResult": false,
       "iPythonMetadata": null,
       "inputWidgets": {},
       "isLockedInExamMode": false,
       "latestUser": "a user",
       "latestUserId": null,
       "listResultMetadata": null,
       "metadata": {
        "byteLimit": 2048000,
        "implicitDf": true,
        "rowLimit": 10000
       },
       "nuid": "4f2d3dd5-8e37-43a1-9ec7-ef06946c8e93",
       "origId": 0,
       "parentHierarchy": [],
       "pivotAggregation": null,
       "pivotColumns": null,
       "position": 12.5,
       "resultDbfsErrorMessage": null,
       "resultDbfsStatus": "INLINED_IN_TREE",
       "results": null,
       "showCommandTitle": false,
       "startTime": 0,
       "state": "input",
       "streamStates": {},
       "subcommandOptions": {
        "queryPlan": {
         "groups": [
          {
           "column": "month",
           "type": "column"
          }
         ],
         "selects": [
          {
           "column": "month",
           "type": "column"
          },
          {
           "alias": "column_b0ae628d5",
           "args": [
            {
             "column": "sales",
             "type": "column"
            }
           ],
           "function": "SUM",
           "type": "function"
          }
         ]
        }
       },
       "submitTime": 0,
       "subtype": "tableResultSubCmd.visualization",
       "tableResultIndex": 0,
       "tableResultSettingsMap": {},
       "useConsistentColors": false,
       "version": "CommandV1",
       "width": "auto",
       "workflows": null,
       "xColumns": null,
       "yColumns": null
      }
     },
     "output_type": "display_data"
    }
   ],
   "source": [
    "%sql\n",
    "\n",
    "SELECT \n",
    "  TRUNC(order_date, 'MM') as month,\n",
    "  SUM(sales_quantity) as sales\n",
    "FROM bronze_train\n",
    "GROUP BY TRUNC(order_date, 'MM')\n",
    "ORDER BY month;"
   ]
  },
  {
   "cell_type": "markdown",
   "metadata": {
    "application/vnd.databricks.v1+cell": {
     "cellMetadata": {
      "byteLimit": 2048000,
      "rowLimit": 10000
     },
     "inputWidgets": {},
     "nuid": "1431dea0-ba22-4104-bbe3-c190b14b3de2",
     "showTitle": false,
     "tableResultSettingsMap": {},
     "title": ""
    }
   },
   "source": [
    "データを曜日ごとに集計すると、日曜日にピークがあり、月曜日に急落し、週の後半にかけて回復するパターンが見られます。このパターンは5年間ほぼ安定しています。\n",
    "\n",
    "<!-- %md\n",
    "When the data is aggregated by day of the week, we see a pattern where sales peak on Sunday, drop sharply on Monday, and then recover towards the end of the week. This pattern has remained fairly stable over the past five years. -->"
   ]
  },
  {
   "cell_type": "code",
   "execution_count": 0,
   "metadata": {
    "application/vnd.databricks.v1+cell": {
     "cellMetadata": {
      "byteLimit": 2048000,
      "implicitDf": true,
      "rowLimit": 10000
     },
     "inputWidgets": {},
     "nuid": "5aaf081d-227c-43f2-b533-144fcf58ae22",
     "showTitle": true,
     "tableResultSettingsMap": {},
     "title": "View Weekday Trends"
    }
   },
   "outputs": [
    {
     "output_type": "display_data",
     "data": {
      "text/plain": [
       "Databricks visualization. Run in Databricks to view."
      ]
     },
     "metadata": {
      "application/vnd.databricks.v1.subcommand+json": {
       "baseErrorDetails": null,
       "bindings": {},
       "collapsed": false,
       "command": "%sql WITH q AS (SELECT\n  YEAR(order_date) as year,\n  (\n    CASE\n      WHEN DATE_FORMAT(order_date, 'E') = 'Sun' THEN 0\n      WHEN DATE_FORMAT(order_date, 'E') = 'Mon' THEN 1\n      WHEN DATE_FORMAT(order_date, 'E') = 'Tue' THEN 2\n      WHEN DATE_FORMAT(order_date, 'E') = 'Wed' THEN 3\n      WHEN DATE_FORMAT(order_date, 'E') = 'Thu' THEN 4\n      WHEN DATE_FORMAT(order_date, 'E') = 'Fri' THEN 5\n      WHEN DATE_FORMAT(order_date, 'E') = 'Sat' THEN 6\n    END\n  ) % 7 as weekday,\n  AVG(sales) as sales\nFROM (\n  SELECT \n    order_date,\n    SUM(sales) as sales\n  FROM bronze_train\n  GROUP BY order_date\n ) x\nGROUP BY year, weekday\nORDER BY year, weekday) SELECT `weekday`,SUM(`sales`) `column_b0ae628d12`,`year` FROM q GROUP BY `weekday`,`year`",
       "commandTitle": "可視化 1",
       "commandType": "auto",
       "commandVersion": 0,
       "commentThread": [],
       "commentsVisible": false,
       "contentSha256Hex": null,
       "customPlotOptions": {
        "redashChart": [
         {
          "key": "type",
          "value": "CHART"
         },
         {
          "key": "options",
          "value": {
           "alignYAxesAtZero": true,
           "coefficient": 1,
           "columnConfigurationMap": {
            "series": {
             "column": "year",
             "id": "column_b0ae628d17"
            },
            "x": {
             "column": "weekday",
             "id": "column_b0ae628d18"
            },
            "y": [
             {
              "column": "sales",
              "id": "column_b0ae628d12",
              "transform": "SUM"
             }
            ]
           },
           "dateTimeFormat": "DD/MM/YYYY HH:mm",
           "direction": {
            "type": "counterclockwise"
           },
           "error_y": {
            "type": "data",
            "visible": true
           },
           "globalSeriesType": "line",
           "isAggregationOn": true,
           "legend": {
            "traceorder": "normal"
           },
           "missingValuesAsZero": true,
           "numberFormat": "0,0.[00000]",
           "percentFormat": "0[.]00%",
           "series": {
            "error_y": {
             "type": "data",
             "visible": true
            },
            "stacking": null
           },
           "seriesOptions": {
            "column_b0ae628d12": {
             "type": "line",
             "yAxis": 0
            }
           },
           "showDataLabels": false,
           "sizemode": "diameter",
           "sortX": true,
           "sortY": true,
           "swappedAxes": false,
           "textFormat": "",
           "useAggregationsUi": true,
           "valuesOptions": {},
           "version": 2,
           "xAxis": {
            "labels": {
             "enabled": true
            },
            "type": "-"
           },
           "yAxis": [
            {
             "type": "-"
            },
            {
             "opposite": true,
             "type": "-"
            }
           ]
          }
         }
        ]
       },
       "datasetPreviewNameToCmdIdMap": {},
       "diffDeletes": [],
       "diffInserts": [],
       "displayType": "redashChart",
       "error": null,
       "errorDetails": null,
       "errorSummary": null,
       "errorTraceType": null,
       "finishTime": 0,
       "globalVars": {},
       "guid": "",
       "height": "auto",
       "hideCommandCode": false,
       "hideCommandResult": false,
       "iPythonMetadata": null,
       "inputWidgets": {},
       "isLockedInExamMode": false,
       "latestUser": "a user",
       "latestUserId": null,
       "listResultMetadata": null,
       "metadata": {
        "byteLimit": 2048000,
        "implicitDf": true,
        "rowLimit": 10000
       },
       "nuid": "c315c36d-cb6b-4d77-9fe7-dabd2e4b165d",
       "origId": 0,
       "parentHierarchy": [],
       "pivotAggregation": null,
       "pivotColumns": null,
       "position": 14.5,
       "resultDbfsErrorMessage": null,
       "resultDbfsStatus": "INLINED_IN_TREE",
       "results": null,
       "showCommandTitle": false,
       "startTime": 0,
       "state": "input",
       "streamStates": {},
       "subcommandOptions": {
        "queryPlan": {
         "groups": [
          {
           "column": "weekday",
           "type": "column"
          },
          {
           "column": "year",
           "type": "column"
          }
         ],
         "selects": [
          {
           "column": "weekday",
           "type": "column"
          },
          {
           "alias": "column_b0ae628d12",
           "args": [
            {
             "column": "sales",
             "type": "column"
            }
           ],
           "function": "SUM",
           "type": "function"
          },
          {
           "column": "year",
           "type": "column"
          }
         ]
        }
       },
       "submitTime": 0,
       "subtype": "tableResultSubCmd.visualization",
       "tableResultIndex": 0,
       "tableResultSettingsMap": {},
       "useConsistentColors": false,
       "version": "CommandV1",
       "width": "auto",
       "workflows": null,
       "xColumns": null,
       "yColumns": null
      }
     },
     "output_type": "display_data"
    }
   ],
   "source": [
    "%sql\n",
    "\n",
    "SELECT\n",
    "  YEAR(order_date) as year,\n",
    "  (\n",
    "    CASE\n",
    "      WHEN DATE_FORMAT(order_date, 'E') = 'Sun' THEN 0\n",
    "      WHEN DATE_FORMAT(order_date, 'E') = 'Mon' THEN 1\n",
    "      WHEN DATE_FORMAT(order_date, 'E') = 'Tue' THEN 2\n",
    "      WHEN DATE_FORMAT(order_date, 'E') = 'Wed' THEN 3\n",
    "      WHEN DATE_FORMAT(order_date, 'E') = 'Thu' THEN 4\n",
    "      WHEN DATE_FORMAT(order_date, 'E') = 'Fri' THEN 5\n",
    "      WHEN DATE_FORMAT(order_date, 'E') = 'Sat' THEN 6\n",
    "    END\n",
    "  ) % 7 as weekday,\n",
    "  AVG(sales) as sales\n",
    "FROM (\n",
    "  SELECT \n",
    "    order_date,\n",
    "    SUM(sales_quantity) as sales\n",
    "  FROM bronze_train\n",
    "  GROUP BY order_date\n",
    " ) x\n",
    "GROUP BY year, weekday\n",
    "ORDER BY year, weekday;"
   ]
  },
  {
   "cell_type": "markdown",
   "metadata": {
    "application/vnd.databricks.v1+cell": {
     "cellMetadata": {
      "byteLimit": 2048000,
      "rowLimit": 10000
     },
     "inputWidgets": {},
     "nuid": "8899966b-9339-4c4b-aef3-8e148b9e8c04",
     "showTitle": false,
     "tableResultSettingsMap": {},
     "title": ""
    }
   },
   "source": [
    "\n",
    "次は、データの基本的なパターンが把握できたので、次に予測モデルの構築方法を探っていきましょう。  \n",
    "04_model_training\n",
    "\n",
    "<!-- %md\n",
    "\n",
    "Now that we have a basic understanding of the data patterns, let's explore how to build a forecasting model.\n",
    "04_model_training -->"
   ]
  }
 ],
 "metadata": {
  "application/vnd.databricks.v1+notebook": {
   "dashboards": [],
   "environmentMetadata": {
    "base_environment": "",
    "client": "1"
   },
   "language": "python",
   "notebookMetadata": {
    "mostRecentlyExecutedCommandWithImplicitDF": {
     "commandId": 2822477370298142,
     "dataframes": [
      "_sqldf"
     ]
    },
    "pythonIndentUnit": 2,
    "widgetLayout": []
   },
   "notebookName": "04_EDA",
   "widgets": {
    "my_catalog": {
     "currentValue": "komae_demo",
     "nuid": "9cf12134-2cc8-426d-ac71-beb20eae87dc",
     "typedWidgetInfo": {
      "autoCreated": false,
      "defaultValue": "komae_demo",
      "label": null,
      "name": "my_catalog",
      "options": {
       "widgetDisplayType": "Text",
       "validationRegex": null
      },
      "parameterDataType": "String"
     },
     "widgetInfo": {
      "widgetType": "text",
      "defaultValue": "komae_demo",
      "label": null,
      "name": "my_catalog",
      "options": {
       "widgetType": "text",
       "autoCreated": null,
       "validationRegex": null
      }
     }
    },
    "my_schema": {
     "currentValue": "fine_grain_forecast",
     "nuid": "7a3eee2f-aac3-485f-873a-e2d53cbac959",
     "typedWidgetInfo": {
      "autoCreated": false,
      "defaultValue": "fine_grain_forecast",
      "label": "",
      "name": "my_schema",
      "options": {
       "widgetDisplayType": "Text",
       "validationRegex": null
      },
      "parameterDataType": "String"
     },
     "widgetInfo": {
      "widgetType": "text",
      "defaultValue": "fine_grain_forecast",
      "label": "",
      "name": "my_schema",
      "options": {
       "widgetType": "text",
       "autoCreated": false,
       "validationRegex": null
      }
     }
    }
   }
  },
  "language_info": {
   "name": "python"
  }
 },
 "nbformat": 4,
 "nbformat_minor": 0
}
