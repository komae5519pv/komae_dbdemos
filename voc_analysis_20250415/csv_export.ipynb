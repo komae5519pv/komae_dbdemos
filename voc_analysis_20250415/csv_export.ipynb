{
 "cells": [
  {
   "cell_type": "code",
   "execution_count": 0,
   "metadata": {
    "application/vnd.databricks.v1+cell": {
     "cellMetadata": {
      "byteLimit": 2048000,
      "rowLimit": 10000
     },
     "inputWidgets": {},
     "nuid": "8a244a50-f588-4c63-9a19-371704bdfd0e",
     "showTitle": false,
     "tableResultSettingsMap": {},
     "title": ""
    }
   },
   "outputs": [],
   "source": [
    "%run ./00_config"
   ]
  },
  {
   "cell_type": "code",
   "execution_count": 0,
   "metadata": {
    "application/vnd.databricks.v1+cell": {
     "cellMetadata": {
      "byteLimit": 2048000,
      "rowLimit": 10000
     },
     "inputWidgets": {},
     "nuid": "ecd75b6c-c4b2-4b68-ba26-696f1e2eb6f6",
     "showTitle": false,
     "tableResultSettingsMap": {},
     "title": ""
    }
   },
   "outputs": [],
   "source": [
    "# read files\n",
    "df = spark.table(f\"{MY_CATALOG}.{MY_SCHEMA}.sv_reviews_summaries_by_topics\")\n",
    "\n",
    "# export csv files\n",
    "df.coalesce(1).toPandas().to_csv(f\"/Volumes/{MY_CATALOG}/{MY_SCHEMA}/{MY_VOLUME}/sv_reviews_summaries_by_topics.csv\", index=False, quoting=1)\n",
    "\n",
    "print(df.count())\n",
    "print(df.columns)\n",
    "display(df.limit(100))"
   ]
  }
 ],
 "metadata": {
  "application/vnd.databricks.v1+notebook": {
   "computePreferences": null,
   "dashboards": [],
   "environmentMetadata": {
    "base_environment": "",
    "environment_version": "2"
   },
   "inputWidgetPreferences": null,
   "language": "python",
   "notebookMetadata": {
    "pythonIndentUnit": 2
   },
   "notebookName": "csv_export",
   "widgets": {}
  },
  "language_info": {
   "name": "python"
  }
 },
 "nbformat": 4,
 "nbformat_minor": 0
}
