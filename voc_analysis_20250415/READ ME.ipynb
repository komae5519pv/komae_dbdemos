{
 "cells": [
  {
   "cell_type": "markdown",
   "metadata": {
    "application/vnd.databricks.v1+cell": {
     "cellMetadata": {},
     "inputWidgets": {},
     "nuid": "679cf1a6-6052-4573-a306-239d251687ba",
     "showTitle": false,
     "tableResultSettingsMap": {},
     "title": ""
    }
   },
   "source": [
    "# British Airways Customer Feedback Dataset\n",
    "<div style=\"display: flex; justify-content: space-between;\">\n",
    "  <img src='https://github.com/komae5519pv/komae_dbdemos/blob/main/voc_analysis_20250415/_images/BritishAirways.jpg?raw=true' width='50%'/>\n",
    "</div>\n",
    "\n",
    "### データセットの概要\n",
    "これは、[AirlineQuality](https://www.airlinequality.com/)からWebスクレイピングされた、British Airwaysの顧客フィードバックをに関する情報が含まれており、以下のカラムがあります。\n",
    "\n",
    "### カラム説明\n",
    "| Column Name           | Description                                                |\n",
    "|-----------------------|------------------------------------------------------------|\n",
    "| No                    | 連番                                                       |\n",
    "| OverallRating         | 顧客が与えた全体評価                                        |\n",
    "| ReviewHeader          | 顧客のレビューの見出しやタイトル                            |\n",
    "| Name                  | フィードバックを提供した顧客の名前                          |\n",
    "| Datetime              | フィードバックが投稿された日時                              |\n",
    "| VerifiedReview        | レビューが確認済みかどうか                            |\n",
    "| ReviewBody            | 顧客の詳細なレビュー内容                                    |\n",
    "| TypeOfTraveller       | 旅行者の種類（例：ビジネス、レジャー）                      |\n",
    "| SeatType              | 旅行者のクラス（例：ビジネス、エコノミー）                  |\n",
    "| Route                 | 顧客が利用したフライトのルート                              |\n",
    "| DateFlown             | フライトが行われた日付                                      |\n",
    "| SeatComfort           | 座席の快適さに対する評価                                    |\n",
    "| CabinStaffService     | 客室スタッフのサービスに対する評価                          |\n",
    "| GroundService         | 地上サービスに対する評価                                    |\n",
    "| ValueForMoney         | 価格に対する価値の評価                                      |\n",
    "| Recommended           | 顧客がブリティッシュ・エアウェイズを推薦するかどうか         |\n",
    "| Aircraft              | フライトに使用された航空機                                  |\n",
    "| FoodandBeverages      | 食事と飲み物に対する評価                                    |\n",
    "| InflightEntertainment | 機内エンターテイメントに対する評価                         |\n",
    "| Wifi&Connectivity     | 機内Wi-Fiと接続性に対する評価                               |"
   ]
  },
  {
   "cell_type": "markdown",
   "metadata": {
    "application/vnd.databricks.v1+cell": {
     "cellMetadata": {},
     "inputWidgets": {},
     "nuid": "7fd3d197-4e76-4f99-a924-41dcff9b3406",
     "showTitle": false,
     "tableResultSettingsMap": {},
     "title": ""
    }
   },
   "source": [
    "#### 想定のディレクトリ構成\n",
    "```\n",
    "/<catalog_name>\n",
    "├── airline_reviews                           <- スキーマ\n",
    "│   ├── bz_reviews_en                         <- テーブル：bzonze/レビュー英語\n",
    "│   ├── sv_reviews_ja                         <- テーブル：silver/レビュー日本語\n",
    "│   ├── sv_reviews_summaries                  <- テーブル：silver/レビュー要約サマリ\n",
    "│   ├── sv_reviews_vectors                    <- テーブル：silver/レビュー要約サマリベクトル\n",
    "│   ├── raw_data                              <- ボリューム\n",
    "│       ├── EN/BA_AirlineReviews.csv             <- KaggleからダウンロードしたCSVを手動アップロード\n",
    "│       ├── JA/BA_AirlineReviews.csv             <- 日本語翻訳データをCSV出力\n",
    "```\n",
    "\n",
    "#### 処理概要\n",
    "1. レビュー内容を日本語翻訳\n",
    "1. レビュー内容をLLMでサマライズ -> サマリーをベクトルに変換\n",
    "1. ベクトルをNクラスターに分類 -> カテゴリごとにサマライズしてカテゴリ名を作成 -> ベクトルを2次元でプロット"
   ]
  }
 ],
 "metadata": {
  "application/vnd.databricks.v1+notebook": {
   "computePreferences": null,
   "dashboards": [],
   "environmentMetadata": {
    "base_environment": "",
    "environment_version": "2"
   },
   "inputWidgetPreferences": null,
   "language": "python",
   "notebookMetadata": {
    "mostRecentlyExecutedCommandWithImplicitDF": {
     "commandId": 1332008936166085,
     "dataframes": [
      "_sqldf"
     ]
    },
    "pythonIndentUnit": 2
   },
   "notebookName": "READ ME",
   "widgets": {}
  },
  "language_info": {
   "name": "python"
  }
 },
 "nbformat": 4,
 "nbformat_minor": 0
}
