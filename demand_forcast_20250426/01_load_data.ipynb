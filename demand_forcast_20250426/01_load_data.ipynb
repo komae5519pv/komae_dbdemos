{
 "cells": [
  {
   "cell_type": "code",
   "execution_count": 0,
   "metadata": {
    "application/vnd.databricks.v1+cell": {
     "cellMetadata": {
      "byteLimit": 2048000,
      "rowLimit": 10000
     },
     "inputWidgets": {},
     "nuid": "147a509d-d27b-4372-9da4-e573eebe014e",
     "showTitle": false,
     "tableResultSettingsMap": {},
     "title": ""
    }
   },
   "outputs": [],
   "source": [
    "%run ./00_config"
   ]
  },
  {
   "cell_type": "code",
   "execution_count": 0,
   "metadata": {
    "application/vnd.databricks.v1+cell": {
     "cellMetadata": {
      "byteLimit": 2048000,
      "rowLimit": 10000
     },
     "inputWidgets": {},
     "nuid": "04b73bcc-9b58-4350-afa5-735c5d1e3714",
     "showTitle": false,
     "tableResultSettingsMap": {},
     "title": ""
    }
   },
   "outputs": [],
   "source": [
    "import requests\n",
    "import os\n",
    "from concurrent.futures import ThreadPoolExecutor\n",
    "\n",
    "class DBDemos:\n",
    "    @staticmethod\n",
    "    def download_file_from_git(dest, owner, repo, path):\n",
    "        def download_file(url, destination):\n",
    "            local_filename = url.split('/')[-1]\n",
    "            with requests.get(url, stream=True) as r:\n",
    "                r.raise_for_status()\n",
    "                print(f'Saving {destination}/{local_filename}')\n",
    "                with open(f'{destination}/{local_filename}', 'wb') as f:\n",
    "                    for chunk in r.iter_content(chunk_size=8192):\n",
    "                        f.write(chunk)\n",
    "\n",
    "        if not os.path.exists(dest):\n",
    "            os.makedirs(dest)\n",
    "\n",
    "        api_url = f'https://api.github.com/repos/{owner}/{repo}/contents{path}'\n",
    "        files = requests.get(api_url).json()\n",
    "        download_urls = [f['download_url'] for f in files if isinstance(f, dict) and 'download_url' in f]\n",
    "\n",
    "        with ThreadPoolExecutor(max_workers=10) as executor:\n",
    "            executor.map(lambda url: download_file(url, dest), download_urls)"
   ]
  },
  {
   "cell_type": "code",
   "execution_count": 0,
   "metadata": {
    "application/vnd.databricks.v1+cell": {
     "cellMetadata": {
      "byteLimit": 2048000,
      "rowLimit": 10000
     },
     "inputWidgets": {},
     "nuid": "f43e8dd6-d985-43f2-a141-6ce1c9b2e31e",
     "showTitle": false,
     "tableResultSettingsMap": {},
     "title": ""
    }
   },
   "outputs": [],
   "source": [
    "# imageをダウンロード\n",
    "DBDemos.download_file_from_git(\n",
    "    dest=f\"/Volumes/{MY_CATALOG}/{MY_SCHEMA}/{MY_VOLUME_IMPORT}/image\",\n",
    "    owner=\"komae5519pv\",\n",
    "    repo=\"komae_dbdemos\",\n",
    "    path=\"/fine_grain_forecast_20241013/Customized_e2e_demand_forecasting/_image/\"\n",
    ")\n",
    "\n",
    "# trainをダウンロード\n",
    "DBDemos.download_file_from_git(\n",
    "    dest=f\"/Volumes/{MY_CATALOG}/{MY_SCHEMA}/{MY_VOLUME_IMPORT}/origin_data\",\n",
    "    owner=\"komae5519pv\",\n",
    "    repo=\"komae_dbdemos\",\n",
    "    path=\"/fine_grain_forecast_20241013/Customized_e2e_demand_forecasting/_origin_data/\"\n",
    ")"
   ]
  }
 ],
 "metadata": {
  "application/vnd.databricks.v1+notebook": {
   "computePreferences": null,
   "dashboards": [],
   "environmentMetadata": {
    "base_environment": "",
    "environment_version": "2"
   },
   "inputWidgetPreferences": null,
   "language": "python",
   "notebookMetadata": {
    "pythonIndentUnit": 2
   },
   "notebookName": "01_load_data",
   "widgets": {}
  },
  "language_info": {
   "name": "python"
  }
 },
 "nbformat": 4,
 "nbformat_minor": 0
}
