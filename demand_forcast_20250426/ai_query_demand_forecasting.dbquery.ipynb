{
 "cells": [
  {
   "cell_type": "code",
   "execution_count": 0,
   "metadata": {
    "application/vnd.databricks.v1+cell": {
     "cellMetadata": {},
     "inputWidgets": {},
     "nuid": "2afce703-9cb1-4d33-9d28-061bafd30c76",
     "showTitle": false,
     "tableResultSettingsMap": {},
     "title": ""
    }
   },
   "outputs": [],
   "source": [
    "SELECT \n",
    "  ds,\n",
    "  vm,\n",
    "  item,\n",
    "  y,\n",
    "  ai_query(\n",
    "    'demand_forecast_automl',\n",
    "    named_struct(\n",
    "      \"ds\", ds,\n",
    "      \"vm\", vm,\n",
    "      \"item\", item\n",
    "    )\n",
    "  ).yhat AS prediction\n",
    "FROM komae_demo_v3.demand_forecast.silver_inference_input\n",
    "WHERE\n",
    "  ds > '2016-12-31'"
   ]
  }
 ],
 "metadata": {
  "application/vnd.databricks.v1+notebook": {
   "computePreferences": null,
   "dashboards": [],
   "environmentMetadata": null,
   "inputWidgetPreferences": null,
   "language": "sql",
   "notebookMetadata": {
    "sqlQueryOptions": {
     "applyAutoLimit": true,
     "catalog": "ognjen_catalog",
     "schema": "dbignite_demo_cohorts"
    }
   },
   "notebookName": "ai_query_demand_forecasting.dbquery.ipynb",
   "widgets": {}
  },
  "language_info": {
   "name": "sql"
  }
 },
 "nbformat": 4,
 "nbformat_minor": 0
}
