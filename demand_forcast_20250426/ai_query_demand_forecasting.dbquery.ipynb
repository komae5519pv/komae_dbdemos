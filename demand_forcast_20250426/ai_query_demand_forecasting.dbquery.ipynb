{
 "cells": [
  {
   "cell_type": "code",
   "execution_count": 0,
   "metadata": {
    "application/vnd.databricks.v1+cell": {
     "cellMetadata": {},
     "inputWidgets": {},
     "nuid": "2afce703-9cb1-4d33-9d28-061bafd30c76",
     "showTitle": false,
     "tableResultSettingsMap": {},
     "title": ""
    }
   },
   "outputs": [
    {
     "output_type": "display_data",
     "data": {
      "text/plain": [
       "Databricks visualization. Run in Databricks to view."
      ]
     },
     "metadata": {
      "application/vnd.databricks.v1.subcommand+json": {
       "baseErrorDetails": null,
       "bindings": {},
       "collapsed": false,
       "command": "%sql WITH q AS (SELECT \n  ds,\n  vm,\n  item,\n  y,\n  ai_query(\n    'demand_forecast_automl',\n    named_struct(\n      \"ds\", ds,\n      \"vm\", vm,\n      \"item\", item\n    )\n  ).yhat AS prediction\nFROM komae_demo_v3.demand_forecast.silver_inference_input\nWHERE\n  ds > '2016-12-31') SELECT `ds`,SUM(`y`) `column_e691ffa788`,SUM(`prediction`) `column_e691ffa792` FROM q GROUP BY `ds`",
       "commandTitle": "Line 1",
       "commandType": "auto",
       "commandVersion": 0,
       "commentThread": [],
       "commentsVisible": false,
       "contentSha256Hex": null,
       "customPlotOptions": {
        "redashChart": [
         {
          "key": "type",
          "value": "CHART"
         },
         {
          "key": "options",
          "value": {
           "alignYAxesAtZero": true,
           "coefficient": 1,
           "columnConfigurationMap": {
            "x": {
             "column": "ds",
             "id": "column_e691ffa786"
            },
            "y": [
             {
              "column": "y",
              "id": "column_e691ffa788",
              "transform": "SUM"
             },
             {
              "column": "prediction",
              "id": "column_e691ffa792",
              "transform": "SUM"
             }
            ]
           },
           "condensed": true,
           "dateTimeFormat": "YYYY-MM-DD HH:mm:ss.SSS",
           "direction": {
            "type": "counterclockwise"
           },
           "error_y": {
            "type": "data",
            "visible": true
           },
           "globalSeriesType": "line",
           "isAggregationOn": true,
           "legend": {
            "traceorder": "normal"
           },
           "missingValuesAsZero": true,
           "numberFormat": "0,0.[00000]",
           "percentFormat": "0[.]00%",
           "series": {
            "error_y": {
             "type": "data",
             "visible": true
            },
            "stacking": null
           },
           "seriesOptions": {
            "column_e691ffa788": {
             "type": "line",
             "yAxis": 0
            },
            "column_e691ffa792": {
             "type": "line",
             "yAxis": 0
            }
           },
           "showDataLabels": false,
           "sizemode": "diameter",
           "sortX": true,
           "sortY": true,
           "swappedAxes": false,
           "textFormat": "",
           "useAggregationsUi": true,
           "valuesOptions": {},
           "version": 2,
           "withRowNumber": true,
           "xAxis": {
            "labels": {
             "enabled": true
            },
            "type": "-"
           },
           "yAxis": [
            {
             "title": {
              "text": "actual vs prediction"
             },
             "type": "-"
            },
            {
             "opposite": true,
             "type": "-"
            }
           ]
          }
         }
        ]
       },
       "datasetPreviewNameToCmdIdMap": {},
       "diffDeletes": [],
       "diffInserts": [],
       "displayType": "redashChart",
       "error": null,
       "errorDetails": null,
       "errorSummary": null,
       "errorTraceType": null,
       "finishTime": 0,
       "globalVars": {},
       "guid": "",
       "height": "auto",
       "hideCommandCode": false,
       "hideCommandResult": false,
       "iPythonMetadata": null,
       "inputWidgets": {},
       "isLockedInExamMode": false,
       "latestUser": "a user",
       "latestUserId": null,
       "listResultMetadata": null,
       "metadata": {},
       "nuid": "f1a6950d-b779-438b-a35e-5686e89c214d",
       "origId": 0,
       "parentHierarchy": [],
       "pivotAggregation": null,
       "pivotColumns": null,
       "position": 2.0,
       "resultDbfsErrorMessage": null,
       "resultDbfsStatus": "INLINED_IN_TREE",
       "results": null,
       "showCommandTitle": false,
       "startTime": 0,
       "state": "input",
       "streamStates": {},
       "subcommandOptions": {
        "queryPlan": {
         "groups": [
          {
           "column": "ds",
           "type": "column"
          }
         ],
         "selects": [
          {
           "column": "ds",
           "type": "column"
          },
          {
           "alias": "column_e691ffa788",
           "args": [
            {
             "column": "y",
             "type": "column"
            }
           ],
           "function": "SUM",
           "type": "function"
          },
          {
           "alias": "column_e691ffa792",
           "args": [
            {
             "column": "prediction",
             "type": "column"
            }
           ],
           "function": "SUM",
           "type": "function"
          }
         ]
        },
        "redashId": "b11e16e5-e11e-46d5-9232-2ddbf125ba8d",
        "redashLastUpdated": 1746948109000
       },
       "submitTime": 0,
       "subtype": "tableResultSubCmd.visualization",
       "tableResultIndex": 0,
       "tableResultSettingsMap": {},
       "useConsistentColors": false,
       "version": "CommandV1",
       "width": "auto",
       "workflows": null,
       "xColumns": null,
       "yColumns": null
      }
     },
     "output_type": "display_data"
    }
   ],
   "source": [
    "SELECT \n",
    "  ds,\n",
    "  vm,\n",
    "  item,\n",
    "  y,\n",
    "  ai_query(\n",
    "    'demand_forecast_automl',\n",
    "    named_struct(\n",
    "      \"ds\", ds,\n",
    "      \"vm\", vm,\n",
    "      \"item\", item\n",
    "    )\n",
    "  ).yhat AS prediction\n",
    "FROM komae_demo_v3.demand_forecast.silver_inference_input     -- お使いのカタログ名に直してから実行してください\n",
    "WHERE\n",
    "  ds > '2016-12-31'"
   ]
  }
 ],
 "metadata": {
  "application/vnd.databricks.v1+notebook": {
   "computePreferences": null,
   "dashboards": [],
   "environmentMetadata": null,
   "inputWidgetPreferences": null,
   "language": "sql",
   "notebookMetadata": {
    "pythonIndentUnit": 2,
    "sqlQueryOptions": {
     "applyAutoLimit": true,
     "catalog": "ognjen_catalog",
     "schema": "dbignite_demo_cohorts"
    }
   },
   "notebookName": "ai_query_demand_forecasting.dbquery.ipynb",
   "widgets": {}
  },
  "language_info": {
   "name": "sql"
  }
 },
 "nbformat": 4,
 "nbformat_minor": 0
}
