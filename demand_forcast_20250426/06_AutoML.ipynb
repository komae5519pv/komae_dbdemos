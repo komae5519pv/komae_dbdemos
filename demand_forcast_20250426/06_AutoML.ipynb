{
 "cells": [
  {
   "cell_type": "markdown",
   "metadata": {
    "application/vnd.databricks.v1+cell": {
     "cellMetadata": {},
     "inputWidgets": {},
     "nuid": "a4b04a62-64d8-4fdf-bdaf-fb7648778123",
     "showTitle": false,
     "tableResultSettingsMap": {},
     "title": ""
    }
   },
   "source": [
    "# AutoMLを活用したモデル構築\n",
    "\n",
    "AutoMLを活用したモデルトレーニングおよびMLflowトラッキングを行います\n",
    "\n",
    "**注意**\n",
    "ノートブックから時系列予測のAutoMLを行う際、フォルダ名、ノートブック名にマルチバイト文字(日本語)を含めないでください。エラーになります。\n",
    "\n",
    "**要件**\n",
    "クラスタ Runtime 15.4 ML LTS以上を使用してください。\n",
    "\n",
    "<!-- %md\n",
    "### Model Building Using AutoML\n",
    "We will perform model training using AutoML and track the results with MLflow. -->"
   ]
  },
  {
   "cell_type": "markdown",
   "metadata": {
    "application/vnd.databricks.v1+cell": {
     "cellMetadata": {},
     "inputWidgets": {},
     "nuid": "2f65f8b7-2296-49ad-8302-2d3bd156763d",
     "showTitle": false,
     "tableResultSettingsMap": {},
     "title": ""
    }
   },
   "source": [
    "\n",
    "<img src='https://github.com/komae5519pv/komae_dbdemos/blob/main/fine_grain_forecast_20241013/Customized_e2e_demand_forecasting/_image_for_notebook/model_train.png?raw=true' width='1200'/>"
   ]
  },
  {
   "cell_type": "markdown",
   "metadata": {
    "application/vnd.databricks.v1+cell": {
     "cellMetadata": {},
     "inputWidgets": {},
     "nuid": "69b07eaf-60fa-40ab-a657-e3a3e24f3b43",
     "showTitle": false,
     "tableResultSettingsMap": {},
     "title": ""
    }
   },
   "source": [
    "## Step1. AutoMLトレーニング\n",
    "\n",
    "以下のコマンドはAutoMLのランを起動します。予測すべきカラムを`target_col`引数と時間のカラムを指定する必要があります。ランが完了すると、トレーニングコードを検証するためにベストなトライアルのノートブックへのリンクにアクセスすることができます。\n",
    "\n",
    "このサンプルでは以下の指定も行っています。\n",
    "- `horizon=90`, AutoMLが未来の90日を予測するように指定 \n",
    "- `frequency=\"d\"`, 日毎の予測を行うことを指定 \n",
    "- `primary_metric=\"mdape\"`, トレーニングの際に最適化すべきメトリックを指定"
   ]
  },
  {
   "cell_type": "code",
   "execution_count": 0,
   "metadata": {
    "application/vnd.databricks.v1+cell": {
     "cellMetadata": {
      "byteLimit": 2048000,
      "rowLimit": 10000
     },
     "inputWidgets": {},
     "nuid": "b3603a11-5170-46f5-8c33-3ebf1b026ef3",
     "showTitle": false,
     "tableResultSettingsMap": {},
     "title": ""
    }
   },
   "outputs": [],
   "source": [
    "%run ./00_config"
   ]
  },
  {
   "cell_type": "markdown",
   "metadata": {
    "application/vnd.databricks.v1+cell": {
     "cellMetadata": {},
     "inputWidgets": {},
     "nuid": "00b0171d-1d92-4af4-8cbf-35c77d842a0a",
     "showTitle": false,
     "tableResultSettingsMap": {},
     "title": ""
    }
   },
   "source": [
    "### トレーニングデータの準備\n",
    "\n",
    "日毎の店舗・アイテム・日付ごとの売上を含むデータセットです。  \n",
    "ここでのゴールは、向こう90日の店舗・アイテム・日付ごとの売上の予測を行うことです。\n",
    "\n",
    "<!-- %md  \n",
    "### Prepare the Training Data\n",
    "\n",
    "The dataset contains daily sales for each store, item, and date.  \n",
    "The goal here is to forecast the sales for each store, item, and date for the next 90 days. -->"
   ]
  },
  {
   "cell_type": "code",
   "execution_count": 0,
   "metadata": {
    "application/vnd.databricks.v1+cell": {
     "cellMetadata": {
      "byteLimit": 2048000,
      "rowLimit": 10000
     },
     "inputWidgets": {},
     "nuid": "b6e9fd63-c4fe-4172-8663-b50fd76e189a",
     "showTitle": false,
     "tableResultSettingsMap": {},
     "title": ""
    }
   },
   "outputs": [],
   "source": [
    "vm = 1\n",
    "item = 1\n",
    "\n",
    "query = f'''\n",
    "  SELECT\n",
    "    vm,\n",
    "    item,\n",
    "    CAST(ds as date) as ds,\n",
    "    SUM(y) as y\n",
    "  FROM silver_train\n",
    "  WHERE vm = {vm} AND item = {item}  -- 単一店舗x単一商品\n",
    "  GROUP BY vm, item, ds\n",
    "  ORDER BY vm, item, ds\n",
    "  '''\n",
    "\n",
    "train_df = (\n",
    "  spark\n",
    "    .sql( query )\n",
    "    .repartition(sc.defaultParallelism, ['vm', 'item'])\n",
    "    .dropna()\n",
    "  ).cache()\n",
    "\n",
    "display(train_df.orderBy(['ds','vm','item']))"
   ]
  },
  {
   "cell_type": "code",
   "execution_count": 0,
   "metadata": {
    "application/vnd.databricks.v1+cell": {
     "cellMetadata": {
      "byteLimit": 2048000,
      "rowLimit": 10000
     },
     "inputWidgets": {},
     "nuid": "f3d84ce7-4a13-4749-a395-1db7cec4e32e",
     "showTitle": false,
     "tableResultSettingsMap": {},
     "title": ""
    },
    "jupyter": {
     "outputs_hidden": true,
     "source_hidden": true
    }
   },
   "outputs": [],
   "source": [
    "# vm = 1\n",
    "# item = 1\n",
    "\n",
    "# query = f'''\n",
    "#   SELECT\n",
    "#     vending_machine_id as vm,\n",
    "#     item_id as item,\n",
    "#     CAST(order_date as date) as ds,\n",
    "#     SUM(sales_quantity) as y\n",
    "#   FROM bronze_train\n",
    "#   WHERE vending_machine_id = {vm} AND item_id = {item}  -- 単一店舗x単一商品\n",
    "#   GROUP BY vm, item, ds\n",
    "#   ORDER BY vm, item, ds\n",
    "#   '''\n",
    "\n",
    "# train_df = (\n",
    "#   spark\n",
    "#     .sql( query )\n",
    "#     .repartition(sc.defaultParallelism, ['vm', 'item'])\n",
    "#     .dropna()\n",
    "#   ).cache()\n",
    "\n",
    "# display(train_df.orderBy(['ds','vm','item']))"
   ]
  },
  {
   "cell_type": "markdown",
   "metadata": {
    "application/vnd.databricks.v1+cell": {
     "cellMetadata": {},
     "inputWidgets": {},
     "nuid": "6cd5273f-fd06-4293-bc0a-b25e57b09c7b",
     "showTitle": false,
     "tableResultSettingsMap": {},
     "title": ""
    }
   },
   "source": [
    "### AutoMLを活用したトレーニング実行\n",
    "\n",
    "<!-- %md  \n",
    "## Step 2: Execute Training Using AutoML -->"
   ]
  },
  {
   "cell_type": "code",
   "execution_count": 0,
   "metadata": {
    "application/vnd.databricks.v1+cell": {
     "cellMetadata": {
      "byteLimit": 2048000,
      "rowLimit": 10000
     },
     "inputWidgets": {},
     "nuid": "d5a023ab-06e1-46a1-85e1-ef1c8853118c",
     "showTitle": false,
     "tableResultSettingsMap": {},
     "title": ""
    }
   },
   "outputs": [],
   "source": [
    "from databricks import automl\n",
    "import logging\n",
    "\n",
    "# Prophetの情報レベルのメッセージを無効化\n",
    "logging.getLogger(\"py4j\").setLevel(logging.WARNING)"
   ]
  },
  {
   "cell_type": "code",
   "execution_count": 0,
   "metadata": {
    "application/vnd.databricks.v1+cell": {
     "cellMetadata": {
      "byteLimit": 2048000,
      "rowLimit": 10000
     },
     "inputWidgets": {},
     "nuid": "6acd4c0f-e0ec-4562-a201-ea70a483c4cb",
     "showTitle": true,
     "tableResultSettingsMap": {},
     "title": "AutoML training"
    }
   },
   "outputs": [],
   "source": [
    "from datetime import datetime\n",
    "\n",
    "# エクスペリメントのパスと名前を設定\n",
    "xp_path = f\"/Shared/{MY_CATALOG}_demand_forecast_automl\"\n",
    "xp_name = f\"demand_forecast_store_{vm}_item_{item}_{datetime.now().strftime('%Y-%m-%d_%H:%M:%S')}\"\n",
    "\n",
    "# AutoMLを使用してモデルをトレーニング\n",
    "automl_run = automl.forecast(\n",
    "    experiment_name=xp_name,    # 実験名\n",
    "    experiment_dir=xp_path,     # 実験ディレクトリ\n",
    "    dataset=train_df,           # データセット\n",
    "    target_col=\"y\",             # 予測対象の列\n",
    "    time_col=\"ds\",              # 時間を表す列\n",
    "    frequency=\"d\",              # データの頻度（日次）\n",
    "    horizon=90,                 # 90日先まで予測\n",
    "    timeout_minutes=10,         # タイムアウト時間（分）\n",
    "    primary_metric=\"mdape\",     # 評価メトリクス（MDAPE）\n",
    "    country_code=\"US\",          # 祝日の対象国（米国）\n",
    ")"
   ]
  },
  {
   "cell_type": "markdown",
   "metadata": {
    "application/vnd.databricks.v1+cell": {
     "cellMetadata": {},
     "inputWidgets": {},
     "nuid": "2853566d-bbad-4b41-a54b-1bf7e60545f6",
     "showTitle": false,
     "tableResultSettingsMap": {},
     "title": ""
    }
   },
   "source": [
    "### 次のステップ\n",
    "\n",
    "* 上のノートブックとエクスペリメントを探索\n",
    "* ベストなトライアルのノートブックのメトリックが好適であれば、次のセルに進むことができます。\n",
    "* ベストトライアルによるモデルを改善したいのであれば、以下をトライします。\n",
    "  * ベストトライアルのノートブックに移動し、クローンします。\n",
    "  * モデルを改善するためにノートブックに必要な修正を加えます。\n",
    "  * モデルに満足したら、トレーニングされたモデルが記録されているアーティファクトのURIをメモします。そのURIを次のセルの`model_uri`に指定します。"
   ]
  },
  {
   "cell_type": "code",
   "execution_count": 0,
   "metadata": {
    "application/vnd.databricks.v1+cell": {
     "cellMetadata": {
      "byteLimit": 2048000,
      "rowLimit": 10000
     },
     "inputWidgets": {},
     "nuid": "e338c762-a5d9-496a-b0a4-b5cd27fec260",
     "showTitle": false,
     "tableResultSettingsMap": {},
     "title": ""
    }
   },
   "outputs": [],
   "source": [
    "from databricks.sdk import WorkspaceClient\n",
    "from databricks.sdk.service import iam\n",
    "\n",
    "# 全ユーザー(グループ名: account users)にエクスペリメントの権限を設定\n",
    "w = WorkspaceClient()\n",
    "try:\n",
    "    status = w.workspace.get_status(f\"{xp_path}/{xp_name}\")\n",
    "    w.permissions.set(\"experiments\", request_object_id=status.object_id, access_control_list=[\n",
    "        iam.AccessControlRequest(group_name=\"account users\", permission_level=iam.PermissionLevel.CAN_MANAGE)\n",
    "    ])\n",
    "    print(f\"Experiment on {xp_path}/{xp_name} was set public\")\n",
    "except Exception as e:\n",
    "    print(f\"Error setting up shared experiment {xp_path}/{xp_name} permission: {e}\")\n",
    "\n",
    "# # 全ユーザーがdbdemos共有実験にアクセスできるようにする\n",
    "# DBDemos.set_experiment_permission(f\"{xp_path}/{xp_name}\")"
   ]
  },
  {
   "cell_type": "markdown",
   "metadata": {
    "application/vnd.databricks.v1+cell": {
     "cellMetadata": {},
     "inputWidgets": {},
     "nuid": "02c538fc-a649-4738-a0b2-fc2913f5a0c6",
     "showTitle": false,
     "tableResultSettingsMap": {},
     "title": ""
    }
   },
   "source": [
    "## Step 2: MLflowを用いてベストモデルをロード\n",
    "\n",
    "MLflowの`mlflow.pyfunc`を用いて、AutoMLの`trial_id`を用いてモデルを容易にPythonにインポートすることができます。"
   ]
  },
  {
   "cell_type": "code",
   "execution_count": 0,
   "metadata": {
    "application/vnd.databricks.v1+cell": {
     "cellMetadata": {
      "byteLimit": 2048000,
      "rowLimit": 10000
     },
     "inputWidgets": {},
     "nuid": "d55ccced-3898-4d97-ac45-5e4791550e62",
     "showTitle": false,
     "tableResultSettingsMap": {},
     "title": ""
    }
   },
   "outputs": [],
   "source": [
    "import mlflow.pyfunc\n",
    "from mlflow.tracking import MlflowClient\n",
    "\n",
    "run_id = MlflowClient()\n",
    "trial_id = automl_run.best_trial.mlflow_run_id\n",
    "\n",
    "model_uri = \"runs:/{run_id}/model\".format(run_id=trial_id)\n",
    "pyfunc_model = mlflow.pyfunc.load_model(model_uri)"
   ]
  },
  {
   "cell_type": "markdown",
   "metadata": {
    "application/vnd.databricks.v1+cell": {
     "cellMetadata": {},
     "inputWidgets": {},
     "nuid": "99a75830-22d1-487d-a8e7-0e510bf4fe70",
     "showTitle": false,
     "tableResultSettingsMap": {},
     "title": ""
    }
   },
   "source": [
    "## Step 3: ロードしたモデルで予測する\n",
    "\n",
    "予測を行うために`predict_timeseries`のモデルメソッドを呼び出します。詳細は[Prophet documentation](https://facebook.github.io/prophet/docs/quick_start.html#python-api)をご覧ください。"
   ]
  },
  {
   "cell_type": "code",
   "execution_count": 0,
   "metadata": {
    "application/vnd.databricks.v1+cell": {
     "cellMetadata": {
      "byteLimit": 2048000,
      "rowLimit": 10000
     },
     "inputWidgets": {},
     "nuid": "668d41e7-4926-4994-b707-ac456e562df5",
     "showTitle": false,
     "tableResultSettingsMap": {},
     "title": ""
    }
   },
   "outputs": [
    {
     "output_type": "display_data",
     "data": {
      "text/plain": [
       "Databricks visualization. Run in Databricks to view."
      ]
     },
     "metadata": {
      "application/vnd.databricks.v1.subcommand+json": {
       "baseErrorDetails": null,
       "bindings": {},
       "collapsed": false,
       "command": "%python\n__backend_agg_display_orig = display\n__backend_agg_dfs = []\ndef __backend_agg_display_new(df):\n    __backend_agg_df_modules = [\"pandas.core.frame\", \"databricks.koalas.frame\", \"pyspark.sql.dataframe\", \"pyspark.pandas.frame\", \"pyspark.sql.connect.dataframe\"]\n    if (type(df).__module__ in __backend_agg_df_modules and type(df).__name__ == 'DataFrame') or isinstance(df, list):\n        __backend_agg_dfs.append(df)\n\ndisplay = __backend_agg_display_new\n\ndef __backend_agg_user_code_fn():\n    import base64\n    exec(base64.standard_b64decode(\"IyDkuojmuKzjgpLnlJ/miJDvvIjpgY7ljrvjg4fjg7zjgr/jgoLlkKvjgoHjgabmnKrmnaU5MOaXpemWk++8iQpmb3JlY2FzdHMgPSBweWZ1bmNfbW9kZWwuX21vZGVsX2ltcGwucHl0aG9uX21vZGVsLnByZWRpY3RfdGltZXNlcmllcyhpbmNsdWRlX2hpc3Rvcnk9VHJ1ZSkKCmRpc3BsYXkoZm9yZWNhc3RzKQ==\").decode())\n\ntry:\n    # run user code\n    __backend_agg_user_code_fn()\n\n    #reset display function\n    display = __backend_agg_display_orig\n\n    if len(__backend_agg_dfs) > 0:\n        # create a temp view\n        if type(__backend_agg_dfs[0]).__module__ == \"databricks.koalas.frame\":\n            # koalas dataframe\n            __backend_agg_dfs[0].to_spark().createOrReplaceTempView(\"DatabricksView10b8e29\")\n        elif type(__backend_agg_dfs[0]).__module__ == \"pandas.core.frame\" or isinstance(__backend_agg_dfs[0], list):\n            # pandas dataframe\n            spark.createDataFrame(__backend_agg_dfs[0]).createOrReplaceTempView(\"DatabricksView10b8e29\")\n        else:\n            __backend_agg_dfs[0].createOrReplaceTempView(\"DatabricksView10b8e29\")\n        #run backend agg\n        display(spark.sql(\"\"\"WITH q AS (select * from DatabricksView10b8e29) SELECT `ds`,SUM(`yhat`) `column_e2914df94` FROM q GROUP BY `ds`\"\"\"))\n    else:\n        displayHTML(\"dataframe no longer exists. If you're using dataframe.display(), use display(dataframe) instead.\")\n\n\nfinally:\n    spark.sql(\"drop view if exists DatabricksView10b8e29\")\n    display = __backend_agg_display_orig\n    del __backend_agg_display_new\n    del __backend_agg_display_orig\n    del __backend_agg_dfs\n    del __backend_agg_user_code_fn\n\n",
       "commandTitle": "可視化 1",
       "commandType": "auto",
       "commandVersion": 0,
       "commentThread": [],
       "commentsVisible": false,
       "contentSha256Hex": null,
       "customPlotOptions": {
        "redashChart": [
         {
          "key": "type",
          "value": "CHART"
         },
         {
          "key": "options",
          "value": {
           "alignYAxesAtZero": true,
           "coefficient": 1,
           "columnConfigurationMap": {
            "x": {
             "column": "ds",
             "id": "column_e2914df91"
            },
            "y": [
             {
              "column": "yhat",
              "id": "column_e2914df94",
              "transform": "SUM"
             }
            ]
           },
           "dateTimeFormat": "DD/MM/YYYY HH:mm",
           "direction": {
            "type": "counterclockwise"
           },
           "error_y": {
            "type": "data",
            "visible": true
           },
           "globalSeriesType": "line",
           "isAggregationOn": true,
           "legend": {
            "traceorder": "normal"
           },
           "missingValuesAsZero": true,
           "numberFormat": "0,0.[00000]",
           "percentFormat": "0[.]00%",
           "series": {
            "error_y": {
             "type": "data",
             "visible": true
            },
            "stacking": null
           },
           "seriesOptions": {
            "column_e2914df94": {
             "type": "line",
             "yAxis": 0
            }
           },
           "showDataLabels": false,
           "sizemode": "diameter",
           "sortX": true,
           "sortY": true,
           "swappedAxes": false,
           "textFormat": "",
           "useAggregationsUi": true,
           "valuesOptions": {},
           "version": 2,
           "xAxis": {
            "labels": {
             "enabled": true
            },
            "type": "-"
           },
           "yAxis": [
            {
             "type": "-"
            },
            {
             "opposite": true,
             "type": "-"
            }
           ]
          }
         }
        ]
       },
       "datasetPreviewNameToCmdIdMap": {},
       "diffDeletes": [],
       "diffInserts": [],
       "displayType": "redashChart",
       "error": null,
       "errorDetails": null,
       "errorSummary": null,
       "errorTraceType": null,
       "finishTime": 0,
       "globalVars": {},
       "guid": "",
       "height": "auto",
       "hideCommandCode": false,
       "hideCommandResult": false,
       "iPythonMetadata": null,
       "inputWidgets": {},
       "isLockedInExamMode": false,
       "latestUser": "a user",
       "latestUserId": null,
       "listResultMetadata": null,
       "metadata": {
        "byteLimit": 2048000,
        "rowLimit": 10000
       },
       "nuid": "0bb753b9-e06d-410e-92b7-e69317d052dc",
       "origId": 0,
       "parentHierarchy": [],
       "pivotAggregation": null,
       "pivotColumns": null,
       "position": 34.3671875,
       "resultDbfsErrorMessage": null,
       "resultDbfsStatus": "INLINED_IN_TREE",
       "results": null,
       "showCommandTitle": false,
       "startTime": 0,
       "state": "input",
       "streamStates": {},
       "subcommandOptions": {
        "queryPlan": {
         "groups": [
          {
           "column": "ds",
           "type": "column"
          }
         ],
         "selects": [
          {
           "column": "ds",
           "type": "column"
          },
          {
           "alias": "column_e2914df94",
           "args": [
            {
             "column": "yhat",
             "type": "column"
            }
           ],
           "function": "SUM",
           "type": "function"
          }
         ]
        }
       },
       "submitTime": 0,
       "subtype": "tableResultSubCmd.visualization",
       "tableResultIndex": 0,
       "tableResultSettingsMap": {},
       "useConsistentColors": false,
       "version": "CommandV1",
       "width": "auto",
       "workflows": null,
       "xColumns": null,
       "yColumns": null
      }
     },
     "output_type": "display_data"
    }
   ],
   "source": [
    "# 予測を生成（過去データも含めて未来90日間）\n",
    "forecasts = pyfunc_model._model_impl.python_model.predict_timeseries(include_history=True)\n",
    "\n",
    "display(forecasts)"
   ]
  },
  {
   "cell_type": "markdown",
   "metadata": {
    "application/vnd.databricks.v1+cell": {
     "cellMetadata": {},
     "inputWidgets": {},
     "nuid": "f6df7120-063e-478c-9eec-5b2f79fc55b9",
     "showTitle": false,
     "tableResultSettingsMap": {},
     "title": ""
    }
   },
   "source": [
    "## Step 4: 予測の変化点とトレンドをプロット\n",
    "\n",
    "以下のプロットでは、太い黒線は時系列データセットを示しており、青い線がモデルによる予測値を示しています。"
   ]
  },
  {
   "cell_type": "code",
   "execution_count": 0,
   "metadata": {
    "application/vnd.databricks.v1+cell": {
     "cellMetadata": {
      "byteLimit": 2048000,
      "rowLimit": 10000
     },
     "inputWidgets": {},
     "nuid": "b0a63bbf-881f-4b33-b1d3-1a305b83e5ff",
     "showTitle": false,
     "tableResultSettingsMap": {},
     "title": ""
    }
   },
   "outputs": [],
   "source": [
    "from pyspark.sql import functions as F\n",
    "\n",
    "df_true = train_df.groupBy(\"ds\").agg(F.avg(\"y\").alias(\"y\")).toPandas()\n",
    "# display(df_true)"
   ]
  },
  {
   "cell_type": "code",
   "execution_count": 0,
   "metadata": {
    "application/vnd.databricks.v1+cell": {
     "cellMetadata": {
      "byteLimit": 2048000,
      "rowLimit": 10000
     },
     "inputWidgets": {},
     "nuid": "79ffb975-4eb7-4ae1-8229-093cdb0e7735",
     "showTitle": false,
     "tableResultSettingsMap": {},
     "title": ""
    }
   },
   "outputs": [],
   "source": [
    "import matplotlib.pyplot as plt\n",
    "import pandas as pd\n",
    "\n",
    "# 日付['ds'] を datetime 型に変換\n",
    "df_true['ds'] = pd.to_datetime(df_true['ds'], errors='coerce')\n",
    "forecasts['ds'] = pd.to_datetime(forecasts['ds'], errors='coerce')\n",
    "\n",
    "# プロット\n",
    "fig = plt.figure(facecolor='w', figsize=(10, 6))\n",
    "ax = fig.add_subplot(111)\n",
    "forecasts = pyfunc_model._model_impl.python_model.predict_timeseries(include_history=True)\n",
    "fcst_t = forecasts['ds'].dt.to_pydatetime()\n",
    "ax.plot(df_true['ds'].dt.to_pydatetime(), df_true['y'], 'k.', label='Observed data points')\n",
    "ax.plot(fcst_t, forecasts['yhat'], ls='-', c='#0072B2', label='Forecasts')\n",
    "ax.fill_between(fcst_t, forecasts['yhat_lower'], forecasts['yhat_upper'],\n",
    "                color='#0072B2', alpha=0.2, label='Uncertainty interval')\n",
    "ax.legend()\n",
    "plt.show()"
   ]
  },
  {
   "cell_type": "markdown",
   "metadata": {
    "application/vnd.databricks.v1+cell": {
     "cellMetadata": {},
     "inputWidgets": {},
     "nuid": "9ef1b269-04de-4b90-81bd-1ebfa419f87c",
     "showTitle": false,
     "tableResultSettingsMap": {},
     "title": ""
    }
   },
   "source": [
    "## Step 5: 予測結果テーブルの作成"
   ]
  },
  {
   "cell_type": "code",
   "execution_count": 0,
   "metadata": {
    "application/vnd.databricks.v1+cell": {
     "cellMetadata": {
      "byteLimit": 2048000,
      "rowLimit": 10000
     },
     "inputWidgets": {},
     "nuid": "64067d3f-23c8-41aa-adf3-8220e97323ab",
     "showTitle": false,
     "tableResultSettingsMap": {},
     "title": ""
    }
   },
   "outputs": [],
   "source": [
    "from pyspark.sql import functions as F\n",
    "from pyspark.sql.types import DateType\n",
    "\n",
    "# 必要な列のみを train_df から取得（vm, item, ds, y）\n",
    "train_df_selected = train_df.select(\"vm\", \"item\", \"ds\", \"y\")\n",
    "\n",
    "# forecasts を Spark DataFrame に変換\n",
    "forecast_spark = spark.createDataFrame(forecasts)\n",
    "\n",
    "# 予測結果に vm と item の情報を結合\n",
    "forecast_spark = forecast_spark.join(train_df_selected, on='ds', how='left')\n",
    "\n",
    "# ds列を正しい日付形式に変換\n",
    "forecast_spark = forecast_spark.withColumn('ds', F.col('ds').cast(DateType()))\n",
    "\n",
    "# 新しい予測結果を一時テーブルとして保存\n",
    "forecast_spark.createOrReplaceTempView('new_forecasts_automl')\n",
    "\n",
    "display(forecast_spark)"
   ]
  },
  {
   "cell_type": "code",
   "execution_count": 0,
   "metadata": {
    "application/vnd.databricks.v1+cell": {
     "cellMetadata": {
      "byteLimit": 2048000,
      "implicitDf": true,
      "rowLimit": 10000
     },
     "inputWidgets": {},
     "nuid": "6a3bce90-4959-42e2-9abe-abceec1c90b5",
     "showTitle": false,
     "tableResultSettingsMap": {},
     "title": ""
    }
   },
   "outputs": [],
   "source": [
    "%sql\n",
    "\n",
    "-- Deltaテーブルにマージして保存\n",
    "CREATE TABLE IF NOT EXISTS silver_forecasts_automl (\n",
    "  order_date DATE,\n",
    "  vending_machine_id INTEGER,\n",
    "  item_id INTEGER,\n",
    "  actual_sales_quantity FLOAT,\n",
    "  forecast_sales_quantity FLOAT,\n",
    "  forecast_sales_quantity_upper FLOAT,\n",
    "  forecast_sales_quantity_lower FLOAT,\n",
    "  sales_inference_date DATE\n",
    "  )\n",
    "USING DELTA\n",
    "PARTITIONED BY (order_date);\n",
    "\n",
    "MERGE INTO silver_forecasts_automl f\n",
    "USING new_forecasts_automl n\n",
    "ON f.order_date = n.ds AND f.vending_machine_id = n.vm AND f.item_id = n.item\n",
    "WHEN MATCHED THEN UPDATE SET\n",
    "  f.order_date = n.ds,\n",
    "  f.vending_machine_id = n.vm,\n",
    "  f.item_id = n.item,\n",
    "  f.actual_sales_quantity = n.y,\n",
    "  f.forecast_sales_quantity = n.yhat,\n",
    "  f.forecast_sales_quantity_upper = n.yhat_upper,\n",
    "  f.forecast_sales_quantity_lower = n.yhat_lower,\n",
    "  f.sales_inference_date = current_date()\n",
    "WHEN NOT MATCHED THEN INSERT (\n",
    "  order_date,\n",
    "  vending_machine_id,\n",
    "  item_id,\n",
    "  actual_sales_quantity,\n",
    "  forecast_sales_quantity,\n",
    "  forecast_sales_quantity_upper,\n",
    "  forecast_sales_quantity_lower,\n",
    "  sales_inference_date)\n",
    "VALUES (\n",
    "  n.ds,\n",
    "  n.vm,\n",
    "  n.item,\n",
    "  n.y,\n",
    "  n.yhat,\n",
    "  n.yhat_upper,\n",
    "  n.yhat_lower,\n",
    "  current_date());"
   ]
  },
  {
   "cell_type": "code",
   "execution_count": 0,
   "metadata": {
    "application/vnd.databricks.v1+cell": {
     "cellMetadata": {
      "byteLimit": 2048000,
      "rowLimit": 10000
     },
     "inputWidgets": {},
     "nuid": "ccf9d408-c8de-4e23-852c-695891a4620f",
     "showTitle": true,
     "tableResultSettingsMap": {},
     "title": "コメント追加"
    }
   },
   "outputs": [],
   "source": [
    "# テーブル名\n",
    "table_name = f'{MY_CATALOG}.{MY_SCHEMA}.silver_forecasts_automl'\n",
    "\n",
    "# テーブルコメント\n",
    "comment = \"\"\"\n",
    "`silver_forecasts_automl`テーブルは、自動販売機の需要予測結果データを管理します。AutoMLで構築したモデルを使用しています。\n",
    "\"\"\"\n",
    "spark.sql(f'COMMENT ON TABLE {table_name} IS \"{comment}\"')\n",
    "\n",
    "# カラムコメント\n",
    "column_comments = {\n",
    "    \"order_date\": \"受注日（主キー、外部キー）、YYYY-MM-DDフォーマット\",\n",
    "    \"vending_machine_id\": \"自動販売機ID（主キー、外部キー）、例: 10\",\n",
    "    \"item_id\": \"商品ID（主キー、外部キー）、例: 10\",\n",
    "    \"actual_sales_quantity\": \"実績販売数、例: 50\",\n",
    "    \"forecast_sales_quantity\": \"予測販売数、例: 50\",\n",
    "    \"forecast_sales_quantity_upper\": \"予測販売数（上限）、例: 60\",\n",
    "    \"forecast_sales_quantity_lower\": \"予測販売数（下限）、例: 40\",\n",
    "    \"sales_inference_date\": \"販売数予測日、YYYY-MM-DDフォーマット\"\n",
    "}\n",
    "\n",
    "for column, comment in column_comments.items():\n",
    "    # シングルクォートをエスケープ\n",
    "    escaped_comment = comment.replace(\"'\", \"\\\\'\")\n",
    "    sql_query = f\"ALTER TABLE {table_name} ALTER COLUMN {column} COMMENT '{escaped_comment}'\"\n",
    "    spark.sql(sql_query)"
   ]
  },
  {
   "cell_type": "markdown",
   "metadata": {
    "application/vnd.databricks.v1+cell": {
     "cellMetadata": {},
     "inputWidgets": {},
     "nuid": "e76d3aa7-598d-45ee-b758-ba37fb173dd8",
     "showTitle": false,
     "tableResultSettingsMap": {},
     "title": ""
    }
   },
   "source": [
    "これで、各店舗・アイテムの組み合わせごとの予測を作成し、基本的な評価指標を生成しました。この予測データを確認するには、シンプルなクエリを発行できます（ここでは、商品1を対象に店舗1から3までに限定しています）。\n",
    "\n",
    "<!-- %md\n",
    "We now have constructed a forecast for each store-item combination and generated basic evaluation metrics for each.  To see this forecast data, we can issue a simple query (limited here to product 1 across stores 1 through 3): -->"
   ]
  },
  {
   "cell_type": "code",
   "execution_count": 0,
   "metadata": {
    "application/vnd.databricks.v1+cell": {
     "cellMetadata": {
      "byteLimit": 2048000,
      "implicitDf": true,
      "rowLimit": 10000
     },
     "inputWidgets": {},
     "nuid": "e904097e-2611-4aa1-acae-695e161a920d",
     "showTitle": false,
     "tableResultSettingsMap": {},
     "title": ""
    }
   },
   "outputs": [
    {
     "output_type": "display_data",
     "data": {
      "text/plain": [
       "Databricks visualization. Run in Databricks to view."
      ]
     },
     "metadata": {
      "application/vnd.databricks.v1.subcommand+json": {
       "baseErrorDetails": null,
       "bindings": {},
       "collapsed": false,
       "command": "%sql WITH q AS (SELECT\n  vending_machine_id,\n  order_date,\n  forecast_sales_quantity,\n  forecast_sales_quantity_upper,\n  forecast_sales_quantity_lower\nFROM silver_forecasts_automl a\nWHERE item_id = 1 AND\n      \n      vending_machine_id IN (1) AND\n      order_date >= '2013-01-01' AND\n      sales_inference_date=current_date()\nORDER BY vending_machine_id) SELECT `order_date`,SUM(`forecast_sales_quantity`) `column_542a0de74`,SUM(`forecast_sales_quantity_upper`) `column_542a0de77`,SUM(`forecast_sales_quantity_lower`) `column_542a0de710` FROM q GROUP BY `order_date`",
       "commandTitle": "可視化 1",
       "commandType": "auto",
       "commandVersion": 0,
       "commentThread": [],
       "commentsVisible": false,
       "contentSha256Hex": null,
       "customPlotOptions": {
        "redashChart": [
         {
          "key": "type",
          "value": "CHART"
         },
         {
          "key": "options",
          "value": {
           "alignYAxesAtZero": true,
           "coefficient": 1,
           "columnConfigurationMap": {
            "x": {
             "column": "order_date",
             "id": "column_542a0de71"
            },
            "y": [
             {
              "column": "forecast_sales_quantity",
              "id": "column_542a0de74",
              "transform": "SUM"
             },
             {
              "column": "forecast_sales_quantity_upper",
              "id": "column_542a0de77",
              "transform": "SUM"
             },
             {
              "column": "forecast_sales_quantity_lower",
              "id": "column_542a0de710",
              "transform": "SUM"
             }
            ]
           },
           "dateTimeFormat": "DD/MM/YYYY HH:mm",
           "direction": {
            "type": "counterclockwise"
           },
           "error_y": {
            "type": "data",
            "visible": true
           },
           "globalSeriesType": "line",
           "isAggregationOn": true,
           "legend": {
            "traceorder": "normal"
           },
           "missingValuesAsZero": true,
           "numberFormat": "0,0.[00000]",
           "percentFormat": "0[.]00%",
           "series": {
            "error_y": {
             "type": "data",
             "visible": true
            },
            "stacking": null
           },
           "seriesOptions": {
            "column_542a0de710": {
             "type": "line",
             "yAxis": 0
            },
            "column_542a0de74": {
             "type": "line",
             "yAxis": 0
            },
            "column_542a0de77": {
             "type": "line",
             "yAxis": 0
            }
           },
           "showDataLabels": false,
           "sizemode": "diameter",
           "sortX": true,
           "sortY": true,
           "swappedAxes": false,
           "textFormat": "",
           "useAggregationsUi": true,
           "valuesOptions": {},
           "version": 2,
           "xAxis": {
            "labels": {
             "enabled": true
            },
            "type": "-"
           },
           "yAxis": [
            {
             "type": "-"
            },
            {
             "opposite": true,
             "type": "-"
            }
           ]
          }
         }
        ]
       },
       "datasetPreviewNameToCmdIdMap": {},
       "diffDeletes": [],
       "diffInserts": [],
       "displayType": "redashChart",
       "error": null,
       "errorDetails": null,
       "errorSummary": null,
       "errorTraceType": null,
       "finishTime": 0,
       "globalVars": {},
       "guid": "",
       "height": "auto",
       "hideCommandCode": false,
       "hideCommandResult": false,
       "iPythonMetadata": null,
       "inputWidgets": {},
       "isLockedInExamMode": false,
       "latestUser": "a user",
       "latestUserId": null,
       "listResultMetadata": null,
       "metadata": {
        "byteLimit": 2048000,
        "implicitDf": true,
        "rowLimit": 10000
       },
       "nuid": "cf2d0685-d4ee-48a9-901f-f9eea5b9bf05",
       "origId": 0,
       "parentHierarchy": [],
       "pivotAggregation": null,
       "pivotColumns": null,
       "position": 34.37091064453125,
       "resultDbfsErrorMessage": null,
       "resultDbfsStatus": "INLINED_IN_TREE",
       "results": null,
       "showCommandTitle": false,
       "startTime": 0,
       "state": "input",
       "streamStates": {},
       "subcommandOptions": {
        "queryPlan": {
         "groups": [
          {
           "column": "order_date",
           "type": "column"
          }
         ],
         "selects": [
          {
           "column": "order_date",
           "type": "column"
          },
          {
           "alias": "column_542a0de74",
           "args": [
            {
             "column": "forecast_sales_quantity",
             "type": "column"
            }
           ],
           "function": "SUM",
           "type": "function"
          },
          {
           "alias": "column_542a0de77",
           "args": [
            {
             "column": "forecast_sales_quantity_upper",
             "type": "column"
            }
           ],
           "function": "SUM",
           "type": "function"
          },
          {
           "alias": "column_542a0de710",
           "args": [
            {
             "column": "forecast_sales_quantity_lower",
             "type": "column"
            }
           ],
           "function": "SUM",
           "type": "function"
          }
         ]
        }
       },
       "submitTime": 0,
       "subtype": "tableResultSubCmd.visualization",
       "tableResultIndex": 0,
       "tableResultSettingsMap": {},
       "useConsistentColors": false,
       "version": "CommandV1",
       "width": "auto",
       "workflows": null,
       "xColumns": null,
       "yColumns": null
      }
     },
     "output_type": "display_data"
    }
   ],
   "source": [
    "%sql\n",
    "\n",
    "SELECT\n",
    "  vending_machine_id,\n",
    "  order_date,\n",
    "  forecast_sales_quantity,\n",
    "  forecast_sales_quantity_upper,\n",
    "  forecast_sales_quantity_lower\n",
    "FROM silver_forecasts_automl a\n",
    "WHERE item_id = 1 AND\n",
    "      -- vending_machine_id IN (1, 2, 3) AND\n",
    "      vending_machine_id IN (1) AND\n",
    "      order_date >= '2013-01-01' AND\n",
    "      sales_inference_date=current_date()\n",
    "ORDER BY vending_machine_id"
   ]
  },
  {
   "cell_type": "markdown",
   "metadata": {
    "application/vnd.databricks.v1+cell": {
     "cellMetadata": {},
     "inputWidgets": {},
     "nuid": "79b510b2-04a4-46bf-b1cc-9af884d75b09",
     "showTitle": false,
     "tableResultSettingsMap": {},
     "title": ""
    }
   },
   "source": [
    "## Step 3: ベストモデルのUnity Catalogに登録\n",
    "モデルの準備が整いました。AutoMLの実行で生成されたノートブックを確認し、必要に応じてカスタマイズすることができます。  \n",
    "このデモでは、モデルが準備できていると仮定し、Model Registryに本番環境としてデプロイします。\n",
    "\n",
    "ベストモデルをProphetWrapperでラップし、カスタム予測ロジックを追加し、yhat, yhat_upper, yhat_lowerなどの追加情報を確実に出力できるようにします。  \n",
    "その上でカスタマイズしたモデル（ProphetWrapper）をMLflowにログします。 このモデルをUnity Catalog（UC）に登録します。\n",
    "<!-- %md  \n",
    "## Deploy the Model to Production\n",
    "The model is now ready. You can review the notebook generated by the AutoML run and customize it as needed.\n",
    "In this demo, we assume that the model is ready and will deploy it as a production model in the Model Registry. -->"
   ]
  },
  {
   "cell_type": "code",
   "execution_count": 0,
   "metadata": {
    "application/vnd.databricks.v1+cell": {
     "cellMetadata": {
      "byteLimit": 2048000,
      "rowLimit": 10000
     },
     "inputWidgets": {},
     "nuid": "f52389f4-5c4f-403a-84ed-342b241ad455",
     "showTitle": false,
     "tableResultSettingsMap": {},
     "title": ""
    }
   },
   "outputs": [],
   "source": [
    "from mlflow import MlflowClient\n",
    "from databricks.sdk import WorkspaceClient\n",
    "import databricks.sdk.service.catalog as c\n",
    "\n",
    "# Databricks Unity Catalogを使用してモデルを保存します\n",
    "mlflow.set_registry_uri('databricks-uc')\n",
    "client = MlflowClient()\n",
    "\n",
    "# カタログにモデルを追加\n",
    "latest_model = mlflow.register_model(f'runs:/{automl_run.best_trial.mlflow_run_id}/model', MODEL_NAME_AUTOML)\n",
    "\n",
    "# UCエイリアスを使用してプロダクション対応としてフラグを立てる\n",
    "client.set_registered_model_alias(name=f\"{MODEL_NAME_AUTOML}\", alias=\"prod\", version=latest_model.version)\n",
    "\n",
    "# WorkspaceClientのインスタンスを作成\n",
    "sdk_client = WorkspaceClient()\n",
    "\n",
    "# 全ユーザー(グループ名: account users)にモデルの権限を設定\n",
    "sdk_client.grants.update(c.SecurableType.FUNCTION, f\"{MY_CATALOG}.{MY_SCHEMA}.{MODEL_NAME_AUTOML}\", \n",
    "                         changes=[c.PermissionsChange(add=[c.Privilege[\"ALL_PRIVILEGES\"]], principal=\"account users\")])"
   ]
  }
 ],
 "metadata": {
  "application/vnd.databricks.v1+notebook": {
   "computePreferences": null,
   "dashboards": [],
   "environmentMetadata": {
    "base_environment": "",
    "environment_version": "1"
   },
   "inputWidgetPreferences": null,
   "language": "python",
   "notebookMetadata": {
    "mostRecentlyExecutedCommandWithImplicitDF": {
     "commandId": 2822477370321809,
     "dataframes": [
      "_sqldf"
     ]
    },
    "pythonIndentUnit": 2,
    "widgetLayout": []
   },
   "notebookName": "06_AutoML",
   "widgets": {}
  },
  "language_info": {
   "name": "python"
  }
 },
 "nbformat": 4,
 "nbformat_minor": 0
}
